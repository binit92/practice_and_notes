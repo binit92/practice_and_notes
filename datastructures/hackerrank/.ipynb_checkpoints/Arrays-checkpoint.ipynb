{
 "cells": [
  {
   "cell_type": "markdown",
   "metadata": {},
   "source": [
    "### Arrays-DS\n",
    "Given an array, print all N integers in reverse order as a single line of space-seperated integers.\n",
    "https://www.hackerrank.com/challenges/arrays-ds/problem"
   ]
  },
  {
   "cell_type": "code",
   "execution_count": 16,
   "metadata": {},
   "outputs": [
    {
     "name": "stdout",
     "output_type": "stream",
     "text": [
      "4\n",
      "12345\n"
     ]
    }
   ],
   "source": [
    "n = int(input().strip())\n",
    "arr = [int(arr_temp) for arr_temp in input().strip().split(' ')]"
   ]
  },
  {
   "cell_type": "markdown",
   "metadata": {},
   "source": [
    "Note that **reversed(...) does not return a list**. You can get a reversed list using *list(reversed(array))*"
   ]
  },
  {
   "cell_type": "code",
   "execution_count": 21,
   "metadata": {},
   "outputs": [
    {
     "name": "stdout",
     "output_type": "stream",
     "text": [
      "12345 "
     ]
    }
   ],
   "source": [
    "#Easy Way\n",
    "for i in reversed(arr):\n",
    "      print(i, end= \" \")\n"
   ]
  },
  {
   "cell_type": "markdown",
   "metadata": {},
   "source": [
    "### 2D Array - DS"
   ]
  },
  {
   "cell_type": "markdown",
   "metadata": {},
   "source": [
    "Calculate the hourglass sum for every hourglass in *A* , then print the maximum hourglass sum.https://www.hackerrank.com/challenges/2d-array/problem"
   ]
  },
  {
   "cell_type": "code",
   "execution_count": 4,
   "metadata": {},
   "outputs": [
    {
     "name": "stdout",
     "output_type": "stream",
     "text": [
      "19\n"
     ]
    }
   ],
   "source": [
    "arr = [[1,1,1,0,0,0],[0,1,0,0,0,0],[1,1,1,0,0,0],[0,0,2,4,4,0],[0,0,0,2,0,0,],[0,0,1,2,4,0]]\n",
    "#for arr_i in range(6):\n",
    "#   arr_t = [int(arr_temp) for arr_temp in input().strip().split(' ')]\n",
    "#   arr.append(arr_t)\n",
    "\n",
    "#hourglass (i,j i,j+1 i,j+2),(i+1,j+1),(i+2,j+1 i+2,j+2) \n",
    "max=-9999\n",
    "\n",
    "for i in range(4):\n",
    "    for j in range(4):       \n",
    "        sum = arr[i][j]+arr[i][j+1]+arr[i][j+2] + arr[i+1][j+1] + arr[i+2][j]+arr[i+2][j+1]+arr[i+2][j+2]       \n",
    "        if sum>max:\n",
    "            max = sum\n",
    "print(max)"
   ]
  },
  {
   "cell_type": "markdown",
   "metadata": {},
   "source": [
    "### Dynamic Array\n",
    "https://www.hackerrank.com/challenges/dynamic-array/problem"
   ]
  },
  {
   "cell_type": "code",
   "execution_count": 6,
   "metadata": {},
   "outputs": [
    {
     "name": "stdout",
     "output_type": "stream",
     "text": [
      "2 5\n",
      "1 0 5\n",
      "1 1 7\n",
      "1 0 3 \n",
      "2 1 0\n",
      "7\n",
      "2 1 1\n",
      "3\n"
     ]
    }
   ],
   "source": [
    "arr = [int(arr_temp) for arr_temp in input().strip().split(' ')]\n",
    "\n",
    "# the number of sequence \n",
    "N = arr[0]\n",
    "# the number of queries\n",
    "Q = arr[1]\n",
    "\n",
    "# creating a list of N empty sequences\n",
    "seqList = [[]] * N\n",
    "lastAnswer = 0\n",
    "\n",
    "for i in range(Q):\n",
    "    arg =  input().split(' ')\n",
    "    query = int(arg[0])\n",
    "    x = int(arg[1])\n",
    "    y = int(arg[2])\n",
    "    \n",
    "    if query == 1:\n",
    "        index = (x^lastAnswer)%N\n",
    "        seqList[index]= seqList[index] + [y]\n",
    "    elif query == 2:\n",
    "        index = (x^lastAnswer)%N\n",
    "        seq = seqList[index]\n",
    "        number = y%len(seq)\n",
    "        lastAnswer = int(seqList[index][number])\n",
    "        print(lastAnswer)\n",
    "        "
   ]
  },
  {
   "cell_type": "markdown",
   "metadata": {},
   "source": [
    "### Left Rotation\n",
    "Given an array of  integers and a number, , perform  left rotations on the array. Then print the updated array as a single line of space-separated integers.\n",
    "https://www.hackerrank.com/challenges/array-left-rotation/problem"
   ]
  },
  {
   "cell_type": "code",
   "execution_count": 10,
   "metadata": {},
   "outputs": [
    {
     "name": "stdout",
     "output_type": "stream",
     "text": [
      "5 4 \n",
      "1 2 3 4 5\n",
      "5 1 2 3 4\n"
     ]
    }
   ],
   "source": [
    "def leftRotation(a, d):    \n",
    "    b = [0] *len(a)    \n",
    "    for x in range(len(a)):        \n",
    "        if (x+d)<len(a):             \n",
    "            b[x] = a[x+d]\n",
    "        else:\n",
    "            index = (x+d)%len(a)\n",
    "            if not index>0:\n",
    "                index = 0\n",
    "            b[x] = a[index]                         \n",
    "    return b    \n",
    "       \n",
    "if __name__ == \"__main__\":\n",
    "    n, d = input().strip().split(' ')\n",
    "    n, d = [int(n), int(d)]\n",
    "    a = list(map(int, input().strip().split(' ')))\n",
    "    result = leftRotation(a, d)\n",
    "    print (\" \".join(map(str, result)))"
   ]
  },
  {
   "cell_type": "markdown",
   "metadata": {},
   "source": [
    "### Sparse Arrays\n",
    "There is a collection of *N* strings ( There can be multiple occurences of a particular string ). Each string's length is no more than *20*  characters. There are also *Q* queries. For each query, you are given a string, and you need to find out how many times this string occurs in the given collection of *N* strings.\n",
    "https://www.hackerrank.com/challenges/sparse-arrays/problem"
   ]
  },
  {
   "cell_type": "code",
   "execution_count": null,
   "metadata": {},
   "outputs": [],
   "source": []
  }
 ],
 "metadata": {
  "kernelspec": {
   "display_name": "Python 3",
   "language": "python",
   "name": "python3"
  },
  "language_info": {
   "codemirror_mode": {
    "name": "ipython",
    "version": 3
   },
   "file_extension": ".py",
   "mimetype": "text/x-python",
   "name": "python",
   "nbconvert_exporter": "python",
   "pygments_lexer": "ipython3",
   "version": "3.5.4"
  }
 },
 "nbformat": 4,
 "nbformat_minor": 2
}
