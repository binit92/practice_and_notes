{
 "cells": [
  {
   "cell_type": "markdown",
   "metadata": {},
   "source": [
    "**Generators**\n",
    "\n",
    "If you read the previous chapter, you know that iterators are objects that are regularly used with for loops. In other words, iterators are objects that implement the iteration protocol. A Python generator is a convenient way to implement an iterator. Instead of a class, a generator is a function which returns a value each time the yield keyword is used. Here’s an example of a generator to count the values between two numbers:"
   ]
  },
  {
   "cell_type": "code",
   "execution_count": 2,
   "metadata": {},
   "outputs": [
    {
     "name": "stdout",
     "output_type": "stream",
     "text": [
      "2\n",
      "3\n"
     ]
    }
   ],
   "source": [
    "def myrange(a, b):\n",
    "  while a < b:\n",
    "    yield a\n",
    "    a += 1\n",
    "a = myrange(2, 4) # call the generator function which returns an object\n",
    "print (next(a)) # iterate through items using next\n",
    "print (next(a))"
   ]
  },
  {
   "cell_type": "markdown",
   "metadata": {},
   "source": [
    "Like Iterators, generators can be used with for loop\n",
    "\n",
    "Under the hood, iterators behave similarly to iterators.."
   ]
  },
  {
   "cell_type": "code",
   "execution_count": 4,
   "metadata": {},
   "outputs": [
    {
     "name": "stdout",
     "output_type": "stream",
     "text": [
      "1\n",
      "2\n",
      "3\n"
     ]
    }
   ],
   "source": [
    "def myrange(a, b):\n",
    "    while a < b:\n",
    "      yield a\n",
    "      a += 1\n",
    "for value in myrange(1, 4):\n",
    "  print(value)"
   ]
  },
  {
   "cell_type": "markdown",
   "metadata": {},
   "source": [
    "The interesting thing about generators is the **yield** keyword. The **yield** keyword works much like the return keyword, but—unlike return—it allows the function to eventually resume its execution. In other words, each time the next value of a generator is needed, Python wakes up the function and resumes its execution from the yield line as if the function had never exited.\n",
    "\n",
    "Generator functions can use other functions inside. For instance, it is very common to use the range function to iterate over a sequence of numbers:"
   ]
  },
  {
   "cell_type": "code",
   "execution_count": 5,
   "metadata": {},
   "outputs": [
    {
     "name": "stdout",
     "output_type": "stream",
     "text": [
      "0\n",
      "1\n",
      "4\n"
     ]
    }
   ],
   "source": [
    "def squares(n):\n",
    "  for value in range(n):\n",
    "    yield value * value\n",
    "\n",
    "sqr = squares(8)\n",
    "print(next(sqr))\n",
    "print(next(sqr))\n",
    "print(next(sqr))"
   ]
  },
  {
   "cell_type": "markdown",
   "metadata": {},
   "source": [
    "**Challenge1** \n",
    "\n",
    "Create a generator to yield all the odd numbers from 1 to n."
   ]
  },
  {
   "cell_type": "code",
   "execution_count": 14,
   "metadata": {},
   "outputs": [
    {
     "name": "stdout",
     "output_type": "stream",
     "text": [
      "1\n",
      "3\n",
      "5\n",
      "7\n",
      "9\n",
      "11\n",
      "13\n"
     ]
    }
   ],
   "source": [
    "def odd(n):\n",
    "    for val in range(n+1):\n",
    "        if val %2 is not 0:\n",
    "            yield val\n",
    "        else:\n",
    "            val += 1\n",
    "\n",
    "for j in odd(13):\n",
    "    print(j)"
   ]
  },
  {
   "cell_type": "markdown",
   "metadata": {},
   "source": [
    "**Challenge2** \n",
    "\n",
    "Implement a generator reverse(n) that returns All numbers from n down to 0.\n",
    "\n"
   ]
  },
  {
   "cell_type": "code",
   "execution_count": 15,
   "metadata": {},
   "outputs": [
    {
     "name": "stdout",
     "output_type": "stream",
     "text": [
      "10\n",
      "9\n",
      "8\n",
      "7\n",
      "6\n",
      "5\n",
      "4\n",
      "3\n",
      "2\n",
      "1\n",
      "0\n"
     ]
    }
   ],
   "source": [
    "def reverse(n):\n",
    "    for val in range(n,-1,-1):\n",
    "        yield val\n",
    "for j in reverse(10):\n",
    "    print(j)"
   ]
  },
  {
   "cell_type": "markdown",
   "metadata": {},
   "source": [
    "**Challenge3** \n",
    "\n",
    "Create a generator to return the Fibonacci sequence starting from the first element up to n.\n"
   ]
  },
  {
   "cell_type": "code",
   "execution_count": 17,
   "metadata": {},
   "outputs": [
    {
     "name": "stdout",
     "output_type": "stream",
     "text": [
      "0\n",
      "1\n",
      "1\n",
      "2\n",
      "3\n",
      "5\n",
      "8\n",
      "13\n"
     ]
    }
   ],
   "source": [
    "def fibonacci(n):\n",
    "  myarray = []\n",
    "  for val in range(0,n):\n",
    "    if val == 0 or val == 1:\n",
    "      myarray.append(val)     \n",
    "    else:\n",
    "      myarray.append(myarray[val-1] + myarray[val-2])\n",
    "    yield myarray[val]\n",
    "    \n",
    "for j in fibonacci(8):\n",
    "    print(j)"
   ]
  },
  {
   "cell_type": "code",
   "execution_count": null,
   "metadata": {},
   "outputs": [],
   "source": []
  }
 ],
 "metadata": {
  "kernelspec": {
   "display_name": "Python 3",
   "language": "python",
   "name": "python3"
  },
  "language_info": {
   "codemirror_mode": {
    "name": "ipython",
    "version": 3
   },
   "file_extension": ".py",
   "mimetype": "text/x-python",
   "name": "python",
   "nbconvert_exporter": "python",
   "pygments_lexer": "ipython3",
   "version": "3.7.6"
  }
 },
 "nbformat": 4,
 "nbformat_minor": 4
}
