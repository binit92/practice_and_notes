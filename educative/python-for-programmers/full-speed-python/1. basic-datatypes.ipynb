{
 "cells": [
  {
   "cell_type": "code",
   "execution_count": 1,
   "metadata": {},
   "outputs": [
    {
     "name": "stdout",
     "output_type": "stream",
     "text": [
      "3.7.6 (default, Jan  8 2020, 20:23:39) [MSC v.1916 64 bit (AMD64)]\n"
     ]
    }
   ],
   "source": [
    "# Python version\n",
    "import sys\n",
    "print(sys.version)"
   ]
  },
  {
   "cell_type": "code",
   "execution_count": 5,
   "metadata": {},
   "outputs": [
    {
     "name": "stdout",
     "output_type": "stream",
     "text": [
      "2 3.14\n",
      "add 5.140000000000001\n",
      "subtract -1.1400000000000001\n",
      "product 6.28\n",
      "quotient 1.57\n",
      "floored quotient 2.0\n",
      "remainder 2.0\n",
      "negated -2\n",
      "not negataed 2\n",
      "absolute value 2\n",
      "converted to integer:  3\n",
      "converted to float:  3.14\n",
      "complex number with real and imaginary part (2+3.14j)\n",
      "conjugate of a complex number (2-3.14j)\n",
      "divmod pair: (0.0, 2.0)\n",
      "power:  9.8596\n",
      "power:  9.8596\n"
     ]
    }
   ],
   "source": [
    "# Basic data types\n",
    "# details: https://docs.python.org/3/library/stdtypes.html#numeric-types-int-float-complex\n",
    "\n",
    "a = 2 \n",
    "b = 3.14\n",
    "print( a , b )\n",
    "\n",
    "print(\"add\", a + b)\n",
    "print(\"subtract\", a - b)\n",
    "print(\"product\", a * b )\n",
    "print(\"quotient\", b / a)\n",
    "print(\"floored quotient\" , a+2 // b)\n",
    "print(\"remainder\" , a % b)\n",
    "print(\"negated\" , -a)\n",
    "print(\"not negataed\", +a)\n",
    "print(\"absolute value\", abs(a))\n",
    "print(\"converted to integer: \", int(b))\n",
    "print(\"converted to float: \", float(b))\n",
    "c = complex(a,b)\n",
    "print(\"complex number with real and imaginary part\", c )\n",
    "print(\"conjugate of a complex number\", c.conjugate())\n",
    "print(\"divmod pair:\", divmod(a,b))\n",
    "print(\"power: \", pow(b,a))\n",
    "print(\"power: \", pow(b,a))\n"
   ]
  },
  {
   "cell_type": "code",
   "execution_count": 16,
   "metadata": {},
   "outputs": [
    {
     "name": "stdout",
     "output_type": "stream",
     "text": [
      "0\n",
      "1\n",
      "True\n",
      "False\n",
      "helloworld\n",
      "hellohellohello\n"
     ]
    }
   ],
   "source": [
    "# checks whether even or odd\n",
    "def parity(x):\n",
    "    return x % 2\n",
    "print(parity(2))\n",
    "print(parity(3))\n",
    "\n",
    "# Checks the range \n",
    "def inRange(x, y):\n",
    "    return (x < 1/3 < y)\n",
    "print(inRange(0,3))\n",
    "print(inRange(2,3))\n",
    "\n",
    "#strings\n",
    "hi = \"hello\"\n",
    "hi += \"world\"\n",
    "print(hi)\n",
    "print(\"hello\" * 3)\n"
   ]
  },
  {
   "cell_type": "markdown",
   "metadata": {},
   "source": [
    "String Transformation"
   ]
  },
  {
   "cell_type": "code",
   "execution_count": 15,
   "metadata": {},
   "outputs": [
    {
     "ename": "TypeError",
     "evalue": "can only concatenate str (not \"int\") to str",
     "output_type": "error",
     "traceback": [
      "\u001b[1;31m---------------------------------------------------------------------------\u001b[0m",
      "\u001b[1;31mTypeError\u001b[0m                                 Traceback (most recent call last)",
      "\u001b[1;32m<ipython-input-15-db32b5c7160b>\u001b[0m in \u001b[0;36m<module>\u001b[1;34m\u001b[0m\n\u001b[0;32m      1\u001b[0m \u001b[1;31m# cannot concatenate integers\u001b[0m\u001b[1;33m\u001b[0m\u001b[1;33m\u001b[0m\u001b[1;33m\u001b[0m\u001b[0m\n\u001b[1;32m----> 2\u001b[1;33m \u001b[0mhi\u001b[0m \u001b[1;33m+=\u001b[0m \u001b[1;36m3\u001b[0m\u001b[1;33m\u001b[0m\u001b[1;33m\u001b[0m\u001b[0m\n\u001b[0m",
      "\u001b[1;31mTypeError\u001b[0m: can only concatenate str (not \"int\") to str"
     ]
    }
   ],
   "source": [
    "# cannot concatenate integers \n",
    "hi += 3"
   ]
  },
  {
   "cell_type": "code",
   "execution_count": 33,
   "metadata": {},
   "outputs": [
    {
     "name": "stdout",
     "output_type": "stream",
     "text": [
      "aaabbbccc\n",
      "a\n",
      "aabbbccc\n",
      "a\n"
     ]
    }
   ],
   "source": [
    "# python documentation on strings\n",
    "# https://docs.python.org/3/library/stdtypes.html?#text-sequence-type-str\n",
    "def getStr(x):\n",
    "    return x[0]* 3 + x[1]*3 + x[2]*3\n",
    "s = getStr(\"abc\")\n",
    "print(s)\n",
    "print(s[2])\n",
    "print(s[1:])\n",
    "print(s[:1])"
   ]
  },
  {
   "cell_type": "code",
   "execution_count": 34,
   "metadata": {},
   "outputs": [
    {
     "name": "stdout",
     "output_type": "stream",
     "text": [
      "[3, 6]\n"
     ]
    }
   ],
   "source": [
    "# Find index of a specific value in the string\n",
    "def findOccurence(s): \n",
    "  a = s.find(\"b\")\n",
    "  b = s.find(\"ccc\")\n",
    "  return [a, b]\n",
    "print(findOccurence(\"aaabbbccc\"))"
   ]
  },
  {
   "cell_type": "code",
   "execution_count": 36,
   "metadata": {},
   "outputs": [
    {
     "name": "stdout",
     "output_type": "stream",
     "text": [
      "['ASDJHFASDFASD', 'asdjhfasdfasd']\n"
     ]
    }
   ],
   "source": [
    "# Lowercase to Uppercase\n",
    "def changeCase(s):\n",
    "      # Write your code here\n",
    "  a = s.upper() # convert string to \"AAA BBB CCC\"\n",
    "  b = s.lower() # convert string to \"aaa bbb ccc\"\n",
    "  return [a, b]\n",
    "print(changeCase(\"asdjhfASDFASD\"))"
   ]
  }
 ],
 "metadata": {
  "kernelspec": {
   "display_name": "Python 3",
   "language": "python",
   "name": "python3"
  },
  "language_info": {
   "codemirror_mode": {
    "name": "ipython",
    "version": 3
   },
   "file_extension": ".py",
   "mimetype": "text/x-python",
   "name": "python",
   "nbconvert_exporter": "python",
   "pygments_lexer": "ipython3",
   "version": "3.7.6"
  }
 },
 "nbformat": 4,
 "nbformat_minor": 4
}
