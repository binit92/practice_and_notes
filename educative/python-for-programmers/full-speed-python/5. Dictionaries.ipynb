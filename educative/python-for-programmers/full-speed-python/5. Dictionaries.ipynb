{
 "cells": [
  {
   "cell_type": "code",
   "execution_count": 7,
   "metadata": {},
   "outputs": [
    {
     "name": "stdout",
     "output_type": "stream",
     "text": [
      "{'Peter': 10, 'Isabel': 11, 'Anna': 9, 'Thomas': 10, 'Bob': 21, 'Joseph': 11, 'Maria': 23}\n",
      "10\n",
      "Peter 10\n",
      "Isabel 11\n",
      "Anna 9\n",
      "Thomas 10\n",
      "Bob 21\n",
      "Joseph 11\n",
      "Maria 23\n"
     ]
    }
   ],
   "source": [
    "age = {\n",
    "    \"Peter\" : 10,\n",
    "    \"Isabel\" : 11,\n",
    "    \"Anna\" : 9,\n",
    "    \"Thomas\": 10,\n",
    "    \"Bob\" : 21,\n",
    "    \"Joseph\" : 11,\n",
    "    \"Maria\" : 23\n",
    "}\n",
    "\n",
    "print(age)\n",
    "print(age[\"Peter\"])\n",
    "\n",
    "# Print the whole dictionary\n",
    "for key, value in age.items():\n",
    "    print(key,value)"
   ]
  },
  {
   "cell_type": "code",
   "execution_count": 6,
   "metadata": {},
   "outputs": [
    {
     "name": "stdout",
     "output_type": "stream",
     "text": [
      "{'abc': 12}\n",
      "{'123': 11}\n"
     ]
    }
   ],
   "source": [
    "new_dict = dict()\n",
    "\n",
    "new_dict[\"abc\"] = 12\n",
    "print(new_dict)\n",
    "\n",
    "new_dict2= {}\n",
    "new_dict2[\"123\"] = 11\n",
    "print(new_dict2)\n"
   ]
  },
  {
   "cell_type": "code",
   "execution_count": 8,
   "metadata": {},
   "outputs": [
    {
     "name": "stdout",
     "output_type": "stream",
     "text": [
      "peter 12\n",
      "Susan 11\n",
      "maria 10\n"
     ]
    }
   ],
   "source": [
    "# Ordered Dictionary\n",
    "\n",
    "from collections import OrderedDict\n",
    "\n",
    "ages = OrderedDict()\n",
    "ages['peter'] = 12\n",
    "ages['Susan'] = 11\n",
    "ages['maria'] = 10\n",
    "\n",
    "for key, value in ages.items():\n",
    "    print(key, value)"
   ]
  },
  {
   "cell_type": "code",
   "execution_count": 9,
   "metadata": {},
   "outputs": [
    {
     "name": "stdout",
     "output_type": "stream",
     "text": [
      "[2, 0, 1]\n"
     ]
    }
   ],
   "source": [
    "d = {\n",
    "    1 : [1,0,1],\n",
    "    2 : [2,0,1],\n",
    "    3 : [2,1,0]\n",
    "}\n",
    "\n",
    "print(d[2])"
   ]
  },
  {
   "cell_type": "code",
   "execution_count": 10,
   "metadata": {},
   "outputs": [
    {
     "name": "stdout",
     "output_type": "stream",
     "text": [
      "peter\n",
      "Susan\n",
      "maria\n",
      "12\n",
      "11\n",
      "10\n"
     ]
    }
   ],
   "source": [
    "# get keys\n",
    "for x in ages:\n",
    "    print(x)\n",
    "# get values\n",
    "for x in ages:\n",
    "    print(ages[x])\n",
    "    \n",
    "    "
   ]
  },
  {
   "cell_type": "code",
   "execution_count": 11,
   "metadata": {},
   "outputs": [
    {
     "name": "stdout",
     "output_type": "stream",
     "text": [
      "12\n",
      "11\n",
      "10\n"
     ]
    }
   ],
   "source": [
    "for x in ages.values():\n",
    "    print(x)"
   ]
  },
  {
   "cell_type": "code",
   "execution_count": 12,
   "metadata": {},
   "outputs": [
    {
     "name": "stdout",
     "output_type": "stream",
     "text": [
      "peter 12\n",
      "Susan 11\n",
      "maria 10\n"
     ]
    }
   ],
   "source": [
    "for name,age in ages.items():\n",
    "    print(name,age)"
   ]
  },
  {
   "cell_type": "code",
   "execution_count": 14,
   "metadata": {},
   "outputs": [
    {
     "name": "stdout",
     "output_type": "stream",
     "text": [
      "2\n"
     ]
    }
   ],
   "source": [
    "# Nested Dictionary \n",
    "nested = {\n",
    "    \"peter\" : {\"abc\" : 1, \"xyz\":2},\n",
    "    \"bob\"   : {\"xyz\" : 2},\n",
    "    \"kevin\" : {\"mnt\" : 3}\n",
    "}\n",
    "\n",
    "print(nested[\"peter\"][\"xyz\"])"
   ]
  },
  {
   "cell_type": "code",
   "execution_count": 17,
   "metadata": {},
   "outputs": [
    {
     "name": "stdout",
     "output_type": "stream",
     "text": [
      "8\n"
     ]
    }
   ],
   "source": [
    "# Challenge 1 \n",
    "# Given a lengthDictionary function that takes Students dictionary as a parameter, \n",
    "# find how many students are in the dictionary.\n",
    "\n",
    "Students = {\n",
    "     \"Peter\": 10,\n",
    "     \"Isabel\": 11,\n",
    "     \"Anna\": 9,\n",
    "     \"Thomas\": 10,\n",
    "     \"Bob\": 10,\n",
    "     \"Joseph\": 11,\n",
    "     \"Maria\": 12,\n",
    "     \"Gabriel\": 10,\n",
    "}\n",
    "\n",
    "def lengthDictionary(Students):\n",
    "    return len(Students)\n",
    "\n",
    "print(lengthDictionary(Students))"
   ]
  },
  {
   "cell_type": "code",
   "execution_count": 18,
   "metadata": {},
   "outputs": [
    {
     "name": "stdout",
     "output_type": "stream",
     "text": [
      "11.0\n"
     ]
    }
   ],
   "source": [
    "# Challenge 2 \n",
    "# Implement a calculateAvg function that receives the ages dictionary as a ​parameter,\n",
    "# and returns the average age of the students. Traverse all items in the dictionary using the “items” method above.\n",
    "\n",
    "def calculateAvg(ages):\n",
    "    size = len(ages)\n",
    "    total = 0\n",
    "    for val in ages.values():\n",
    "        total = total + val\n",
    "    return total/size\n",
    "\n",
    "print(calculateAvg(ages))"
   ]
  },
  {
   "cell_type": "code",
   "execution_count": 22,
   "metadata": {},
   "outputs": [
    {
     "name": "stdout",
     "output_type": "stream",
     "text": [
      "11.0\n"
     ]
    }
   ],
   "source": [
    "def calculateAvg2(ages):\n",
    "    size = len(ages)\n",
    "    return sum(ages.values())/size\n",
    "print(calculateAvg2(ages))"
   ]
  },
  {
   "cell_type": "code",
   "execution_count": 23,
   "metadata": {},
   "outputs": [
    {
     "name": "stdout",
     "output_type": "stream",
     "text": [
      "Maria\n"
     ]
    }
   ],
   "source": [
    "# Challenge 3\n",
    "# Return Key with maximum value \n",
    "# Implement an oldestStudent function that receives the ages dictionary as a parameter, \n",
    "# and returns the name of the oldest student.\n",
    "\n",
    "def oldestStudent(ages):\n",
    "    name_of_oldest_student = \"\"\n",
    "    highest_age = 0\n",
    "    for name, age in ages.items():\n",
    "        if(highest_age < age):\n",
    "            highest_age = age\n",
    "            name_of_oldest_student = name\n",
    "    return name_of_oldest_student\n",
    "\n",
    "print(oldestStudent(Students))\n",
    "    "
   ]
  },
  {
   "cell_type": "code",
   "execution_count": 26,
   "metadata": {},
   "outputs": [
    {
     "name": "stdout",
     "output_type": "stream",
     "text": [
      "Maria\n"
     ]
    }
   ],
   "source": [
    "def oldestStudent2(ages):\n",
    "    value = list(ages.values())\n",
    "    key = list(ages.keys())\n",
    "    return key[value.index(max(value))]\n",
    "\n",
    "print(oldestStudent2(Students))"
   ]
  },
  {
   "cell_type": "code",
   "execution_count": 32,
   "metadata": {},
   "outputs": [
    {
     "name": "stdout",
     "output_type": "stream",
     "text": [
      "{'Peter': 32, 'Isabel': 33, 'Anna': 31, 'Thomas': 32, 'Bob': 32, 'Joseph': 33, 'Maria': 34, 'Gabriel': 32}\n",
      "{'Peter': 42, 'Isabel': 43, 'Anna': 41, 'Thomas': 42, 'Bob': 42, 'Joseph': 43, 'Maria': 44, 'Gabriel': 42}\n"
     ]
    }
   ],
   "source": [
    "# Challenge 4\n",
    "# Implement an updateAges function that receives ages dictionary and a number n \n",
    "# and returns a new dictionary where each student is (n) years older.\n",
    "\n",
    "def updateAges(ages, n):\n",
    "    for name, value in ages.items():\n",
    "        ages[name] = value + n\n",
    "    return ages\n",
    "\n",
    "print(updateAges(Students,11))\n",
    "print(updateAges(Students,10))\n",
    "    "
   ]
  },
  {
   "cell_type": "code",
   "execution_count": 34,
   "metadata": {},
   "outputs": [
    {
     "name": "stdout",
     "output_type": "stream",
     "text": [
      "3\n"
     ]
    }
   ],
   "source": [
    "# Challenge 5\n",
    "# Given a totalStudents function, your task is to calculate how many students are in the students dictionary.\n",
    "\n",
    "students_dict = {\n",
    "    \"peter\" : {\"age\": 21, \"address\": \"libson\"},\n",
    "    \"susan\" : {\"age\": 22, \"address\": \"sweden\"},\n",
    "    \"charles\" : {\"age\": 32, \"address\": \"turkey\"}\n",
    "}\n",
    "\n",
    "def totalStudents(Students):\n",
    "    return(len(Students))\n",
    "\n",
    "print(totalStudents(students_dict))"
   ]
  },
  {
   "cell_type": "code",
   "execution_count": 36,
   "metadata": {},
   "outputs": [
    {
     "name": "stdout",
     "output_type": "stream",
     "text": [
      "25.0\n"
     ]
    }
   ],
   "source": [
    "# Challenge 6\n",
    "# Implement a calculateAverageAge function that receives the students dictionary and returns the average age.\n",
    "\n",
    "def calculateAverageAge(Students):\n",
    "    count= len(Students)\n",
    "    total_age = 0\n",
    "    for val in Students.values():\n",
    "        total_age = total_age + val[\"age\"]\n",
    "    return total_age/count\n",
    "\n",
    "print(calculateAverageAge(students_dict))"
   ]
  },
  {
   "cell_type": "code",
   "execution_count": 42,
   "metadata": {},
   "outputs": [
    {
     "data": {
      "text/plain": [
       "['peter']"
      ]
     },
     "execution_count": 42,
     "metadata": {},
     "output_type": "execute_result"
    }
   ],
   "source": [
    "# Implement a find_students function that receives the students dictionary and an address,\n",
    "# and returns a list with names of all students whose address matches the address in the argument.\n",
    "# For instance, invoking find_students('Lisbon') should return Anna and Peter. \n",
    "# Also, note that the names should be printed in alphabetical order.\n",
    "\n",
    "def find_students(students, address):\n",
    "    students_having_same_address = []\n",
    "    for name, details in students.items():\n",
    "        if(details[\"address\"] == address):\n",
    "            students_having_same_address.append(name)\n",
    "    return sorted(students_having_same_address)\n",
    "find_students(students_dict,'libson')"
   ]
  },
  {
   "cell_type": "code",
   "execution_count": 43,
   "metadata": {},
   "outputs": [
    {
     "name": "stdout",
     "output_type": "stream",
     "text": [
      "{'peter': {'age': 21, 'address': 'libson'}, 'susan': {'age': 22, 'address': 'sweden'}, 'charles': {'age': 32, 'address': 'turkey'}}\n",
      "{'susan': {'age': 22, 'address': 'sweden'}, 'charles': {'age': 32, 'address': 'turkey'}}\n",
      "{}\n"
     ]
    }
   ],
   "source": [
    "print(students_dict)\n",
    "students_dict.pop(\"peter\")\n",
    "print(students_dict)\n",
    "students_dict.clear()\n",
    "print(students_dict)"
   ]
  },
  {
   "cell_type": "code",
   "execution_count": null,
   "metadata": {},
   "outputs": [],
   "source": []
  }
 ],
 "metadata": {
  "kernelspec": {
   "display_name": "Python 3",
   "language": "python",
   "name": "python3"
  },
  "language_info": {
   "codemirror_mode": {
    "name": "ipython",
    "version": 3
   },
   "file_extension": ".py",
   "mimetype": "text/x-python",
   "name": "python",
   "nbconvert_exporter": "python",
   "pygments_lexer": "ipython3",
   "version": "3.7.6"
  }
 },
 "nbformat": 4,
 "nbformat_minor": 4
}
