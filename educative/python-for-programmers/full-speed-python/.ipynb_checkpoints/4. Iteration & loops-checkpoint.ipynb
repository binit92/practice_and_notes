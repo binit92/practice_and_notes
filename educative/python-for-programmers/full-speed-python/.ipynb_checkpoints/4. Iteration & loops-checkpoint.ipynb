{
 "cells": [
  {
   "cell_type": "markdown",
   "metadata": {},
   "source": [
    "Two types of loop\n",
    "\n",
    "For loop\n",
    "While loop\n"
   ]
  },
  {
   "cell_type": "code",
   "execution_count": 1,
   "metadata": {},
   "outputs": [
    {
     "name": "stdout",
     "output_type": "stream",
     "text": [
      "Index: 0 Value: 1\n",
      "Index: 1 Value: 5\n",
      "Index: 2 Value: 7\n"
     ]
    }
   ],
   "source": [
    "# for loop\n",
    "mylist = [1,5,7]\n",
    "for i in range(len(mylist)):\n",
    "    print(\"Index:\",i,\"Value:\",mylist[i])"
   ]
  },
  {
   "cell_type": "code",
   "execution_count": 2,
   "metadata": {},
   "outputs": [
    {
     "name": "stdout",
     "output_type": "stream",
     "text": [
      "Index: 0  Value: 1\n",
      "Index: 1  Value: 5\n",
      "Index: 2  Value: 7\n"
     ]
    }
   ],
   "source": [
    "# enumerate\n",
    "\n",
    "for i,value in enumerate(mylist):\n",
    "    print (\"Index:\", i, \" Value:\", value)"
   ]
  },
  {
   "cell_type": "code",
   "execution_count": 3,
   "metadata": {},
   "outputs": [
    {
     "name": "stdout",
     "output_type": "stream",
     "text": [
      "B\n",
      "i\n",
      "n\n",
      "i\n",
      "t\n"
     ]
    }
   ],
   "source": [
    "# looping through String \n",
    "for x in \"Binit\":\n",
    "    print(x)"
   ]
  },
  {
   "cell_type": "code",
   "execution_count": 4,
   "metadata": {},
   "outputs": [
    {
     "name": "stdout",
     "output_type": "stream",
     "text": [
      "10\n",
      "9\n",
      "8\n",
      "7\n",
      "6\n",
      "5\n",
      "4\n",
      "3\n",
      "2\n",
      "1\n"
     ]
    }
   ],
   "source": [
    "# While loop\n",
    "n =10\n",
    "while(n>0):\n",
    "    print(n)\n",
    "    n=n-1"
   ]
  },
  {
   "cell_type": "code",
   "execution_count": 5,
   "metadata": {},
   "outputs": [
    {
     "name": "stdout",
     "output_type": "stream",
     "text": [
      "10\n"
     ]
    }
   ],
   "source": [
    "# Create a sumList function that receives a list as a parameter and returns the sum of all the elements in the list.\n",
    "\n",
    "def sumList(list):\n",
    "    sum = 0\n",
    "    for val in list:\n",
    "        sum = sum + val\n",
    "    print(sum)\n",
    "\n",
    "sumList([1,2,3,4])"
   ]
  },
  {
   "cell_type": "code",
   "execution_count": 6,
   "metadata": {},
   "outputs": [
    {
     "name": "stdout",
     "output_type": "stream",
     "text": [
      "23\n"
     ]
    }
   ],
   "source": [
    "# Create a findMaximum function that receives a list as a parameter and returns the maximum value in the list. \n",
    "# As you iterate over the list, you may want to keep track of the current maximum value in order \n",
    "# to keep comparing it with the next elements of the list.\n",
    "\n",
    "def findMaximum(l):\n",
    "    max = l[0]\n",
    "    for val in l:\n",
    "        if(val >= max):\n",
    "            max = val\n",
    "    return max\n",
    "\n",
    "print(findMaximum([10,2,3,23,22,5]))\n"
   ]
  },
  {
   "cell_type": "code",
   "execution_count": 7,
   "metadata": {},
   "outputs": [
    {
     "name": "stdout",
     "output_type": "stream",
     "text": [
      "[3, 23]\n"
     ]
    }
   ],
   "source": [
    "# Modify the previous findMaximumValueIndex(list) function such that it returns a list with the first element being \n",
    "# the index of the maximum value in the list and the second being the maximum value.\n",
    "# Besides keeping the maximum value found so far, you also need to keep the position where it occurred.\n",
    "\n",
    "def findMaximumValueIndex(list):\n",
    "    index = 0\n",
    "    maximum = list[index]\n",
    "    for i, val in enumerate(list):\n",
    "        if(val > maximum):\n",
    "            index = i\n",
    "            maximum = val\n",
    "    return [index, maximum]\n",
    "\n",
    "print(findMaximumValueIndex([10,2,3,23,22,5]))"
   ]
  },
  {
   "cell_type": "code",
   "execution_count": 8,
   "metadata": {},
   "outputs": [
    {
     "name": "stdout",
     "output_type": "stream",
     "text": [
      "[5, 4, 3, 2, 1]\n"
     ]
    }
   ],
   "source": [
    "# Implement a reverse function that receives a list as a parameter and returns the reverse of that list.\n",
    "# You may create an empty list and keep adding the values in reversed order as they come from the original list.\n",
    "\n",
    "def reverse(list):\n",
    "    i = len(list)\n",
    "    newlist = []\n",
    "    while(i>0):\n",
    "        newlist.append(list[i-1])\n",
    "        i = i-1\n",
    "    return newlist\n",
    "\n",
    "print(reverse([1,2,3,4,5]))\n",
    "        "
   ]
  },
  {
   "cell_type": "code",
   "execution_count": 9,
   "metadata": {},
   "outputs": [
    {
     "name": "stdout",
     "output_type": "stream",
     "text": [
      "True\n",
      "False\n"
     ]
    }
   ],
   "source": [
    "# Make an isSorted function that receives a list as a ​parameter and returns true if the list is sorted in ascending order.\n",
    "\n",
    "def isSorted(list):\n",
    "    sorted = True\n",
    "    length = len(list)\n",
    "    i = 0\n",
    "    while(i<length-1):\n",
    "        if not (list[i]<=list[i+1]):\n",
    "            sorted = False\n",
    "            break;\n",
    "        i = i+1\n",
    "    return sorted\n",
    "\n",
    "print(isSorted([1,2,3,4,5]))\n",
    "print(isSorted([1,2,5,2,3]))"
   ]
  },
  {
   "cell_type": "code",
   "execution_count": 10,
   "metadata": {},
   "outputs": [
    {
     "name": "stdout",
     "output_type": "stream",
     "text": [
      "False\n",
      "True\n"
     ]
    }
   ],
   "source": [
    "# Implement the hasDuplicates function which verifies if a list has duplicate values.\n",
    "\n",
    "def hasDuplicates(list):\n",
    "    for i,val in enumerate(list):\n",
    "        for item in list[i+1:]:\n",
    "            if(item == val):\n",
    "                return True\n",
    "    return False\n",
    "\n",
    "print(hasDuplicates([1,2,3,4,5]))\n",
    "print(hasDuplicates([1,2,3,4,4]))"
   ]
  },
  {
   "cell_type": "code",
   "execution_count": 11,
   "metadata": {},
   "outputs": [
    {
     "name": "stdout",
     "output_type": "stream",
     "text": [
      "Even number:  10\n",
      "Odd number: 9\n",
      "Even number:  8\n",
      "Odd number: 7\n",
      "Even number:  6\n",
      "Odd number: 5\n",
      "Even number:  4\n",
      "Odd number: 3\n",
      "Even number:  2\n",
      "Odd number: 1\n"
     ]
    }
   ],
   "source": [
    "# Implement a printEvenOdd function that receives a number n as parameter and prints–in decreasing order\n",
    "# –which numbers are even and which are odd until it reaches 0. For instance, on calling printEvenOdd(10) it prints\n",
    "\n",
    "def printEvenOdd(n):\n",
    "    while(n>0):\n",
    "        if(n%2 == 0):\n",
    "            print(\"Even number: \",n)\n",
    "        else:\n",
    "            print(\"Odd number:\", n)\n",
    "        n = n-1\n",
    "printEvenOdd(10)\n",
    "        "
   ]
  },
  {
   "cell_type": "code",
   "execution_count": null,
   "metadata": {},
   "outputs": [],
   "source": []
  }
 ],
 "metadata": {
  "kernelspec": {
   "display_name": "Python 3",
   "language": "python",
   "name": "python3"
  },
  "language_info": {
   "codemirror_mode": {
    "name": "ipython",
    "version": 3
   },
   "file_extension": ".py",
   "mimetype": "text/x-python",
   "name": "python",
   "nbconvert_exporter": "python",
   "pygments_lexer": "ipython3",
   "version": "3.7.6"
  }
 },
 "nbformat": 4,
 "nbformat_minor": 4
}
