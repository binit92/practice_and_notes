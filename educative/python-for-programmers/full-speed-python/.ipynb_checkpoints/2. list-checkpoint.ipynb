{
 "cells": [
  {
   "cell_type": "markdown",
   "metadata": {},
   "source": [
    "Python lists are data structures that group sequences of elements. Lists **can have elements of several types**, and you can also **mix different types** within the same list (although all elements are usually of the same datatype).\n",
    "\n",
    "    Lists are created using square brackets [], and the elements are separated by commas (,). The elements in a list can be accessed by their positions, starting with 0 as the index of the first element.\n",
    "    \n",
    "    Python documentation on list: https://docs.python.org/3.5/tutorial/introduction.html#lists"
   ]
  },
  {
   "cell_type": "code",
   "execution_count": 1,
   "metadata": {},
   "outputs": [
    {
     "name": "stdout",
     "output_type": "stream",
     "text": [
      "[1, 2, 3, 4, 5]\n",
      "1\n",
      "2\n",
      "5\n"
     ]
    }
   ],
   "source": [
    "l = [1,2,3,4,5]\n",
    "print(l)\n",
    "print(l[0])\n",
    "print(l[1])\n",
    "print(len(l))"
   ]
  },
  {
   "cell_type": "markdown",
   "metadata": {},
   "source": [
    "Sublist - subsets of list, that can be retrieved using a technique called *slicing*\n",
    "\n",
    "Note: The start index is **inclusive** and end index is **exclusive** of range"
   ]
  },
  {
   "cell_type": "code",
   "execution_count": 6,
   "metadata": {},
   "outputs": [
    {
     "name": "stdout",
     "output_type": "stream",
     "text": [
      "[1, 2, 3]\n",
      "[4, 5]\n"
     ]
    }
   ],
   "source": [
    "l1 = l[0:3]\n",
    "l2 = l[3:5]\n",
    "print(l1)\n",
    "print(l2)"
   ]
  },
  {
   "cell_type": "markdown",
   "metadata": {},
   "source": [
    "List Concatenation"
   ]
  },
  {
   "cell_type": "code",
   "execution_count": 8,
   "metadata": {},
   "outputs": [
    {
     "name": "stdout",
     "output_type": "stream",
     "text": [
      "[1, 2, 3, 4, 5]\n"
     ]
    }
   ],
   "source": [
    "l3 = l1 + l2 \n",
    "print(l3)"
   ]
  },
  {
   "cell_type": "markdown",
   "metadata": {},
   "source": [
    "Traverse a List "
   ]
  },
  {
   "cell_type": "code",
   "execution_count": 9,
   "metadata": {},
   "outputs": [
    {
     "name": "stdout",
     "output_type": "stream",
     "text": [
      "1\n",
      "2\n",
      "3\n",
      "4\n",
      "5\n"
     ]
    }
   ],
   "source": [
    "for val in l:\n",
    "    print(val)"
   ]
  },
  {
   "cell_type": "markdown",
   "metadata": {},
   "source": [
    "Appending value to the end of the list"
   ]
  },
  {
   "cell_type": "code",
   "execution_count": 11,
   "metadata": {},
   "outputs": [
    {
     "name": "stdout",
     "output_type": "stream",
     "text": [
      "[1, 4, 'a', 2, 23, 90]\n"
     ]
    }
   ],
   "source": [
    "def AppendtoList():\n",
    "    l=[1,4,\"a\",2,23]\n",
    "    l.append(90)\n",
    "    return l\n",
    "print(AppendtoList())\n",
    "    "
   ]
  },
  {
   "cell_type": "markdown",
   "metadata": {},
   "source": [
    "Challenge 3: Averaging value in list"
   ]
  },
  {
   "cell_type": "code",
   "execution_count": 12,
   "metadata": {},
   "outputs": [
    {
     "name": "stdout",
     "output_type": "stream",
     "text": [
      "3.0\n"
     ]
    }
   ],
   "source": [
    "def getAverage():\n",
    "    l1 = [1,2,3,4,5]\n",
    "    avg = sum(l1)/len(l1)\n",
    "    print(avg)\n",
    "    return\n",
    "getAverage()"
   ]
  },
  {
   "cell_type": "markdown",
   "metadata": {},
   "source": [
    "Challenge 4 : Remove sublist from the list"
   ]
  },
  {
   "cell_type": "code",
   "execution_count": 14,
   "metadata": {},
   "outputs": [
    {
     "name": "stdout",
     "output_type": "stream",
     "text": [
      "[1, 9, 16, 25]\n"
     ]
    }
   ],
   "source": [
    "def removeList():\n",
    "    l1 = [1,4,9,16,25]\n",
    "    l1.remove(4)\n",
    "    print(l1)\n",
    "    return\n",
    "removeList()"
   ]
  },
  {
   "cell_type": "code",
   "execution_count": 16,
   "metadata": {},
   "outputs": [
    {
     "name": "stdout",
     "output_type": "stream",
     "text": [
      "[1, 9, 16]\n"
     ]
    }
   ],
   "source": [
    "# remove sublist from list\n",
    "def removeSublist():\n",
    "    l1 = [1,4,9,16,25]\n",
    "    l2 = [4,25]\n",
    "    for elem in l2:\n",
    "        l1.remove(elem)\n",
    "        \n",
    "    print(l1)\n",
    "    return\n",
    "removeSublist()"
   ]
  },
  {
   "cell_type": "markdown",
   "metadata": {},
   "source": [
    "**List Comphrension** - a concise way to create \n",
    "https://docs.python.org/3/tutorial/datastructures.html#list-comprehensions"
   ]
  },
  {
   "cell_type": "code",
   "execution_count": 2,
   "metadata": {},
   "outputs": [
    {
     "name": "stdout",
     "output_type": "stream",
     "text": [
      "[1, 4, 9, 16, 25]\n"
     ]
    }
   ],
   "source": [
    "print([x*x for x in [1,2,3,4,5]])"
   ]
  },
  {
   "cell_type": "code",
   "execution_count": 6,
   "metadata": {},
   "outputs": [
    {
     "name": "stdout",
     "output_type": "stream",
     "text": [
      "[0, 1, 4, 9]\n",
      "[4, 9, 16, 25, 36, 49, 64, 81]\n",
      "[4, 16, 36, 64, 100, 144, 196]\n"
     ]
    }
   ],
   "source": [
    "# range(n) is 0,1,2,3...n\n",
    "# range(startingvalue, n)\n",
    "# range(startingvalue, n, increment)\n",
    "\n",
    "print([x*x for x in range(4)])\n",
    "print([x*x for x in range(2,10)])\n",
    "print([x*x for x in range(2,15,2)])"
   ]
  },
  {
   "cell_type": "code",
   "execution_count": 7,
   "metadata": {},
   "outputs": [
    {
     "name": "stdout",
     "output_type": "stream",
     "text": [
      "[4, 16, 36, 64, 100, 144, 196]\n"
     ]
    }
   ],
   "source": [
    "print([x*x for x in range(2,15) if x%2 == 0])"
   ]
  },
  {
   "cell_type": "code",
   "execution_count": 9,
   "metadata": {},
   "outputs": [
    {
     "name": "stdout",
     "output_type": "stream",
     "text": [
      "[0, 1, 8, 27, 64, 125, 216, 343, 512, 729]\n"
     ]
    }
   ],
   "source": [
    "#List of cubes\n",
    "print([x**3 for x in range(0,10)])"
   ]
  },
  {
   "cell_type": "code",
   "execution_count": 12,
   "metadata": {},
   "outputs": [
    {
     "name": "stdout",
     "output_type": "stream",
     "text": [
      "[0, 2, 4, 6, 8, 10, 12, 14, 16, 18, 20]\n",
      "[1, 3, 5, 7, 9, 11, 13, 15, 17, 19]\n"
     ]
    }
   ],
   "source": [
    "l1 = [x for x in range(0,21) if x%2 == 0]\n",
    "l2 = [x for x in range(0,21) if x not in l1]\n",
    "print(l1)\n",
    "print(l2)"
   ]
  },
  {
   "cell_type": "code",
   "execution_count": 14,
   "metadata": {},
   "outputs": [
    {
     "name": "stdout",
     "output_type": "stream",
     "text": [
      "1540\n"
     ]
    }
   ],
   "source": [
    "# sum of square of event numbers\n",
    "l1 = [x**2 for x in range(0,21) if x%2 == 0]\n",
    "print(sum(l1))"
   ]
  },
  {
   "cell_type": "code",
   "execution_count": 19,
   "metadata": {},
   "outputs": [
    {
     "name": "stdout",
     "output_type": "stream",
     "text": [
      "[4, 16, 64, 100, 196, 256, 400]\n",
      "[4, 16, 64, 100, 196, 256, 400]\n"
     ]
    }
   ],
   "source": [
    "# square of all even number not divisible by 3\n",
    "l1 = [x**2 for x in range(0,21) if (x%2 == 0 and x%3 !=0)]\n",
    "print(l1)\n",
    "l2 = [x*x for x in range(0,21,2) if x%3 != 0]\n",
    "print(l2)"
   ]
  },
  {
   "cell_type": "markdown",
   "metadata": {},
   "source": []
  }
 ],
 "metadata": {
  "kernelspec": {
   "display_name": "Python 3",
   "language": "python",
   "name": "python3"
  },
  "language_info": {
   "codemirror_mode": {
    "name": "ipython",
    "version": 3
   },
   "file_extension": ".py",
   "mimetype": "text/x-python",
   "name": "python",
   "nbconvert_exporter": "python",
   "pygments_lexer": "ipython3",
   "version": "3.7.6"
  }
 },
 "nbformat": 4,
 "nbformat_minor": 4
}
