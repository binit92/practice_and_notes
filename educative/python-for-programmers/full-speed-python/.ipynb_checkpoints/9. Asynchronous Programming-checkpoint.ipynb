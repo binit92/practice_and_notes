{
 "cells": [
  {
   "cell_type": "markdown",
   "metadata": {},
   "source": [
    "**Synchronous Programming**\n",
    "\n",
    "Synchronous program execution is quite simple: a program starts at the first line, then each line is executed until the program reaches the end. Each time a function is called, the program waits for the function to return before continuing to the next line."
   ]
  },
  {
   "cell_type": "markdown",
   "metadata": {},
   "source": [
    "**Why Asynchronous Programming**\n",
    "\n",
    "Asynchronous programming allows you to write concurrent code that runs in a single thread.\n",
    "\n",
    "#### Concurrency \n",
    "\n",
    "Imagine you are reading a novel while painting. Even if it seems like you are doing both tasks at the same time, what you are doing is switching between the two tasks; while you wait for the paint to dry you are reading your novel, but while you are painting you pause your reading. This is called concurrency.\n",
    "\n",
    "\n",
    "Single thread allows you to decide where the scheduler will switch from one task to another, which means that sharing data between tasks is safer and easier.\n",
    "\n",
    "#### Minimum Memory Usage \n",
    "\n",
    "Every time a new thread is created, some memory is used to allow context switching. If we use async programming, this is not a problem since the code runs in a single thread.\n",
    "\n",
    "Let’s learn about the components of an asynchronous code in the next lesson.\n",
    "\n"
   ]
  },
  {
   "cell_type": "code",
   "execution_count": null,
   "metadata": {},
   "outputs": [],
   "source": []
  },
  {
   "cell_type": "markdown",
   "metadata": {},
   "source": [
    "### Write an asynchronous code \n",
    "\n",
    "To write asynchronous code in python, import the library using `import asyncio`.\n",
    "\n",
    "#### Components \n",
    "\n",
    "Asyncio has 3 main components:\n",
    "1. coroutines\n",
    "2. event loop\n",
    "3. future\n",
    "\n",
    "#### Coroutine\n",
    "A coroutine is the result of an asynchronous function which can be declared using the keyword async before def."
   ]
  },
  {
   "cell_type": "markdown",
   "metadata": {},
   "source": [
    "```\n",
    "async def my_function(argument):\n",
    "  pass\n",
    "```"
   ]
  },
  {
   "cell_type": "markdown",
   "metadata": {},
   "source": [
    "When we declare a function using the async keyword the function is not executed; instead, a coroutine object is returned.\n",
    "\n",
    "To call a coroutine, write\n"
   ]
  },
  {
   "cell_type": "markdown",
   "metadata": {},
   "source": [
    "`my_coroutine = my_function(\"argument\")`"
   ]
  },
  {
   "cell_type": "markdown",
   "metadata": {},
   "source": [
    "There are two ways to read the output of an async function from a coroutine. The first way is to use the **await** keyword, which is only possible inside async functions and will wait for the coroutine to terminate and return the result.\n"
   ]
  },
  {
   "cell_type": "markdown",
   "metadata": {},
   "source": [
    "`result = await my_function(\"argument\")`"
   ]
  },
  {
   "cell_type": "markdown",
   "metadata": {},
   "source": [
    "\n",
    "The second way is to add an event loop.\n",
    "\n",
    "#### Event Loop\n",
    "\n",
    "The event loop is the object which executes our asynchronous code and decides how to switch between async functions. After creating an event loop we can add multiple coroutines to it; these coroutines will all be running concurrently when `run_until_complete` or `run_forever` is called.\n",
    "\n",
    "```\n",
    "\n",
    "\n",
    "loop = asyncio.new_event_loop()  # create loop\n",
    "future = loop.create_task(my_coroutine) # add coroutine to the loop\n",
    "loop.run_until_complete(future) # add coroutine to the loop concurrently\n",
    "loop.close() # close the loop\n",
    "```"
   ]
  },
  {
   "cell_type": "markdown",
   "metadata": {},
   "source": [
    "#### Future\n",
    "A future is an object that works as a placeholder for the output of an asynchronous function, and it gives us information about the function state. A future is created when we add a coroutine to an event loop. There are two ways to this:\n",
    "\n",
    "```\n",
    "future = loop.create_task(my_coroutine)\n",
    "```\n",
    "\n",
    "The method adds a coroutine to the loop and returns a task which is a subtype of the future.\n",
    "\n",
    "Now that you have learned the components of asynchronous programming, let’s move on to execute tasks using asynchronous programming.\n"
   ]
  },
  {
   "cell_type": "markdown",
   "metadata": {},
   "source": [
    "#### Execute Single and Multiple Tasks \n",
    "\n",
    "In **asynchronous programming**, the execution of a function is usually non-blocking. In other words, each time you call a function it returns immediately. However, that function does not necessarily get executed right away. Instead, there is usually a mechanism (called the “scheduler”) which is responsible for the future execution of the function.\n",
    "\n",
    "The problem with asynchronous programming is that a program may end before any asynchronous function starts. A common solution for this is for asynchronous functions to return “futures” or “promises”. These are objects that represent the state of execution of an async function. Finally, asynchronous programming frameworks typically have mechanisms to block or wait for those async functions to end based on those “future” objects."
   ]
  },
  {
   "cell_type": "markdown",
   "metadata": {},
   "source": [
    "#### Co-operative Multitasking\n",
    "\n",
    "Since Python 3.6, the `asyncio` module combined with the `async` and `await` keyword allows us to implement what is called *co-operative multitasking programs*. In this type of programming, a coroutine function voluntarily yields control to another coroutine function when idle or when waiting for some input.\n",
    "\n",
    "Asynchronous functions are declared with `async def`."
   ]
  },
  {
   "cell_type": "markdown",
   "metadata": {},
   "source": [
    "```\n",
    "import asyncio\n",
    "async def functionName():\n",
    "    await asyncio.sleep(1)\n",
    "    return\n",
    "```    "
   ]
  },
  {
   "cell_type": "markdown",
   "metadata": {},
   "source": [
    "#### Execute a single task \n",
    "\n",
    "To call an asynchronous function once, do the following:-\n",
    "\n",
    "1. Create an event loop\n",
    "2. Run async function and wait for completion\n",
    "2. Close the loop"
   ]
  },
  {
   "cell_type": "markdown",
   "metadata": {},
   "source": [
    "```\n",
    "# Create an event loop\n",
    "loop = asyncio.get_event_loop()\n",
    "\n",
    "#  Run async function and wait for completion\n",
    "results = loop.run_until_complete(functionName())\n",
    "\n",
    "# Close the loop\n",
    "loop.close()\n",
    "```\n",
    "\n",
    "Consider the following asynchronous function that squares a number and sleeps for one second before returning. (Ignore the `await` keyword for now.)"
   ]
  },
  {
   "cell_type": "code",
   "execution_count": 2,
   "metadata": {},
   "outputs": [
    {
     "name": "stdout",
     "output_type": "stream",
     "text": [
      "Square 1\n",
      "End square 1\n",
      "1\n"
     ]
    }
   ],
   "source": [
    "# The IPython kernel itself runs on event loop, so it will throw following error\n",
    "# \"RuntimeError: This event loop is already running\"\n",
    "\n",
    "# Installed nest-asyncio using commands:\n",
    "# conda install -c conda-forge nest-asyncio\n",
    "# conda install -c conda-forge/label/cf202003 nest-asyncio\n",
    "\n",
    "# https://medium.com/@vyshali.enukonda/how-to-get-around-runtimeerror-this-event-loop-is-already-running-3f26f67e762e\n",
    "\n",
    "import nest_asyncio\n",
    "nest_asyncio.apply()\n",
    "\n",
    "import asyncio\n",
    "\n",
    "async def square(x):\n",
    "    print('Square', x)\n",
    "    await asyncio.sleep(1)\n",
    "    print('End square', x)\n",
    "    return x * x\n",
    "\n",
    "# Create event loop\n",
    "loop = asyncio.get_event_loop()\n",
    "\n",
    "# Run async function and wait for completion\n",
    "results = loop.run_until_complete(square(1))\n",
    "print(results)\n",
    "\n",
    "# Close the loop  note: It was throwing an error in notebook, so I have commented it ..\n",
    "#loop.close()"
   ]
  },
  {
   "cell_type": "code",
   "execution_count": null,
   "metadata": {},
   "outputs": [],
   "source": []
  }
 ],
 "metadata": {
  "kernelspec": {
   "display_name": "Python 3",
   "language": "python",
   "name": "python3"
  },
  "language_info": {
   "codemirror_mode": {
    "name": "ipython",
    "version": 3
   },
   "file_extension": ".py",
   "mimetype": "text/x-python",
   "name": "python",
   "nbconvert_exporter": "python",
   "pygments_lexer": "ipython3",
   "version": "3.7.6"
  }
 },
 "nbformat": 4,
 "nbformat_minor": 4
}
