{
 "cells": [
  {
   "cell_type": "markdown",
   "metadata": {},
   "source": [
    "### Introduction to imports\n",
    "\n",
    "Type of imports:\n",
    "+ Regular Imports\n",
    "+ Using form\n",
    "+ Relative imports\n",
    "+ Optional imports\n",
    "+ Local imports\n",
    "+ import Pitfalls"
   ]
  },
  {
   "cell_type": "markdown",
   "metadata": {},
   "source": [
    "### Regular Imports"
   ]
  },
  {
   "cell_type": "code",
   "execution_count": 1,
   "metadata": {},
   "outputs": [],
   "source": [
    "import sys\n",
    "import sys,os,time\n",
    "import sys as system  # import a module and rename it.\n",
    "import urllib.error   # importing a submodule using dot notation"
   ]
  },
  {
   "cell_type": "markdown",
   "metadata": {},
   "source": [
    "### Using \"from module import something\"\n",
    "\n",
    "There are many times when you want to import a part of a module or library"
   ]
  },
  {
   "cell_type": "code",
   "execution_count": 2,
   "metadata": {},
   "outputs": [],
   "source": [
    "from functools import lru_cache"
   ]
  },
  {
   "cell_type": "markdown",
   "metadata": {},
   "source": [
    "The code above allows you to call lru_cache directly. If you had imported just functools the normal way then you would have to call lru_cache using something like this:"
   ]
  },
  {
   "cell_type": "code",
   "execution_count": 5,
   "metadata": {},
   "outputs": [
    {
     "data": {
      "text/plain": [
       "<function functools.lru_cache.<locals>.decorating_function(user_function)>"
      ]
     },
     "execution_count": 5,
     "metadata": {},
     "output_type": "execute_result"
    }
   ],
   "source": [
    "import functools\n",
    "\n",
    "args =[]\n",
    "functools.lru_cache(*args)"
   ]
  },
  {
   "cell_type": "markdown",
   "metadata": {},
   "source": [
    "Depending on what you're doing, the above might actually be a good thing. In complex code bases, it's quite nice to know where something has been imported from. However, if your code is well maintained and modularized properly, importing just a portion from the module can be quite handy and more succint.\n",
    "\n",
    "You can also use the from method to import everything:"
   ]
  },
  {
   "cell_type": "code",
   "execution_count": 6,
   "metadata": {},
   "outputs": [],
   "source": [
    "from os import *"
   ]
  },
  {
   "cell_type": "markdown",
   "metadata": {},
   "source": [
    "This is handy in rare curcumstances, but it can also really mess up your namespace. The problem is that you might define your own function or a top level variable that has the same name as one of the items you imported and if your try to use the one from the os module, it will use your instead. So you end up with a rather confusing logic error. The Tkinter module is really the only one in the standard library that I've seen recommended to be imported in total.\n",
    "\n",
    "If you happen to write your own module or package, some people recommend importing everything in your __ init__ .py to make your module or package easier to use. Personally I prefer explict to implict, but to each their own.\n",
    "\n",
    "To import multiple items from the package:"
   ]
  },
  {
   "cell_type": "code",
   "execution_count": 11,
   "metadata": {},
   "outputs": [],
   "source": [
    "from os import path,walk,unlink\n",
    "from os import remove, walk"
   ]
  },
  {
   "cell_type": "markdown",
   "metadata": {},
   "source": [
    "Using paranthesis to import multiple items:"
   ]
  },
  {
   "cell_type": "code",
   "execution_count": 12,
   "metadata": {},
   "outputs": [],
   "source": [
    "from os import (path, walk, unlink, remove)"
   ]
  },
  {
   "cell_type": "markdown",
   "metadata": {},
   "source": [
    "Using backslash i.e. Python's line continuation character,"
   ]
  },
  {
   "cell_type": "code",
   "execution_count": 16,
   "metadata": {},
   "outputs": [],
   "source": [
    "from os import path, walk, \\\n",
    "unlink, remove"
   ]
  },
  {
   "cell_type": "markdown",
   "metadata": {},
   "source": [
    "### Relative Imports"
   ]
  },
  {
   "cell_type": "markdown",
   "metadata": {},
   "source": [
    "PEP 328 describes how relative imports came about and what specific syntax was chosen. The idea behind it was to use periods to determine how to relatively import other packages/modules. The reason was to prevent the accidental shadowing of standard library modules. Let's use the example folder structure that PEP 328 suggest and see if we can get it to work:"
   ]
  },
  {
   "cell_type": "raw",
   "metadata": {},
   "source": [
    "my_package/\n",
    "    __init__.py\n",
    "    subpackage1/\n",
    "        __init__.py\n",
    "        module_x.py\n",
    "        module_y.py\n",
    "    subpackage2/\n",
    "        __init__.py\n",
    "        module_z.py\n",
    "    module_a.py"
   ]
  },
  {
   "cell_type": "markdown",
   "metadata": {},
   "source": [
    "Create the files and folders above somewhere on your hard drive. In the top-level \\_\\_init\\_\\_.py, put the following code in place:"
   ]
  },
  {
   "cell_type": "code",
   "execution_count": null,
   "metadata": {},
   "outputs": [],
   "source": [
    "from . import subpackage1\n",
    "from . import subpackage2"
   ]
  },
  {
   "cell_type": "markdown",
   "metadata": {},
   "source": [
    "Next navigate down in subpackage1 and edit its \\_\\_init\\_\\_.py to have the following contents:"
   ]
  },
  {
   "cell_type": "code",
   "execution_count": null,
   "metadata": {},
   "outputs": [],
   "source": [
    "from . import subpackage1\n",
    "from . import subpackage2"
   ]
  },
  {
   "cell_type": "markdown",
   "metadata": {},
   "source": [
    "Next navigate down in subpackage1 and edit its \\_\\_init\\_\\_.py to have the following contents:"
   ]
  },
  {
   "cell_type": "code",
   "execution_count": null,
   "metadata": {},
   "outputs": [],
   "source": [
    "from . import module_x\n",
    "from . import module_y"
   ]
  },
  {
   "cell_type": "markdown",
   "metadata": {},
   "source": [
    "Now edit module x.py such that is has the following code:"
   ]
  },
  {
   "cell_type": "code",
   "execution_count": null,
   "metadata": {},
   "outputs": [],
   "source": [
    "from .module_y import spam as ham\n",
    "\n",
    "def main():\n",
    "    ham()"
   ]
  },
  {
   "cell_type": "markdown",
   "metadata": {},
   "source": [
    "Finally edit module_y.py to match this:"
   ]
  },
  {
   "cell_type": "code",
   "execution_count": 18,
   "metadata": {},
   "outputs": [],
   "source": [
    "def spam():\n",
    "    print('spam' * 3)"
   ]
  },
  {
   "cell_type": "markdown",
   "metadata": {},
   "source": [
    "Open a terminal and cd to the folder that has my_package, but not into my_package. Run the Python interpreter in this folder. I'm using iPython below mainly because its auto-completion is so handy:"
   ]
  },
  {
   "cell_type": "code",
   "execution_count": null,
   "metadata": {},
   "outputs": [],
   "source": [
    "import my_package\n",
    "\n",
    "my_package.subpackage1.module_x\n",
    "\n",
    "my_package.subpackage1.module_x.main()"
   ]
  },
  {
   "cell_type": "markdown",
   "metadata": {},
   "source": [
    "Relative imports are great for creating code that you turn into packages. If you have created a lot of code that is related. then this is probably the way to go. You will find that relative imports are used in many popular packages on the Python Packages Index(PyPI). Also note that if you need to go more than one level, you can just use additional periods. However, according to PEP 328, you really shouldn't go above two.\n",
    "\n",
    "Also note that if you were to add an \"if \\_\\_name\\_\\_ == '\\_\\_main\\_\\_'\" portion to the module_x.py and tried to run it, you would end up with rather confusing error."
   ]
  },
  {
   "cell_type": "code",
   "execution_count": null,
   "metadata": {},
   "outputs": [],
   "source": [
    "from . module_y import spam as ham\n",
    "\n",
    "def main():\n",
    "    ham()\n",
    "\n",
    "if __name__ == '__main__':\n",
    "    # This won't work!\n",
    "    main()"
   ]
  },
  {
   "cell_type": "raw",
   "metadata": {},
   "source": [
    "Traceback (most recent call last):\n",
    "  File \"module_x.py\", line 1, in <module>\n",
    "    from . module_y import spam as ham\n",
    "ValueError: Attempted relative import in non-package"
   ]
  },
  {
   "cell_type": "markdown",
   "metadata": {},
   "source": [
    "What this means is that module_x.py is a module inside of a package and you're trying to run it as a script, which is incompatible with relative imports\n",
    "\n",
    "If you'd like to use this module in your code, you will have to add it to Python's import search path. The easiest way to do that is as follows:"
   ]
  },
  {
   "cell_type": "code",
   "execution_count": null,
   "metadata": {},
   "outputs": [],
   "source": [
    "import sys\n",
    "sys.path.append('/path/to/folder/containing/my_package')\n",
    "import my_package"
   ]
  },
  {
   "cell_type": "markdown",
   "metadata": {},
   "source": [
    "Note that you want the path to the folder right above my_package, not my_package itself. The reason is that my_package is THE package, so if you append that, you'll have issues using the package."
   ]
  },
  {
   "cell_type": "markdown",
   "metadata": {},
   "source": [
    "### Optional Imports\n",
    "\n",
    "Optional imports are used when you have a preferred module or package that you want to use, but you also want a fallback in case it doesn't exist. You might use optional imports to support multiple versions of software or for spped ups, for example. Here's an example from the package github2 that demonstrates how you might use optional imports to support different version of Python:"
   ]
  },
  {
   "cell_type": "code",
   "execution_count": 22,
   "metadata": {},
   "outputs": [],
   "source": [
    "try:\n",
    "    # For Python 3\n",
    "    from http.client import responses\n",
    "except ImportError:  # For Python 2.5-2.7\n",
    "    try:\n",
    "        from httplib import responses # NOQA\n",
    "    except ImportError:  # For Python 2.4\n",
    "        from BaseHTTPServer import BaseHTTPRequestHandler as _BHRH\n",
    "    responses = dict([(k,v[0]) for k,v in _BHRH.responses.items()])"
   ]
  },
  {
   "cell_type": "markdown",
   "metadata": {},
   "source": [
    "the lxml package also makes use of optional imports, it is used all the time to great effect and is a handy too to add to your repertoire"
   ]
  },
  {
   "cell_type": "code",
   "execution_count": null,
   "metadata": {},
   "outputs": [],
   "source": [
    "try:\n",
    "    from urlparse import urljoin\n",
    "    from urllib2 import urlopen\n",
    "except ImportError:\n",
    "    # Python 3\n",
    "    from urllib.parse import urljoin\n",
    "    from urllib.request import urlopen"
   ]
  },
  {
   "cell_type": "markdown",
   "metadata": {},
   "source": [
    "### Local Imports\n",
    "\n",
    "A local import is when you import a module into local scope. When you do your imports at the top of your Python script file, that is importing the module into your global scope, which means that any functions or methods that follow will be able to use it."
   ]
  },
  {
   "cell_type": "code",
   "execution_count": 23,
   "metadata": {},
   "outputs": [
    {
     "name": "stdout",
     "output_type": "stream",
     "text": [
      "7.0\n",
      "8.0\n"
     ]
    }
   ],
   "source": [
    "import math\n",
    "import sys #global scope\n",
    "\n",
    "def square_root(a):\n",
    "    # This import is into the square_root functions local scope\n",
    "    import math\n",
    "    return math.sqrt(a)\n",
    "\n",
    "def my_pow(base_num, power):\n",
    "    return math.pow(base_num,power)\n",
    "\n",
    "if __name__ =='__main__':\n",
    "    print(square_root(49))\n",
    "    print(my_pow(2,3))"
   ]
  },
  {
   "cell_type": "markdown",
   "metadata": {},
   "source": [
    "Here we import the sys module into the global scope, but we don't actually use it. Then in the square_root function we import Python's math module into the function's local scope, which means that the math module can only be used inside of the square_root function. IF we try to use it in the my_pow function, we will receive a NameError.\n",
    "\n",
    "One of the benefits of using local scope os that you might be using a module that takes a long time to load. If so, it might make sense to put it into a function that is called rarely rather than your module's global scope. It really depends on what you want to do. Frankly, I've almost never used import in the local scope, mostly because it can be hard to tell what's going on if the imports are scatter all over the module. Conventionally, all imports should be at the top of the module after all."
   ]
  },
  {
   "cell_type": "markdown",
   "metadata": {},
   "source": [
    "### Import Pitfalls\n",
    "\n",
    "The two most common pitfall are:\n",
    "+ circular imports\n",
    "+ shadowed imports"
   ]
  },
  {
   "cell_type": "markdown",
   "metadata": {},
   "source": [
    "#### Circular Imports \n",
    "\n",
    "Circular imports happen when you create two modules that import each other. Let's look at an example as that will make it quite clear what I'm referring to. Put the following code into a module called a.py"
   ]
  },
  {
   "cell_type": "code",
   "execution_count": null,
   "metadata": {},
   "outputs": [],
   "source": [
    "# a.py\n",
    "import b\n",
    "\n",
    "def a_test():\n",
    "    print(\"in a_test\")\n",
    "    b.b_test()\n",
    "    \n",
    "a_test()"
   ]
  },
  {
   "cell_type": "markdown",
   "metadata": {},
   "source": [
    "Then create another module in the same folder as the one above and name it b.py"
   ]
  },
  {
   "cell_type": "code",
   "execution_count": null,
   "metadata": {},
   "outputs": [],
   "source": [
    "# b.py\n",
    "import a\n",
    "\n",
    "def b_test():\n",
    "    print('In test_b')\n",
    "    a.a_test()\n",
    "\n",
    "b_test()"
   ]
  },
  {
   "cell_type": "markdown",
   "metadata": {},
   "source": [
    "If you run either of these modules, you should receive an AttributeError. This happens because both modules are attempting to import each other. Basically what's happening here is that module a is trying to import module b, but it can't do that because module b is attempting to import module a which is already being executed. I've read about some hacky workarounds but in general your should just refactor your code to prevent this kind of thig from happening."
   ]
  },
  {
   "cell_type": "markdown",
   "metadata": {},
   "source": [
    "### Shadowed Imports\n",
    "\n",
    "Shadow import(AKA name masking) happen when the programmer creates a module with the same name as a Python module. Let's create a contrived example! In this case, create a file named math.py and put the following code inside it:"
   ]
  },
  {
   "cell_type": "code",
   "execution_count": null,
   "metadata": {},
   "outputs": [],
   "source": [
    "import math \n",
    "\n",
    "def square_root(number):\n",
    "    return math.sqrt(number)\n",
    "\n",
    "square_root(72)"
   ]
  },
  {
   "cell_type": "raw",
   "metadata": {},
   "source": [
    "Traceback (most recent call last):\n",
    "  File \"math.py\", line 1, in <module>\n",
    "    import math\n",
    "  File \"/Users/michael/Desktop/math.py\", line 6, in <module>\n",
    "    square_root(72)\n",
    "  File \"/Users/michael/Desktop/math.py\", line 4, in square_root\n",
    "    return math.sqrt(number)\n",
    "AttributeError: module 'math' has no attribute 'sqrt'"
   ]
  },
  {
   "cell_type": "markdown",
   "metadata": {},
   "source": [
    "What happened here? Well when you run this code, the first place Python looks for a module called \"math\" is in the currently running script's folder. In this case, it finds the module we're running and tries to use that. But our module doesn't have a function or attribute called sqrt, so an AttributeError is raised."
   ]
  },
  {
   "cell_type": "code",
   "execution_count": null,
   "metadata": {},
   "outputs": [],
   "source": []
  }
 ],
 "metadata": {
  "kernelspec": {
   "display_name": "Python 3",
   "language": "python",
   "name": "python3"
  },
  "language_info": {
   "codemirror_mode": {
    "name": "ipython",
    "version": 3
   },
   "file_extension": ".py",
   "mimetype": "text/x-python",
   "name": "python",
   "nbconvert_exporter": "python",
   "pygments_lexer": "ipython3",
   "version": "3.7.6"
  }
 },
 "nbformat": 4,
 "nbformat_minor": 4
}
