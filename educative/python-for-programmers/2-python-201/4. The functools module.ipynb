{
 "cells": [
  {
   "cell_type": "markdown",
   "metadata": {},
   "source": [
    "### Introduction to functools \n",
    "\n",
    "Python comes with a fun module called **functools**. The functions inside functools are considered \"higher-order\" functions which can act on or return other functions. We will look at following packages of functool functions :\n",
    "\n",
    "+ lru_cache\n",
    "+ partials\n",
    "+ singledispatch\n",
    "+ wraps\n",
    "\n",
    "https://docs.python.org/3/library/functools.html"
   ]
  },
  {
   "cell_type": "markdown",
   "metadata": {},
   "source": [
    "### Caching with functools.lru_cache\n",
    "\n",
    "The functools module provides a handy decorator called **lru_cache**. Note that it was added in Python 3.2. According ot the documentation, it will \"wrap a function with a memorizing callable that saves up to the maxsize most recent calls\". In other words, it's a decorator that adds caching to the function it decorates. \n",
    "\n",
    "Let's write a quick example that will grab various web page from Python documentation site.\n"
   ]
  },
  {
   "cell_type": "code",
   "execution_count": 11,
   "metadata": {},
   "outputs": [
    {
     "name": "stdout",
     "output_type": "stream",
     "text": [
      "sys module page found\n"
     ]
    }
   ],
   "source": [
    "import urllib.error\n",
    "import urllib.request\n",
    "\n",
    "from functools import lru_cache\n",
    "\n",
    "@lru_cache(maxsize = 24)\n",
    "def get_webpage(module):\n",
    "    \"\"\"\n",
    "    Gets the specified Python module web page\n",
    "    \"\"\"\n",
    "    webpage = \"https://docs.python.org/3/library/{}.html\".format(module)\n",
    "    try:\n",
    "        with urllib.request.urlopen(webpage) as request:\n",
    "            val = request.read()\n",
    "            #print(val)\n",
    "            return val\n",
    "    except urllib.error.HTTPError:\n",
    "        return none\n",
    "    \n",
    "if __name__ == \"__main__\":\n",
    "    modules = ['functools', 'collections', 'os', 'sys']\n",
    "    for module in modules:\n",
    "        page = get_webpage(module)\n",
    "    if page:\n",
    "        print(\"{} module page found\".format(module))\n",
    "    \n",
    "    "
   ]
  },
  {
   "cell_type": "markdown",
   "metadata": {},
   "source": [
    "In the code above, we decorate our **get_webpage** function with **lru_cache** and set its max size to 24 calls. Then we set up a webpage string variable and pass in which module we want our function to fetch. I found that this works best if you run it in a Python interpreter, such as IDLE. This allows you to run the loop a couple of times against the function. What you will quickly see is that the first time it runs the code, the output is printed our relatively slowly. But if you run it again in the same session, you will see that it prints immediately which demonstrates that the lru_cache has cached the calls correctly. Give this a try in your own interpreter instance to see the results for yourself.\n",
    "\n",
    "There is also **typed** parameter that we can pass to the decorator. It is a Boolean that tells the decorator to cache arguments of different types separately if types is set to **True**"
   ]
  },
  {
   "cell_type": "code",
   "execution_count": 17,
   "metadata": {},
   "outputs": [
    {
     "name": "stdout",
     "output_type": "stream",
     "text": [
      "running: 10\n",
      "100\n",
      "100\n",
      "100\n",
      "running: 2\n",
      "4\n",
      "running: 3\n",
      "9\n",
      "running: 4\n",
      "16\n",
      "4\n",
      "9\n",
      "running: 10\n",
      "100\n",
      "running: 10\n",
      "100\n",
      "running: 10\n",
      "100\n",
      "running: 10\n",
      "100\n"
     ]
    }
   ],
   "source": [
    "from functools import lru_cache\n",
    "\n",
    "@lru_cache(maxsize = 3)\n",
    "def square(x :float) -> float:\n",
    "    print(f'running: {x}')\n",
    "    return x * x\n",
    "\n",
    "print(square(10))\n",
    "print(square(10))\n",
    "print(square(10))\n",
    "print(square(2))\n",
    "print(square(3))\n",
    "print(square(4))\n",
    "print(square(2))\n",
    "print(square(3))\n",
    "print(square(10))  # forgotten 10 as maxsize is 3 \n",
    "\n",
    "# It will not cache \n",
    "print(square.__wrapped__(10))\n",
    "print(square.__wrapped__(10))\n",
    "print(square.__wrapped__(10))"
   ]
  },
  {
   "cell_type": "code",
   "execution_count": 18,
   "metadata": {},
   "outputs": [
    {
     "name": "stdout",
     "output_type": "stream",
     "text": [
      "expensive\n",
      "42\n",
      "42\n",
      "42\n"
     ]
    }
   ],
   "source": [
    "## something like singleton\n",
    "\n",
    "@lru_cache(maxsize =1)\n",
    "def get_thing() -> int:\n",
    "    # pretend this is expensive \n",
    "    print(\"expensive\")\n",
    "    return 42\n",
    "\n",
    "print(get_thing())\n",
    "print(get_thing())\n",
    "print(get_thing())\n"
   ]
  },
  {
   "cell_type": "markdown",
   "metadata": {},
   "source": [
    "### functool.partial \n",
    "\n",
    "One of the functool classes is the **partial** class. You can use it to create new function with partial application of the arguments  and keywords that you pass to it. You can use partial to *freeze*  a portion of your function's arguments and/or keyword which results in a new object. Another way to put it is the partial creates a new function with some defaults."
   ]
  },
  {
   "cell_type": "code",
   "execution_count": 19,
   "metadata": {},
   "outputs": [
    {
     "name": "stdout",
     "output_type": "stream",
     "text": [
      "6\n"
     ]
    }
   ],
   "source": [
    "from functools import partial\n",
    "\n",
    "def add(x,y):\n",
    "    return x+y\n",
    "\n",
    "p_add = partial(add, 2)\n",
    "print(p_add(4))"
   ]
  },
  {
   "cell_type": "markdown",
   "metadata": {},
   "source": [
    "Here we create a simple adding function that returns the result of adding its arguments, x and y. Next we create a new callable by creating an instance of partial and passing it our function and an argument for that function. In other words, we are basically defaulting the x parameter of our add function to the number 2. Finally we call or new callable, p_add, with the argument of the number 3 which results in 6 because 2+4 = 6.\n",
    "\n",
    "One handy use case for partials is to pass arguments to callbacks. :et's take a look using exPython:\n",
    "\n"
   ]
  },
  {
   "cell_type": "code",
   "execution_count": 3,
   "metadata": {},
   "outputs": [
    {
     "name": "stdout",
     "output_type": "stream",
     "text": [
      "You pressed: one\n",
      "You pressed: two\n",
      "You pressed: three\n",
      "You pressed: one\n",
      "You pressed: two\n",
      "You pressed: two\n"
     ]
    }
   ],
   "source": [
    "# Conda install wxpython\n",
    "import wx \n",
    "\n",
    "from functools import partial\n",
    "\n",
    "\n",
    "class MainFrame(wx.Frame):\n",
    "    \"\"\"\n",
    "    This app shows a group of buttons\n",
    "    \"\"\"\n",
    "\n",
    "    def __init__(self, *args, **kwargs):\n",
    "        \"\"\"Constructor\"\"\"\n",
    "        super(MainFrame, self).__init__(parent=None, title='Partial')\n",
    "        panel = wx.Panel(self)\n",
    "\n",
    "        sizer = wx.BoxSizer(wx.VERTICAL)\n",
    "        btn_labels = ['one', 'two', 'three']\n",
    "        for label in btn_labels:\n",
    "            btn = wx.Button(panel, label=label)\n",
    "            btn.Bind(wx.EVT_BUTTON, partial(self.onButton, label=label))\n",
    "            sizer.Add(btn, 0, wx.ALL, 5)\n",
    "\n",
    "        panel.SetSizer(sizer)\n",
    "        self.Show()\n",
    "\n",
    "    def onButton(self, event, label):\n",
    "        \"\"\"\n",
    "        Event handler called when a button is pressed\n",
    "        \"\"\"\n",
    "        print('You pressed: ' +  str(label))\n",
    "\n",
    "\n",
    "if __name__ == '__main__':\n",
    "    app = wx.App(False)\n",
    "    frame = MainFrame()\n",
    "    app.MainLoop()"
   ]
  },
  {
   "cell_type": "markdown",
   "metadata": {},
   "source": [
    "Here we use partial to call the onButton event handler with an extra argument, which happens to be the button’s label. This might not seem all that useful to you, but if you do much GUI programming, you’ll see a lot of people asking how to do this sort of thing. Of course, you could also use a lambda instead for passing arguments to callbacks.\n",
    "\n",
    "One use case that we’ve used at work was for our automated test framework. We test a UI with Python and we wanted to be able to pass a function along to dismiss certain dialogs. Basically you would pass a function along with the name of the dialog to dismiss, but it would need to be called at a certain point in the process to work correctly. Since I can’t show that code, here’s a really basic example of passing a partial function around:"
   ]
  },
  {
   "cell_type": "code",
   "execution_count": 4,
   "metadata": {},
   "outputs": [
    {
     "name": "stdout",
     "output_type": "stream",
     "text": [
      "3\n",
      "6\n"
     ]
    }
   ],
   "source": [
    "from functools import partial\n",
    "\n",
    "def add(x,y):\n",
    "    \"\"\"\"\"\"\n",
    "    return x+y\n",
    "\n",
    "def multiply(x,y):\n",
    "    \"\"\"\"\"\"\n",
    "    return x*y\n",
    "\n",
    "def run(func):\n",
    "    \"\"\"\"\"\"\n",
    "    print(func())\n",
    "    \n",
    "def main():\n",
    "    \"\"\"\"\"\"\n",
    "    a1 = partial(add,1,2)\n",
    "    m1 = partial(multiply,2,3)\n",
    "    run(a1)\n",
    "    run(m1)\n",
    "    \n",
    "if __name__ == '__main__':\n",
    "    main()"
   ]
  },
  {
   "cell_type": "markdown",
   "metadata": {},
   "source": [
    "Here we create a couple of partial functions in our main function. Next we pass those partials to our run function, call it and then print out the result of the function that was called."
   ]
  },
  {
   "cell_type": "markdown",
   "metadata": {},
   "source": [
    "### Function Overloading with functools.singledispatch\n",
    "\n",
    "Python fairly recently added partial support for function overloading in Python 3.4. They did this by adding a neat little decorator to the functools module called singledispatch. This decorator will transform your regular function into a single dispatch generic function. Note however that singledispatch only happens based on the first argument's type. "
   ]
  },
  {
   "cell_type": "code",
   "execution_count": 10,
   "metadata": {},
   "outputs": [
    {
     "name": "stdout",
     "output_type": "stream",
     "text": [
      "First argument type is:  <class 'int'>\n",
      "5\n",
      "First argument type is:  <class 'str'>\n",
      "HelloWorld\n",
      "First argument type is:  <class 'list'>\n",
      "[1, 2, 3, 4, 5, 6, 7, 8, 9]\n"
     ]
    },
    {
     "ename": "NotImplementedError",
     "evalue": "Unsupported type",
     "output_type": "error",
     "traceback": [
      "\u001b[1;31m---------------------------------------------------------------------------\u001b[0m",
      "\u001b[1;31mNotImplementedError\u001b[0m                       Traceback (most recent call last)",
      "\u001b[1;32m<ipython-input-10-3131b038a7ad>\u001b[0m in \u001b[0;36m<module>\u001b[1;34m\u001b[0m\n\u001b[0;32m     24\u001b[0m     \u001b[0mprint\u001b[0m\u001b[1;33m(\u001b[0m\u001b[0madd\u001b[0m\u001b[1;33m(\u001b[0m\u001b[1;34m\"Hello\"\u001b[0m\u001b[1;33m,\u001b[0m\u001b[1;34m\"World\"\u001b[0m\u001b[1;33m)\u001b[0m\u001b[1;33m)\u001b[0m\u001b[1;33m\u001b[0m\u001b[1;33m\u001b[0m\u001b[0m\n\u001b[0;32m     25\u001b[0m     \u001b[0mprint\u001b[0m\u001b[1;33m(\u001b[0m\u001b[0madd\u001b[0m\u001b[1;33m(\u001b[0m\u001b[1;33m[\u001b[0m\u001b[1;36m1\u001b[0m\u001b[1;33m,\u001b[0m\u001b[1;36m2\u001b[0m\u001b[1;33m,\u001b[0m\u001b[1;36m3\u001b[0m\u001b[1;33m,\u001b[0m\u001b[1;36m4\u001b[0m\u001b[1;33m,\u001b[0m\u001b[1;36m5\u001b[0m\u001b[1;33m]\u001b[0m\u001b[1;33m,\u001b[0m\u001b[1;33m[\u001b[0m\u001b[1;36m6\u001b[0m\u001b[1;33m,\u001b[0m\u001b[1;36m7\u001b[0m\u001b[1;33m,\u001b[0m\u001b[1;36m8\u001b[0m\u001b[1;33m,\u001b[0m\u001b[1;36m9\u001b[0m\u001b[1;33m]\u001b[0m\u001b[1;33m)\u001b[0m\u001b[1;33m)\u001b[0m\u001b[1;33m\u001b[0m\u001b[1;33m\u001b[0m\u001b[0m\n\u001b[1;32m---> 26\u001b[1;33m     \u001b[0mprint\u001b[0m\u001b[1;33m(\u001b[0m\u001b[0madd\u001b[0m\u001b[1;33m(\u001b[0m\u001b[1;33m{\u001b[0m\u001b[1;36m1\u001b[0m\u001b[1;33m:\u001b[0m\u001b[1;36m1\u001b[0m\u001b[1;33m}\u001b[0m\u001b[1;33m,\u001b[0m\u001b[1;33m{\u001b[0m\u001b[1;36m2\u001b[0m\u001b[1;33m:\u001b[0m\u001b[1;36m2\u001b[0m\u001b[1;33m}\u001b[0m\u001b[1;33m)\u001b[0m\u001b[1;33m)\u001b[0m\u001b[1;33m\u001b[0m\u001b[1;33m\u001b[0m\u001b[0m\n\u001b[0m\u001b[0;32m     27\u001b[0m \u001b[1;33m\u001b[0m\u001b[0m\n",
      "\u001b[1;32m~\\anaconda3\\lib\\functools.py\u001b[0m in \u001b[0;36mwrapper\u001b[1;34m(*args, **kw)\u001b[0m\n\u001b[0;32m    838\u001b[0m                             '1 positional argument')\n\u001b[0;32m    839\u001b[0m \u001b[1;33m\u001b[0m\u001b[0m\n\u001b[1;32m--> 840\u001b[1;33m         \u001b[1;32mreturn\u001b[0m \u001b[0mdispatch\u001b[0m\u001b[1;33m(\u001b[0m\u001b[0margs\u001b[0m\u001b[1;33m[\u001b[0m\u001b[1;36m0\u001b[0m\u001b[1;33m]\u001b[0m\u001b[1;33m.\u001b[0m\u001b[0m__class__\u001b[0m\u001b[1;33m)\u001b[0m\u001b[1;33m(\u001b[0m\u001b[1;33m*\u001b[0m\u001b[0margs\u001b[0m\u001b[1;33m,\u001b[0m \u001b[1;33m**\u001b[0m\u001b[0mkw\u001b[0m\u001b[1;33m)\u001b[0m\u001b[1;33m\u001b[0m\u001b[1;33m\u001b[0m\u001b[0m\n\u001b[0m\u001b[0;32m    841\u001b[0m \u001b[1;33m\u001b[0m\u001b[0m\n\u001b[0;32m    842\u001b[0m     \u001b[0mfuncname\u001b[0m \u001b[1;33m=\u001b[0m \u001b[0mgetattr\u001b[0m\u001b[1;33m(\u001b[0m\u001b[0mfunc\u001b[0m\u001b[1;33m,\u001b[0m \u001b[1;34m'__name__'\u001b[0m\u001b[1;33m,\u001b[0m \u001b[1;34m'singledispatch function'\u001b[0m\u001b[1;33m)\u001b[0m\u001b[1;33m\u001b[0m\u001b[1;33m\u001b[0m\u001b[0m\n",
      "\u001b[1;32m<ipython-input-10-3131b038a7ad>\u001b[0m in \u001b[0;36madd\u001b[1;34m(a, b)\u001b[0m\n\u001b[0;32m      3\u001b[0m \u001b[1;33m@\u001b[0m\u001b[0msingledispatch\u001b[0m\u001b[1;33m\u001b[0m\u001b[1;33m\u001b[0m\u001b[0m\n\u001b[0;32m      4\u001b[0m \u001b[1;32mdef\u001b[0m \u001b[0madd\u001b[0m\u001b[1;33m(\u001b[0m\u001b[0ma\u001b[0m\u001b[1;33m,\u001b[0m\u001b[0mb\u001b[0m\u001b[1;33m)\u001b[0m\u001b[1;33m:\u001b[0m\u001b[1;33m\u001b[0m\u001b[1;33m\u001b[0m\u001b[0m\n\u001b[1;32m----> 5\u001b[1;33m     \u001b[1;32mraise\u001b[0m \u001b[0mNotImplementedError\u001b[0m\u001b[1;33m(\u001b[0m\u001b[1;34m\"Unsupported type\"\u001b[0m\u001b[1;33m)\u001b[0m\u001b[1;33m\u001b[0m\u001b[1;33m\u001b[0m\u001b[0m\n\u001b[0m\u001b[0;32m      6\u001b[0m \u001b[1;33m\u001b[0m\u001b[0m\n\u001b[0;32m      7\u001b[0m \u001b[1;33m@\u001b[0m\u001b[0madd\u001b[0m\u001b[1;33m.\u001b[0m\u001b[0mregister\u001b[0m\u001b[1;33m(\u001b[0m\u001b[0mint\u001b[0m\u001b[1;33m)\u001b[0m\u001b[1;33m\u001b[0m\u001b[1;33m\u001b[0m\u001b[0m\n",
      "\u001b[1;31mNotImplementedError\u001b[0m: Unsupported type"
     ]
    }
   ],
   "source": [
    "from functools import singledispatch\n",
    "\n",
    "@singledispatch\n",
    "def add(a,b):\n",
    "    raise NotImplementedError(\"Unsupported type\")\n",
    "    \n",
    "@add.register(int)\n",
    "def _(a,b):\n",
    "    print(\"First argument type is: \", type(a))\n",
    "    return a+b\n",
    "\n",
    "@add.register(str)\n",
    "def _(a,b):\n",
    "    print(\"First argument type is: \", type(a))\n",
    "    return (a+b)\n",
    "\n",
    "@add.register(list)\n",
    "def _(a,b):\n",
    "    print(\"First argument type is: \", type(a))\n",
    "    return (a+b)\n",
    "\n",
    "if __name__ == '__main__':\n",
    "    print(add(2,3))\n",
    "    print(add(\"Hello\",\"World\"))\n",
    "    print(add([1,2,3,4,5],[6,7,8,9]))\n",
    "    print(add({1:1},{2:2}))\n",
    "\n"
   ]
  },
  {
   "cell_type": "markdown",
   "metadata": {},
   "source": [
    "Here we import singledispatch from functools and apply it to a simple function that we call add. This function is our catch-all function and will only get called if none of the other decorated functions handle the type passed. You will note that we currently handle integers,string and list as the first argument. If we were to call our add function with something else, such as a dictionary, then it would raise a NotImplemented Error.\\\n",
    "\n",
    "It calls the appropriate function based on the first argument's type. If the type isn't handled, then we raise a NotImplementedError. IF you want to know what types we are currently handling, you can try this:"
   ]
  },
  {
   "cell_type": "code",
   "execution_count": 12,
   "metadata": {},
   "outputs": [
    {
     "name": "stdout",
     "output_type": "stream",
     "text": [
      "dict_keys([<class 'object'>, <class 'int'>, <class 'str'>, <class 'list'>])\n"
     ]
    }
   ],
   "source": [
    "print(add.registry.keys())"
   ]
  },
  {
   "cell_type": "markdown",
   "metadata": {},
   "source": [
    "This tells us that we can handle strings,integers, list and objects(the default). The singledispatch decorator also supports decorator stacking. This allows us to create an overloaded function that can handle multiple types."
   ]
  },
  {
   "cell_type": "code",
   "execution_count": 15,
   "metadata": {},
   "outputs": [
    {
     "name": "stdout",
     "output_type": "stream",
     "text": [
      "First argument is of type  <class 'float'>\n",
      "6.73\n",
      "First argument is of type  <class 'decimal.Decimal'>\n",
      "111.2889999999999997015720510\n",
      "dict_keys([<class 'object'>, <class 'decimal.Decimal'>, <class 'float'>])\n"
     ]
    }
   ],
   "source": [
    "from functools import singledispatch\n",
    "from decimal import Decimal\n",
    "\n",
    "@singledispatch\n",
    "def add(a,b):\n",
    "    raise NotImplementedError('Unsupported type')\n",
    "    \n",
    "@add.register(float)\n",
    "@add.register(Decimal)\n",
    "def _(a,b):\n",
    "    print(\"First argument is of type \", type(a))\n",
    "    print(a + b)\n",
    "    \n",
    "if __name__=='__main__':\n",
    "    add(1.23, 5.5)\n",
    "    add(Decimal(100.5), Decimal(10.789))\n",
    "    \n",
    "print(add.registry.keys())"
   ]
  },
  {
   "cell_type": "markdown",
   "metadata": {},
   "source": [
    "Because of the way all these functions were written, we could stack the decorators to handle all the cases in previous example. However, in normal overloaded case, each overload will call different code instead of doing the same thing."
   ]
  },
  {
   "cell_type": "markdown",
   "metadata": {},
   "source": [
    "### functools.wraps\n",
    "\n",
    "There is a little known tool that I wanted to cover in this section. It is called wraps and it too is a part of the functools module. You can use wraps a a decorator to fix docstring and names of decorated functions. Why  does this matter? This sounds like a weird edge case at first, but if your're writing an API or any code that someone other than yourself will be using, then this could be important. The reason being that when you use Python's introspection to figure out someone else's code, a decorated function will return the wrong information."
   ]
  },
  {
   "cell_type": "code",
   "execution_count": 17,
   "metadata": {},
   "outputs": [
    {
     "name": "stdout",
     "output_type": "stream",
     "text": [
      "wrapper\n",
      "\n",
      "        A wrapping function\n",
      "        \n"
     ]
    }
   ],
   "source": [
    "def another_function(func):\n",
    "    \"\"\"\n",
    "    A function that accepts another function\n",
    "    \"\"\"\n",
    "    def wrapper():\n",
    "        \"\"\"\n",
    "        A wrapping function\n",
    "        \"\"\"\n",
    "        val = \"The result of %s is %s\" %(func(), eval(func()))\n",
    "        return val\n",
    "    return wrapper\n",
    "\n",
    "@another_function\n",
    "def a_function():\n",
    "    \"\"\"\n",
    "    A pretty useless function\n",
    "    \"\"\"\n",
    "    return \"1+1\"\n",
    "\n",
    "if __name__ == '__main__':\n",
    "    print(a_function.__name__)\n",
    "    print(a_function.__doc__)"
   ]
  },
  {
   "cell_type": "markdown",
   "metadata": {},
   "source": [
    "In this code, we decorate the function called a_function with another_function. You can check a_function’s name and docstring by printing them out using the function’s __name__ and __doc__ properties.\n",
    "\n",
    "How do we fix this little mess? The Python developers have given us the solution in functools.wraps!"
   ]
  },
  {
   "cell_type": "code",
   "execution_count": 18,
   "metadata": {},
   "outputs": [
    {
     "name": "stdout",
     "output_type": "stream",
     "text": [
      "a_function\n",
      "A pretty useless function\n"
     ]
    }
   ],
   "source": [
    "from functools import wraps\n",
    "\n",
    "def another_function(func):\n",
    "    \"\"\" A function that accepts another function\"\"\"\n",
    "    \n",
    "    @wraps(func)\n",
    "    def wrapper():\n",
    "        \"\"\" a wrapping function\"\"\"\n",
    "        val = \"The result of %s is %s\" %(func(), eval(func()))\n",
    "        return val\n",
    "    return wrapper\n",
    "\n",
    "@another_function\n",
    "def a_function():\n",
    "    \"\"\"A pretty useless function\"\"\"\n",
    "    return \"1+1\"\n",
    "\n",
    "if __name__ == '__main__':\n",
    "    print(a_function.__name__)\n",
    "    print(a_function.__doc__)"
   ]
  },
  {
   "cell_type": "markdown",
   "metadata": {},
   "source": [
    "Here we import wraps from the functools module and use it as a decorator for the nested wrapper function inside of another_function. Now we have right name and docstring"
   ]
  },
  {
   "cell_type": "code",
   "execution_count": null,
   "metadata": {},
   "outputs": [],
   "source": []
  }
 ],
 "metadata": {
  "kernelspec": {
   "display_name": "Python 3",
   "language": "python",
   "name": "python3"
  },
  "language_info": {
   "codemirror_mode": {
    "name": "ipython",
    "version": 3
   },
   "file_extension": ".py",
   "mimetype": "text/x-python",
   "name": "python",
   "nbconvert_exporter": "python",
   "pygments_lexer": "ipython3",
   "version": "3.7.6"
  }
 },
 "nbformat": 4,
 "nbformat_minor": 4
}
