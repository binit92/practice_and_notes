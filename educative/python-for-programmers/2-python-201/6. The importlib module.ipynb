{
 "cells": [
  {
   "cell_type": "markdown",
   "metadata": {},
   "source": [
    "### importlib package\n",
    "\n",
    "Python provide the **importlib** package as part of its standard library of modules. Its purpose is to provide the implementation to Python's **import** statement(and the \\_\\_import\\_\\_() function). In addition, importlib gives the programmer the ability to create their own custom object(AKA an **importer**) that can be used in the import process.\n",
    "\n",
    "\n",
    "This module is pretty complicated, so we'll be limiting the scope of this chapter:\n",
    "+ Dynamic imports\n",
    "+ Checking is a module can be imported \n",
    "+ Importing from the source file itself\n",
    "+ A clever 3rd party module called import_from_github_com"
   ]
  },
  {
   "cell_type": "markdown",
   "metadata": {},
   "source": [
    "### Dynamic Imports\n",
    "\n",
    "The importlib module supports the ability to import a module that is passed to it as a string. So let's create a couple of simple modules that we can work with. We will give both modules the same interface, but have them print their names so we can tell the difference between the two. Create two modules with different names suc as **foo.py**  and **bar.py** and add the following code in each of them:"
   ]
  },
  {
   "cell_type": "code",
   "execution_count": null,
   "metadata": {},
   "outputs": [],
   "source": [
    "def main():\n",
    "    print(__name__)"
   ]
  },
  {
   "cell_type": "markdown",
   "metadata": {},
   "source": [
    "Now we just need to use importlib to import them. Let's look at some code to do just that."
   ]
  },
  {
   "cell_type": "code",
   "execution_count": 1,
   "metadata": {},
   "outputs": [
    {
     "name": "stdout",
     "output_type": "stream",
     "text": [
      "foo\n",
      "bar\n"
     ]
    }
   ],
   "source": [
    "#importer.py\n",
    "import importlib\n",
    "import foo\n",
    "\n",
    "def dynamic_import(module):\n",
    "    return importlib.import_module(module)\n",
    "\n",
    "if __name__ == '__main__':\n",
    "    module = dynamic_import('foo')\n",
    "    module.main()\n",
    "    \n",
    "    module_two = dynamic_import('bar')\n",
    "    module_two.main()"
   ]
  },
  {
   "cell_type": "markdown",
   "metadata": {},
   "source": [
    "Here we import the handy importlib module and create a really simple function called **dynamic_import**. All this function does is call importlib's **import_module** function with the module string that we passed in and returns the result of that call. Then in our conditional statement at the bottom, we call each module's **main** method, which will dutifully print out the name of the module.\n",
    "\n",
    "You probably won't be doing this a lot in your own code, but occasionally you'll find yourself wanting to import a module when you only have the module as a string."
   ]
  },
  {
   "cell_type": "markdown",
   "metadata": {},
   "source": [
    "### Module Import Checking \n",
    "\n",
    "Python has a coding style that is known a EAFP: _Easier to ask for forgiveness than permission_. What this means is that it's often easier to just assum that something exists(like a key in a dict) and catch an exception if we're wrong. we saw this example in 5th chapter where we would attempt to import a module and we caught the **ImportError** if it didn't exist. What if we wanted to check and see if a module could be imported rather than just guessing ?"
   ]
  },
  {
   "cell_type": "code",
   "execution_count": 2,
   "metadata": {},
   "outputs": [
    {
     "name": "stdout",
     "output_type": "stream",
     "text": [
      "Module: fake_module not found\n",
      "Module collections can be imported!\n",
      "['ChainMap', 'Counter', 'OrderedDict', 'UserDict', 'UserList', 'UserString', '_Link', '_OrderedDictItemsView', '_OrderedDictKeysView', '_OrderedDictValuesView', '__all__', '__builtins__', '__cached__', '__doc__', '__file__', '__getattr__', '__loader__', '__name__', '__package__', '__path__', '__spec__', '_chain', '_collections_abc', '_count_elements', '_eq', '_heapq', '_iskeyword', '_itemgetter', '_nt_itemgetters', '_proxy', '_recursive_repr', '_repeat', '_starmap', '_sys', 'defaultdict', 'deque', 'namedtuple']\n"
     ]
    }
   ],
   "source": [
    "import importlib.util\n",
    "\n",
    "def check_module(module_name):\n",
    "    \"\"\"\n",
    "    Checks if module can be imported without actually importing it\n",
    "    \"\"\"\n",
    "    module_spec = importlib.util.find_spec(module_name)\n",
    "    if module_spec is None:\n",
    "        print('Module: {} not found'.format(module_name))\n",
    "        return None\n",
    "    else:\n",
    "        print('Module {} can be imported!'.format(module_name))\n",
    "        return module_spec\n",
    "    \n",
    "def import_module_from_spec(module_spec):\n",
    "    \"\"\"\n",
    "    Import the module via the passed in module specificaion\n",
    "    Return the newly imported module\n",
    "    \"\"\"\n",
    "    module = importlib.util.module_from_spec(module_spec)\n",
    "    module_spec.loader.exec_module(module)\n",
    "    return module\n",
    "\n",
    "if __name__ == '__main__':\n",
    "    module_spec = check_module('fake_module')\n",
    "    module_spec = check_module('collections')\n",
    "    if module_spec:\n",
    "        module = import_module_from_spec(module_spec)\n",
    "        print(dir(module))"
   ]
  },
  {
   "cell_type": "markdown",
   "metadata": {},
   "source": [
    "Here we import a submodule of importlib called **util**. The **check_module** code has the first piece of magic that we want to look at. In it we call the **find_spec** function against the module string that we passed in. First we pass in a fake name and then we pass in a real name of a Python module. When the module is not installed, the **find_spec** function will return **None** and our code will print out that the module was not found.\n",
    "\n",
    "We can take the module specification and use it to actually import the module. Or you could just pass the strong to the **import_module** function that we learned about in the previous section. But we already covered that so let's learn how to use the module specification. Take a look at the **import_module_from_spec** function in the code above. It accepts the module specfication that was returned by **check_module**. We then pass that into importlib's **module_from_spec** function, which return the import module. Python's documentation recommends executing the module after importing it, so that's what we do next with the **exec_module** function. Finally we return the module and run Pythons's **dir** against it to make sure it's the module we expect."
   ]
  },
  {
   "cell_type": "markdown",
   "metadata": {},
   "source": [
    "### Import from Source File\n",
    "\n",
    "the importlib's util sub-module has another neat trick that I want to cover. You can use **util** to import a module just using it's name and file path. The following is a very derived example, but I think it will get the point across:\n"
   ]
  },
  {
   "cell_type": "code",
   "execution_count": 3,
   "metadata": {},
   "outputs": [
    {
     "name": "stdout",
     "output_type": "stream",
     "text": [
      "['BASIC_FORMAT', 'BufferingFormatter', 'CRITICAL', 'DEBUG', 'ERROR', 'FATAL', 'FileHandler', 'Filter', 'Filterer', 'Formatter', 'Handler', 'INFO', 'LogRecord', 'Logger', 'LoggerAdapter', 'Manager', 'NOTSET', 'NullHandler', 'PercentStyle', 'PlaceHolder', 'RootLogger', 'StrFormatStyle', 'StreamHandler', 'StringTemplateStyle', 'Template', 'WARN', 'WARNING', '_STYLES', '_StderrHandler', '__all__', '__author__', '__builtins__', '__cached__', '__date__', '__doc__', '__file__', '__loader__', '__name__', '__package__', '__path__', '__spec__', '__status__', '__version__', '_acquireLock', '_addHandlerRef', '_checkLevel', '_defaultFormatter', '_defaultLastResort', '_handlerList', '_handlers', '_levelToName', '_lock', '_logRecordFactory', '_loggerClass', '_nameToLevel', '_register_at_fork_reinit_lock', '_releaseLock', '_removeHandlerRef', '_showwarning', '_srcfile', '_startTime', '_warnings_showwarning', 'addLevelName', 'atexit', 'basicConfig', 'captureWarnings', 'collections', 'critical', 'currentframe', 'debug', 'disable', 'error', 'exception', 'fatal', 'getLevelName', 'getLogRecordFactory', 'getLogger', 'getLoggerClass', 'info', 'io', 'lastResort', 'log', 'logMultiprocessing', 'logProcesses', 'logThreads', 'makeLogRecord', 'os', 'raiseExceptions', 'root', 'setLogRecordFactory', 'setLoggerClass', 'shutdown', 'sys', 'threading', 'time', 'traceback', 'warn', 'warning', 'warnings', 'weakref']\n",
      "The logging module has the following methods: ['BASIC_FORMAT', 'BufferingFormatter', 'CRITICAL', 'DEBUG', 'ERROR', 'FATAL', 'FileHandler', 'Filter', 'Filterer', 'Formatter', 'Handler', 'INFO', 'LogRecord', 'Logger', 'LoggerAdapter', 'Manager', 'NOTSET', 'NullHandler', 'PercentStyle', 'PlaceHolder', 'RootLogger', 'StrFormatStyle', 'StreamHandler', 'StringTemplateStyle', 'Template', 'WARN', 'WARNING', '_STYLES', '_StderrHandler', '__all__', '__author__', '__builtins__', '__cached__', '__date__', '__doc__', '__file__', '__loader__', '__name__', '__package__', '__path__', '__spec__', '__status__', '__version__', '_acquireLock', '_addHandlerRef', '_checkLevel', '_defaultFormatter', '_defaultLastResort', '_handlerList', '_handlers', '_levelToName', '_lock', '_logRecordFactory', '_loggerClass', '_nameToLevel', '_register_at_fork_reinit_lock', '_releaseLock', '_removeHandlerRef', '_showwarning', '_srcfile', '_startTime', '_warnings_showwarning', 'addLevelName', 'atexit', 'basicConfig', 'captureWarnings', 'collections', 'critical', 'currentframe', 'debug', 'disable', 'error', 'exception', 'fatal', 'getLevelName', 'getLogRecordFactory', 'getLogger', 'getLoggerClass', 'info', 'io', 'lastResort', 'log', 'logMultiprocessing', 'logProcesses', 'logThreads', 'makeLogRecord', 'os', 'raiseExceptions', 'root', 'setLogRecordFactory', 'setLoggerClass', 'shutdown', 'sys', 'threading', 'time', 'traceback', 'warn', 'warning', 'warnings', 'weakref']\n"
     ]
    }
   ],
   "source": [
    "import importlib.util\n",
    "\n",
    "def import_source(module_name):\n",
    "    module_file_path = module_name.__file__\n",
    "    module_name = module_name.__name__\n",
    "    \n",
    "    module_spec = importlib.util.spec_from_file_location(module_name, module_file_path)\n",
    "    module = importlib.util.module_from_spec(module_spec)\n",
    "    module_spec.loader.exec_module(module)\n",
    "    print(dir(module))\n",
    "    \n",
    "    msg = 'The {module_name} module has the following methods: {methods}'\n",
    "    print(msg.format(module_name=module_name, methods=dir(module)))\n",
    "    \n",
    "if __name__ == '__main__':\n",
    "    import logging\n",
    "    import_source(logging)"
   ]
  },
  {
   "cell_type": "markdown",
   "metadata": {},
   "source": [
    "In the code above, we actually import the **logging** module and pass it to our **import_source** function. Once there, we grabe the module's actual path and its name. Then we call pass those pieces of information into the util's **spec_from_file_location** function which will return the module's specification. Once we have that, we can use the same importlib mechanisms that we used in the previous section to actually import the module.\n"
   ]
  },
  {
   "cell_type": "markdown",
   "metadata": {},
   "source": [
    "### import_from_github_com\n",
    "\n",
    "There's a neat package called **import_from_github_com** that can be used to find and load modules from github. To install it, all you need to do is use **pip** like this:\n",
    "\n",
    "`pip install import_from_github_com`"
   ]
  },
  {
   "cell_type": "code",
   "execution_count": null,
   "metadata": {},
   "outputs": [],
   "source": [
    "from github_com.zzzeek import sqlalchemy\n",
    "#Collecting git+https://github.com/zzzeek/sqlalchemy\n",
    "#  Cloning https://github.com/zzzeek/sqlalchemy to /tmp/pip-acfv7t06-build\n",
    "#Installing collected packages: SQLAlchemy\n",
    "#  Running setup.py install for SQLAlchemy ... done\n",
    "#Successfully installed SQLAlchemy-1.1.0b1.dev0\n",
    "\n",
    "print(locals())\n",
    "#{'sqlalchemy': <module 'sqlalchemy' from '/usr/local/lib/python3.5/dist-packages/sqlalchemy/__init__.py'>,\n",
    "#'__file__': '/usercode/__ed_file.py', '__package__': None, '__cached__': None, '__doc__': None,\n",
    "#'__spec__': None, '__loader__': <_frozen_importlib_external.SourceFileLoader object at 0x7fd93d1775c0>,\n",
    "#'__name__': '__main__', '__builtins__': <module 'builtins' (built-in)>}"
   ]
  }
 ],
 "metadata": {
  "kernelspec": {
   "display_name": "Python 3",
   "language": "python",
   "name": "python3"
  },
  "language_info": {
   "codemirror_mode": {
    "name": "ipython",
    "version": 3
   },
   "file_extension": ".py",
   "mimetype": "text/x-python",
   "name": "python",
   "nbconvert_exporter": "python",
   "pygments_lexer": "ipython3",
   "version": "3.7.6"
  }
 },
 "nbformat": 4,
 "nbformat_minor": 4
}
