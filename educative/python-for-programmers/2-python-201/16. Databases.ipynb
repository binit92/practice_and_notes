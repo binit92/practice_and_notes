{
 "cells": [
  {
   "cell_type": "markdown",
   "metadata": {},
   "source": [
    "This chapter is about how you connect to and work with databases in Python. It is a general purpose chapter. You will not learn the complete SQL language in one chapter. Instead, I will give you high level overview of some SQL commands and then we will look at how to connect to some of the most popular databases with Python. Most databases use the basic SQL commands in the same way, but they also may have some commands that are specific for that database backend or that just work slightly differently. Be sure to read your database documentation should you run into issues.\n",
    "\n",
    "We will start the chapter by learning some very basic SQL syntax.\n",
    "\n",
    "### Basic SQL Syntax\n",
    "\n",
    "SQL stands for Structured Query Language. It is basically the defacto language for interacting with databases and is a primitive computer programming language in its own right. In this section, we will learn how the basics of CRUD, which stands for Create, Read, Update and Delete. These are the most important functions you need to get started using a database. Of course, you will also need to know how to query, but we’ll cover that as we go along as you will need to query in order to read, update or delete.\n",
    "\n"
   ]
  }
 ],
 "metadata": {
  "kernelspec": {
   "display_name": "Python 3",
   "language": "python",
   "name": "python3"
  },
  "language_info": {
   "codemirror_mode": {
    "name": "ipython",
    "version": 3
   },
   "file_extension": ".py",
   "mimetype": "text/x-python",
   "name": "python",
   "nbconvert_exporter": "python",
   "pygments_lexer": "ipython3",
   "version": "3.7.6"
  }
 },
 "nbformat": 4,
 "nbformat_minor": 4
}
