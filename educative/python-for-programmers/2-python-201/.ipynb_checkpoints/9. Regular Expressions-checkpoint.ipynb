{
 "cells": [
  {
   "cell_type": "markdown",
   "metadata": {},
   "source": [
    "### Introduction to Regular expression\n",
    "\n",
    "Regular expression are basically a tiny language all their own that you can use inside of Python and many other programming languages. You will often hear regular expressions referred to as \"regex\",\"regexp\" or just \"RE\". Some languages, such as Perl and Ruby, actually support regular expression syntax directly in the language itself. Python only supports them via a library that you need to import.  The primary use for regular expressions is matching strings. You create the string matching rules using a regular expression and then you apply it to a string to see if there are any matches. \n",
    "\n",
    "The regular expression \"language\" is actually pretty small, so you won't be able to use it for all your string matching needs. Besides that, while there are some tasks that you can use a regular expression for, it may end up so complicated that it becomes difficult to debug. In cases like that, you should just use Python. It should be noted that Python is an excellent language for text parsing in its own right and can be used for anything you do in a regular expressiom. However, it may take a lot more code to do so and be slower than the regular expression because regular expression are compiled down and excuted in C.\n"
   ]
  },
  {
   "cell_type": "markdown",
   "metadata": {},
   "source": [
    "### The Matching Characters\n",
    "\n",
    "When you want to match a character in a string, in most cases you can just use the character or that substring. So if we wanted to match \"dog\", then we would use the letters **dog**. Of course, there are some characters that are reserved for regular expressions. These are known as _metacharacters_. The following is a complete list of the metacharacters that Python's regular expression implementation supports:\n",
    "\n",
    "> . ^ $ * + ? { } [ ] | ( )\n",
    "\n",
    "Let's spend a few moments looking at how some of these work. One of the most common pairs of metacharacters you will encounter ar ethe square braches: [ and ]. There are used for creating a \"chracter class\", which is a set of chracters that you would like to match on. You may list the chracters individually like: **[xyz]**. This will match any of the characters listed between the braces. You can also use a dash to express a range of charcters to match against: **[a-g]**. In this example, we would match against any of the letters a through g.\n",
    "\n",
    "To actually do a search though, we would need to add a beginning charcter to look for and an ending character. To make this easier, we can use the asterisk which allows repetitions. Instead of matching *,the* will tell the regular expression that the previous character may be matched zero or more times. \n",
    "\n",
    "It always helps to see a simple example:\n",
    "\n",
    "> a[b-f]*f\n",
    "\n",
    "This regular expression pattern means that we are going to look for the letter _a_, zero or more letters from our class, [b-f] and it needs to end with an _f_. Let's try using this expression in Python:"
   ]
  },
  {
   "cell_type": "code",
   "execution_count": 1,
   "metadata": {},
   "outputs": [
    {
     "name": "stdout",
     "output_type": "stream",
     "text": [
      "<re.Match object; span=(0, 5), match='abcdf'>\n",
      "abcdf\n"
     ]
    }
   ],
   "source": [
    "import re\n",
    "\n",
    "text = \"abcdfghijk\"\n",
    "parser = re.search('a[b-f]*f',text)\n",
    "print(parser)\n",
    "\n",
    "print(parser.group())"
   ]
  },
  {
   "cell_type": "markdown",
   "metadata": {},
   "source": [
    "Basically this expression will look at the entire string we pass to it, which in this case is **abcdefghikj**, It will find the _a_ at the beginning match against that. Then because it has a character class with an asterisl on the end, it will actually read in the rest of the string to see if it macthes. If it doesn't, them it will backtrack one character at a time attempting to find a match. \n",
    "\n",
    "All this magic happens when we all the **re** module's **search** function. If we don't find a match, then **None** is returned. Otherwise, we will get a **Match** object, which you can see above. To actually see what the match looks like, you need to call the **group** method.\n",
    "\n",
    "There's another repeating metacharacter which is similar to \\*. It is +, which will match one or more times. There is a subtle difference from \\* which mataches **zero** or more times. The + requires at least one occurence of the character it is looking for.\n",
    "\n",
    "The last two repeating metacharacters work a bit differently. There is the question mark, ?, which will match either once or zero times. It sort of marks the character before it as optional. A simple example would be \"co-?op. This would match both \"coop\" and \"co-op\".\n",
    "\n",
    "The final repeated metacharacter is {a,b} where a and b are decimal integers. What this means is that there must be at least a repetitions and at most b. You might want to try out something like this:\n",
    "\n",
    "> xb{1,4}z\n",
    "\n",
    "This is a pretty silly example, but what it says is that we will match things like **xbzm xbbzm xbbbz** and **xbbbbz** but not **xz** because it doesn't have a \"b\"\n",
    "\n",
    "The next metacharacter that we'll learn about is ^. This character will allow us to match the characters that are not losted inside our class. In other words, it will complement our class. This will only work if we actually put the ^ inside our class. If it's outside the class, then we will be attempting to actually match against ^. A good example would be something like this:\n",
    "\n",
    "> [^a]\n",
    "\n",
    "This will match any character except the letter 'a'.\n",
    "\n",
    "The ^ is also used as an anchor in that it us usually used for matches at the beginning of string. There is a corresponding anchor for the end of the string, which is $.\n",
    "\n"
   ]
  },
  {
   "cell_type": "markdown",
   "metadata": {},
   "source": [
    "### Pattern Matching Using search\n",
    "\n",
    "Let's take a moment to learn some pattern matching basics. When using Python to look for a pattern in a string, you can use the search funtion like we did in the example earlier in this chapter. "
   ]
  },
  {
   "cell_type": "code",
   "execution_count": 4,
   "metadata": {},
   "outputs": [
    {
     "name": "stdout",
     "output_type": "stream",
     "text": [
      "Did not find \"the\"\n",
      "Found \"one\" in \"The ants go marching one by one\"\n",
      "one\n"
     ]
    }
   ],
   "source": [
    "import re\n",
    "\n",
    "text = \"The ants go marching one by one\"\n",
    "strings = ['the','one']\n",
    "\n",
    "for string in strings:\n",
    "    match = re.search(string,text)\n",
    "    if match:\n",
    "        print('Found \"{}\" in \"{}\"'.format(string,text))\n",
    "        text_pos = match.span()\n",
    "        print(text[match.start():match.end()])\n",
    "    else:\n",
    "        print('Did not find \"{}\"'.format(string))"
   ]
  },
  {
   "cell_type": "markdown",
   "metadata": {},
   "source": [
    "For this example, we import the **re** module and create a simple string. Then we create a list of two strings that we'll search for in the main string. Next we loop over the strings we plan to search for and actually run a search for them. If there's a match, wer print it out. Otherwise we tell the user that the string was not found.\n",
    "\n",
    "There are a couple of other functions worth explaining in this example. You will notice that we call **span**. This gives us the beginning and ending positions of the string that macthed. If you print out the **text_pos** that we assigned the span to, you'll get a tuple like this:(21,24). Alternatively, you can just call some match methods, which is what we do next. We use **start** and **end** to grab the starting and ending position of the match, which should also be the two numbers that we get from span."
   ]
  },
  {
   "cell_type": "markdown",
   "metadata": {},
   "source": [
    "### Escape Codes \n",
    "\n",
    "There are also some sequences that you can search for using special escape codes in Python. Here's a quick list with brief explanations of each:\n",
    "\n",
    "> d: matches digit\n",
    ">\n",
    "> D: matches non-digit\n",
    ">\n",
    "> s: matches whitespace\n",
    "> \n",
    "> S: matches non whitespace\n",
    ">\n",
    "> w: matches alphanumeric\n",
    ">\n",
    "> W: matches non-alphanumeric\n",
    "\n",
    "You can use these escape codes inside of a character class, like so: `[\\d]`. This would allow us to find any digit and is the equivalent of `[0-9]`. I highly recommend trying out a few of the other yourself."
   ]
  },
  {
   "cell_type": "markdown",
   "metadata": {},
   "source": [
    "### Compiling\n",
    "\n",
    "The re module allows you to \"compile\" the expressions that you are searching for frequently. This will basically allow you to turn your expression into a **SRE_Pattern** object. You can then use that object in your search function. Let's use the code from earlier and modify it to use compile:"
   ]
  },
  {
   "cell_type": "code",
   "execution_count": 5,
   "metadata": {},
   "outputs": [
    {
     "name": "stdout",
     "output_type": "stream",
     "text": [
      "Did not find \"the\"\n",
      "Found \"one\" in \"The ants go marching one by one\"\n",
      "one\n"
     ]
    }
   ],
   "source": [
    "import re\n",
    "\n",
    "text = 'The ants go marching one by one'\n",
    "strings = ['the','one']\n",
    "\n",
    "for string in strings:\n",
    "    regex = re.compile(string)\n",
    "    match = re.search(regex,text)\n",
    "    if match: \n",
    "        print('Found \"{}\" in \"{}\"'.format(string,text))\n",
    "        text_pos = match.span()\n",
    "        print(text[match.start():match.end()])\n",
    "    else:\n",
    "        print('Did not find \"{}\"'.format(string))"
   ]
  },
  {
   "cell_type": "markdown",
   "metadata": {},
   "source": [
    "You will note that here we create our pattern object by calling compile on each string in our list and assigning the result to the variable, **regex**. We then pass that regex to our search function. The rest of the code is the same. The primary reason to use **compile** is to save it to be reused later on in your code. However, compile also takes some flags that can be used to enable various special features. We will take a look at that next.\n",
    "\n",
    "_Special Note: When you compile patterns, they will get automatically cached so if you aren't using lot of regular expressions in your code, then you may not need to save the compile object to a variable_"
   ]
  },
  {
   "cell_type": "markdown",
   "metadata": {},
   "source": [
    "###  Compilation Flags\n",
    "\n",
    "There are 7 compilation flags included in Python 3 that can change how your compile pattern behaves. Let's go over what each of them do and tehn we will look at how to use a compilation flag.\n",
    "\n",
    "#### re.A / re.ASCII\n",
    "The ASCII flag tells Python to only match against ASCII instead of using full Unicode matching when coupled with the following escape codes: w, W, b, B, d, D, s and S. There is a re.U / re.UNICODE flag too that is for backwards compatibility purposes; however those flags are redudant since Python 3 already matches in Unicode by default.\n",
    "\n",
    "#### re.DEBUG\n",
    "This will displace debug information about your compiled expression.\n",
    "\n",
    "#### re.I / re.IGNORECASE\n",
    "If you'd like to perform case-insensitive matching, then this is the flag for you. If your expression was `[a-z]` and you compiled it with this flag, your patter will also match uppercase letters too! This also works for Unicode and it's not affect by the current locale.\n",
    "\n",
    "#### re.M/ re.MULTILINE\n",
    "When your use this flag, you are telling Python to make the ^ pattern character match at both the beginning of the string and at the beinning of each line. It also tells Python that $ should match at the end of the string and the end of each line, which is subtly different from their defaults. \n"
   ]
  },
  {
   "cell_type": "markdown",
   "metadata": {},
   "source": [
    "#### re.S / re.DOTALL\n",
    "This fun flag will make the.(period) metacharacter match any character at all. Without the flag, it would match anything except a newline.\n",
    "\n",
    "#### re.X/ re.VERBOSE\n",
    "If you find your regular expressions hard to read, then this flag could be just what you need. It will allow to visually separate logical sections of your regular expression and even add comments! Whitespace within the pattern will be ignored except when in a character class or when the whitespace is preceded by an unescaped backslash.\n",
    "\n",
    "#### Using a Compilation Flag\n",
    "Let's take a moment and look at a simple example that used the VERBOSE compilation flag! One good example is to take a common email finding regular expression such as r'[w.-]+@[w.-]+' and add some comments using the VERBOSE flag. Let's take a look:"
   ]
  },
  {
   "cell_type": "code",
   "execution_count": 6,
   "metadata": {},
   "outputs": [
    {
     "data": {
      "text/plain": [
       "re.compile(r\"\\n           [\\w\\.-]+      # the user name\\n           @\\n           [\\w\\.-]+'     # the domain\\n           \",\n",
       "re.UNICODE|re.VERBOSE)"
      ]
     },
     "execution_count": 6,
     "metadata": {},
     "output_type": "execute_result"
    }
   ],
   "source": [
    "import re\n",
    "re.compile('''\n",
    "           [\\w\\.-]+      # the user name\n",
    "           @\n",
    "           [\\w\\.-]+'     # the domain\n",
    "           ''',\n",
    "           re.VERBOSE)"
   ]
  },
  {
   "cell_type": "markdown",
   "metadata": {},
   "source": [
    "### Finding Multiple Instances \n",
    "\n",
    "Up to this point, all we've seen is how to find the first match in a string. But what if you have a string that has multiple matches in it. Let's review how to find a single match:"
   ]
  },
  {
   "cell_type": "code",
   "execution_count": 8,
   "metadata": {},
   "outputs": [
    {
     "name": "stdout",
     "output_type": "stream",
     "text": [
      "the\n"
     ]
    }
   ],
   "source": [
    "import re\n",
    "\n",
    "silly_string = \"the cat in the hat\"\n",
    "pattern = \"the\"\n",
    "match = re.search(pattern, silly_string)\n",
    "print(match.group())"
   ]
  },
  {
   "cell_type": "markdown",
   "metadata": {},
   "source": [
    "There are two instance of the word \"the\", but we only found one. let's use **findall** function:"
   ]
  },
  {
   "cell_type": "code",
   "execution_count": 9,
   "metadata": {},
   "outputs": [
    {
     "name": "stdout",
     "output_type": "stream",
     "text": [
      "['the', 'the']\n"
     ]
    }
   ],
   "source": [
    "import re\n",
    "silly_string = \"the cat in the hat\"\n",
    "pattern = \"the\"\n",
    "print(re.findall(pattern, silly_string))"
   ]
  },
  {
   "cell_type": "markdown",
   "metadata": {},
   "source": [
    "The **findall** function will search through the string you pass it and add each match to a list. Once it finishes searching your string, it will return a list of matches. The other way to find multiple matches is to use the **finditer** function."
   ]
  },
  {
   "cell_type": "code",
   "execution_count": 10,
   "metadata": {},
   "outputs": [
    {
     "name": "stdout",
     "output_type": "stream",
     "text": [
      "Found 'the' at 0:3\n",
      "Found 'the' at 11:14\n"
     ]
    }
   ],
   "source": [
    "import re\n",
    "\n",
    "silly_string = \"the cat in the hat\"\n",
    "pattern = \"the\"\n",
    "\n",
    "for match in re.finditer(pattern, silly_string):\n",
    "    s = \"Found '{group}' at {begin}:{end}\".format(\n",
    "        group = match.group(), begin = match.start(), end = match.end())\n",
    "    print(s)"
   ]
  },
  {
   "cell_type": "markdown",
   "metadata": {},
   "source": [
    "the finditer method returns an iterator of Match instances instead of the strings that you would get from findall. So we needed to do a little formatting of the results before we could print them out."
   ]
  },
  {
   "cell_type": "markdown",
   "metadata": {},
   "source": [
    "### Backslashes Are Complicated\n",
    "\n",
    "Backslashes are bit complicated in Python's regular expressions. The reason being that regular expressions use backslashes to indicate special forms or to allow a special character to be searched for instead of invoking it, such as when we want to search for an dollar sign:$. If we didn't backslash that, we'd just be creating an anchor. The issue comes in because Python uses the backslash character for the same thing in literal strings. Let's say you want to search for a string like this (minus the quotes):\"python\".\n",
    "\n",
    "To search for this in a regular expression, you will need to escape the backslash but because Python also uses the backslash, then that backslash also has to be escaped so you'll end up with the following search pattern: \"\\\\python\". Fortunately, Python supports raw strings be pre-pending the string with the letter 'r'. So we can make this more readable by doing the following: r\"\\python\".\n",
    "\n",
    "So if you need to search for something with a backslash, be sure to use raw strings or you may end up with some unexpected results!"
   ]
  },
  {
   "cell_type": "code",
   "execution_count": null,
   "metadata": {},
   "outputs": [],
   "source": []
  }
 ],
 "metadata": {
  "kernelspec": {
   "display_name": "Python 3",
   "language": "python",
   "name": "python3"
  },
  "language_info": {
   "codemirror_mode": {
    "name": "ipython",
    "version": 3
   },
   "file_extension": ".py",
   "mimetype": "text/x-python",
   "name": "python",
   "nbconvert_exporter": "python",
   "pygments_lexer": "ipython3",
   "version": "3.7.6"
  }
 },
 "nbformat": 4,
 "nbformat_minor": 4
}
