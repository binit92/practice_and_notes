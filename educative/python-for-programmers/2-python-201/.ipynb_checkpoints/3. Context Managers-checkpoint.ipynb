{
 "cells": [
  {
   "cell_type": "markdown",
   "metadata": {},
   "source": [
    "### Context Manager in Python\n",
    "\n",
    "Python came out with a special new keyword several years ago in Python 2.5 that is known as the **with statement**. This new keyword allows a developer to create context managers. But wait! What’s a context manager? They are handy constructs that allow you to set something up and tear something down automatically. For example, you might want to open a file, write a bunch of stuff to it and then close it. This is probably the classic example of a context manager. In fact, Python creates one automatically for you when you open a file using the with statement\n",
    "\n",
    "https://docs.python.org/3/library/contextlib.html"
   ]
  },
  {
   "cell_type": "code",
   "execution_count": 1,
   "metadata": {},
   "outputs": [
    {
     "ename": "NameError",
     "evalue": "name 'path' is not defined",
     "output_type": "error",
     "traceback": [
      "\u001b[1;31m---------------------------------------------------------------------------\u001b[0m",
      "\u001b[1;31mNameError\u001b[0m                                 Traceback (most recent call last)",
      "\u001b[1;32m<ipython-input-1-e2c9030f217e>\u001b[0m in \u001b[0;36m<module>\u001b[1;34m\u001b[0m\n\u001b[1;32m----> 1\u001b[1;33m \u001b[1;32mwith\u001b[0m \u001b[0mopen\u001b[0m\u001b[1;33m(\u001b[0m\u001b[0mpath\u001b[0m\u001b[1;33m,\u001b[0m \u001b[1;34m'w'\u001b[0m\u001b[1;33m)\u001b[0m \u001b[1;32mas\u001b[0m \u001b[0mf_obj\u001b[0m\u001b[1;33m:\u001b[0m\u001b[1;33m\u001b[0m\u001b[1;33m\u001b[0m\u001b[0m\n\u001b[0m\u001b[0;32m      2\u001b[0m     \u001b[0mf_obj\u001b[0m\u001b[1;33m.\u001b[0m\u001b[0mwrite\u001b[0m\u001b[1;33m(\u001b[0m\u001b[0msome_data\u001b[0m\u001b[1;33m)\u001b[0m\u001b[1;33m\u001b[0m\u001b[1;33m\u001b[0m\u001b[0m\n",
      "\u001b[1;31mNameError\u001b[0m: name 'path' is not defined"
     ]
    }
   ],
   "source": [
    "with open(path, 'w') as f_obj:\n",
    "    f_obj.write(some_data)"
   ]
  },
  {
   "cell_type": "markdown",
   "metadata": {},
   "source": [
    "Back in Python 2.4, you would have to do it old fashioned way:"
   ]
  },
  {
   "cell_type": "code",
   "execution_count": 2,
   "metadata": {},
   "outputs": [
    {
     "ename": "NameError",
     "evalue": "name 'path' is not defined",
     "output_type": "error",
     "traceback": [
      "\u001b[1;31m---------------------------------------------------------------------------\u001b[0m",
      "\u001b[1;31mNameError\u001b[0m                                 Traceback (most recent call last)",
      "\u001b[1;32m<ipython-input-2-b487a6759468>\u001b[0m in \u001b[0;36m<module>\u001b[1;34m\u001b[0m\n\u001b[1;32m----> 1\u001b[1;33m \u001b[0mf_obj\u001b[0m \u001b[1;33m=\u001b[0m \u001b[0mopen\u001b[0m\u001b[1;33m(\u001b[0m\u001b[0mpath\u001b[0m\u001b[1;33m,\u001b[0m\u001b[1;34m'w'\u001b[0m\u001b[1;33m)\u001b[0m\u001b[1;33m\u001b[0m\u001b[1;33m\u001b[0m\u001b[0m\n\u001b[0m\u001b[0;32m      2\u001b[0m \u001b[0mf_obj\u001b[0m\u001b[1;33m.\u001b[0m\u001b[0mwirte\u001b[0m\u001b[1;33m(\u001b[0m\u001b[0msome_data\u001b[0m\u001b[1;33m)\u001b[0m\u001b[1;33m\u001b[0m\u001b[1;33m\u001b[0m\u001b[0m\n\u001b[0;32m      3\u001b[0m \u001b[0mf_obj\u001b[0m\u001b[1;33m.\u001b[0m\u001b[0mclose\u001b[0m\u001b[1;33m(\u001b[0m\u001b[1;33m)\u001b[0m\u001b[1;33m\u001b[0m\u001b[1;33m\u001b[0m\u001b[0m\n",
      "\u001b[1;31mNameError\u001b[0m: name 'path' is not defined"
     ]
    }
   ],
   "source": [
    "f_obj = open(path,'w')\n",
    "f_obj.wirte(some_data)\n",
    "f_obj.close()"
   ]
  },
  {
   "cell_type": "markdown",
   "metadata": {},
   "source": [
    "The way this works under the covers is by using some of Python’s magic methods: __enter__ and __exit__. Let’s try creating our own context manager to demonstrate how this all works!"
   ]
  },
  {
   "cell_type": "markdown",
   "metadata": {},
   "source": [
    "### Creating a Context Manager class\n",
    "\n",
    "Rather than rewrite Python’s open method here, we’ll create a context manager that can create a SQLite database connection and close it when it’s done. Here’s a simple example:"
   ]
  },
  {
   "cell_type": "code",
   "execution_count": 3,
   "metadata": {},
   "outputs": [],
   "source": [
    "import sqlite3\n",
    "\n",
    "class DataConn:\n",
    "    \"\"\"\"\"\"\n",
    "    \n",
    "    def __init__(self,db_name):\n",
    "        \"\"\"Constructor\"\"\"\n",
    "        self.db_name = db_name\n",
    "    \n",
    "    def __enter__(self):\n",
    "        \"\"\"\n",
    "        Open the database connection\n",
    "        \"\"\"\n",
    "        self.conn = sqlite3.connect(self.db_name)\n",
    "        return self.conn\n",
    "    \n",
    "    def __exit__(self,exc_type, exc_val, exc_tb):\n",
    "        \"\"\"\n",
    "        Close the connection\n",
    "        \"\"\"\n",
    "        self.conn.close()\n",
    "        if exc_val:\n",
    "            raise\n",
    "            \n",
    "if __name__ == '__main__':\n",
    "    db = \"test.db\"\n",
    "    with DataConn(db)as conn:\n",
    "        cursor = conn.cursor()"
   ]
  },
  {
   "cell_type": "markdown",
   "metadata": {},
   "source": [
    "In the code above, we created a class that takes a path to a SQLite database file. The __enter__ method executes automatically where it creates and returns the database connection object. Now that we have that, we can create a cursor and write to the database or query it. When we exit the with statement, it causes the __exit__ method to execute and that closes the connection.\n",
    "\n",
    "Let’s try creating a context manager using another method"
   ]
  },
  {
   "cell_type": "markdown",
   "metadata": {},
   "source": [
    "### Creating a Context Manager using contextlib\n",
    "\n",
    "Python 2.5 not only added the with statement, but it added the contextlib module. This allows us to create a ContextManager using contextlib's contextmanager function as a decorator. Let's try to create a context manager that opens and closes a file after all.\n"
   ]
  },
  {
   "cell_type": "code",
   "execution_count": 4,
   "metadata": {},
   "outputs": [
    {
     "name": "stdout",
     "output_type": "stream",
     "text": [
      "Closing the file\n"
     ]
    }
   ],
   "source": [
    "from contextlib import contextmanager\n",
    "\n",
    "@contextmanager\n",
    "def file_open(path):\n",
    "    try:\n",
    "        f_obj = open(path,'w')\n",
    "        yield f_obj\n",
    "    except OSError:\n",
    "        print(\"We had an error!\")\n",
    "    finally:\n",
    "        print(\"Closing the file\")\n",
    "        f_obj.close()\n",
    "\n",
    "if __name__ == '__main__':\n",
    "    with file_open('test.txt')as f_obj:\n",
    "        f_obj.write(\"Testing context managers\")"
   ]
  },
  {
   "cell_type": "markdown",
   "metadata": {},
   "source": [
    "Here we just import **contextmanager** from **contextlib** and decorate our file_open function with it. This allows us to call file_open using Python's with statement. In our function, we open the file and then yield it out so the calling function can use it.\n",
    "\n",
    "Once the **with** statement ends, control returns back to the file_open function and it continues with the code following the yeild statement. That caused the finally statement to execute, which closed the file. If we happen to have an **OSError** while working with the file, it gets caught and finally statement still closes the file handler."
   ]
  },
  {
   "cell_type": "markdown",
   "metadata": {},
   "source": [
    "### contextlib.closing(thing)\n",
    "\n",
    "The contextlib module comes handy with some other utilities. The first one is **closing** class which will close the thing upon the completion of code block."
   ]
  },
  {
   "cell_type": "code",
   "execution_count": 5,
   "metadata": {},
   "outputs": [],
   "source": [
    "from contextlib import contextmanager\n",
    "\n",
    "@contextmanager\n",
    "def closing(db):\n",
    "    try:\n",
    "        yield db.conn()\n",
    "    finally:\n",
    "        db.close()"
   ]
  },
  {
   "cell_type": "markdown",
   "metadata": {},
   "source": [
    "Basically, what we 're doing is creating a closing function that is wrapped in a contextmanager. This is the equivalent of what closing class does. The difference is that instead of decorator, we can use **closing** class itself in our **with** statement. Let's look at this:"
   ]
  },
  {
   "cell_type": "code",
   "execution_count": 6,
   "metadata": {},
   "outputs": [
    {
     "name": "stdout",
     "output_type": "stream",
     "text": [
      "b'<!doctype html><html itemscope=\"\" itemtype=\"http://schema.org/WebPage\" lang=\"en-IN\"><head><meta content=\"text/html; charset=UTF-8\" http-equiv=\"Content-Type\"><meta content=\"/images/branding/googleg/1x/googleg_standard_color_128dp.png\" itemprop=\"image\"><title>Google</title><script nonce=\"ugr0ZxmvdY1fy4kOy9TaEA==\">(function(){window.google={kEI:\\'N6JRX6TgCMvG4-EPqc-m6AU\\',kEXPI:\\'0,18167,183995,1151585,5662,730,224,3657,1448,206,3204,10,1226,364,1499,611,206,383,246,5,1129,225,648,653,2799,133,5,176,3,373,677,91,40,153,735,130,116,206,245,506,114,82,31,26,103,7,658,1119056,1197760,303202,26305,13677,4855,32691,15248,867,28684,9188,8384,4859,1361,9291,3025,3892,845,5,11033,1808,4020,978,7932,5296,2974,873,38,4154,6430,1141,6291,1221,5875,4516,1399,1379,919,2277,8,87,2709,1593,1279,2212,530,149,1103,841,516,1522,4258,312,1132,4,3,2669,2023,544,1233,143,377,1947,2229,93,328,1284,16,2927,2247,1812,1787,3228,2844,7,5599,469,6286,4454,642,2450,3684,1742,4929,108,2854,553,908,2,941,2614,2397,7470,1704,473,1098,3,346,230,970,44,1,820,7,4617,149,189,3313,743,1745,2220,32,4109,1624,4,1528,2304,224,1012,1145,327,79,1859,445,1372,278,298,74,462,41,1,1213,52,75,4,135,1107,1056,464,459,1552,2567,1503,2351,3,2108,1172,1426,69,305,337,1,678,1094,200,1514,1012,285,935,300,518,690,1968,1396,350,2,1288,1019,188,320,198,25,887,564,689,431,30,1303,2466,223,1315,23,1102,655,530,460,52,535,86,1153,1010,246,256,737,79,1,393,33,970,850,446,2,102,217,688,6,632,146,382,29,108,3,956,360,115,2,94,199,303,887,156,1167,772,229,562,80,4,27,180,319,3,925,64,1371,150,349,299,524,232,236,1,203,290,58,48,5,60,354,89,315,370,1136,689,2,76,704,421,5765690,8801915,549,333,444,1,2,80,1,900,896,1,9,2,2551,1,748,141,59,736,563,1,4265,1,1,2,1017,9,305,3299,248,283,527,32,1,5,7,3,1,6,1,14,10,2,1,1,8,12,6,10,8,2,35,12,2,1,23959866,54,2704777,2603,3\\',kBL:\\'QdLX\\'};google.sn=\\'webhp\\';google.kHL=\\'en-IN\\';})();(function(){google.lc=[];google.li=0;google.getEI=function(a){for(var c;a&&(!a.getAttribute||!(c=a.getAttribute(\"eid\")));)a=a.parentNode;return c||google.kEI};google.getLEI=function(a){for(var c=null;a&&(!a.getAttribute||!(c=a.getAttribute(\"leid\")));)a=a.parentNode;return c};google.ml=function(){return null};google.time=function(){return Date.now()};google.log=function(a,c,b,d,g){if(b=google.logUrl(a,c,b,d,g)){a=new Image;var e=google.lc,f=google.li;e[f]=a;a.onerror=a.onload=a.onabort=function(){delete e[f]};google.vel&&google.vel.lu&&google.vel.lu(b);a.src=b;google.li=f+1}};google.logUrl=function(a,c,b,d,g){var e=\"\",f=google.ls||\"\";b||-1!=c.search(\"&ei=\")||(e=\"&ei=\"+google.getEI(d),-1==c.search(\"&lei=\")&&(d=google.getLEI(d))&&(e+=\"&lei=\"+d));d=\"\";!b&&google.cshid&&-1==c.search(\"&cshid=\")&&\"slh\"!=a&&(d=\"&cshid=\"+google.cshid);b=b||\"/\"+(g||\"gen_204\")+\"?atyp=i&ct=\"+a+\"&cad=\"+c+e+f+\"&zx=\"+google.time()+d;/^http:/i.test(b)&&\"https:\"==window.location.protocol&&(google.ml(Error(\"a\"),!1,{src:b,glmm:1}),b=\"\");return b};}).call(this);(function(){google.y={};google.x=function(a,b){if(a)var c=a.id;else{do c=Math.random();while(google.y[c])}google.y[c]=[a,b];return!1};google.lm=[];google.plm=function(a){google.lm.push.apply(google.lm,a)};google.lq=[];google.load=function(a,b,c){google.lq.push([[a],b,c])};google.loadAll=function(a,b){google.lq.push([a,b])};}).call(this);google.f={};(function(){\\n'\n"
     ]
    }
   ],
   "source": [
    "# notice, it is importing closing .. \n",
    "from contextlib import closing\n",
    "from urllib.request import urlopen\n",
    "\n",
    "with closing(urlopen('http://www.google.com')) as webpage:\n",
    "    for line in webpage:\n",
    "        print(line)\n",
    "        # don't flood the notebook\n",
    "        break \n",
    "        "
   ]
  },
  {
   "cell_type": "markdown",
   "metadata": {},
   "source": [
    "In this example, we open a url page but wrap it with our closing class. This will cause the handle to the web page to be closed once we fall out of the with statement’s code block."
   ]
  },
  {
   "cell_type": "markdown",
   "metadata": {},
   "source": [
    "### contextlib.suppress(*exceptions)\n",
    "\n",
    "Another handy tool is **suppress** class which was added in Python 3.4. The idea behind the context manager utility is that it can suppress any number of exceptions. Let's say we want to ignore the **FileNotFoundError** exception. "
   ]
  },
  {
   "cell_type": "code",
   "execution_count": 7,
   "metadata": {},
   "outputs": [
    {
     "ename": "FileNotFoundError",
     "evalue": "[Errno 2] No such file or directory: 'fauxfile.txt'",
     "output_type": "error",
     "traceback": [
      "\u001b[1;31m---------------------------------------------------------------------------\u001b[0m",
      "\u001b[1;31mFileNotFoundError\u001b[0m                         Traceback (most recent call last)",
      "\u001b[1;32m<ipython-input-7-50fbdc71809b>\u001b[0m in \u001b[0;36m<module>\u001b[1;34m\u001b[0m\n\u001b[1;32m----> 1\u001b[1;33m \u001b[1;32mwith\u001b[0m \u001b[0mopen\u001b[0m\u001b[1;33m(\u001b[0m\u001b[1;34m'fauxfile.txt'\u001b[0m\u001b[1;33m)\u001b[0m \u001b[1;32mas\u001b[0m \u001b[0mfobj\u001b[0m\u001b[1;33m:\u001b[0m\u001b[1;33m\u001b[0m\u001b[1;33m\u001b[0m\u001b[0m\n\u001b[0m\u001b[0;32m      2\u001b[0m     \u001b[1;32mfor\u001b[0m \u001b[0mline\u001b[0m \u001b[1;32min\u001b[0m \u001b[0mfobj\u001b[0m\u001b[1;33m:\u001b[0m\u001b[1;33m\u001b[0m\u001b[1;33m\u001b[0m\u001b[0m\n\u001b[0;32m      3\u001b[0m         \u001b[0mprint\u001b[0m\u001b[1;33m(\u001b[0m\u001b[0mline\u001b[0m\u001b[1;33m)\u001b[0m\u001b[1;33m\u001b[0m\u001b[1;33m\u001b[0m\u001b[0m\n",
      "\u001b[1;31mFileNotFoundError\u001b[0m: [Errno 2] No such file or directory: 'fauxfile.txt'"
     ]
    }
   ],
   "source": [
    "with open('fauxfile.txt') as fobj:\n",
    "    for line in fobj:\n",
    "        print(line)"
   ]
  },
  {
   "cell_type": "markdown",
   "metadata": {},
   "source": [
    "As we can see, this context manager doesn't handle the exception. We can ignore this error like this:"
   ]
  },
  {
   "cell_type": "code",
   "execution_count": 8,
   "metadata": {},
   "outputs": [],
   "source": [
    "from contextlib import suppress\n",
    "\n",
    "with suppress(FileNotFoundError):\n",
    "    with open('fauxfile.txt') as fobj:\n",
    "        for line in fobj:\n",
    "            print(line)"
   ]
  },
  {
   "cell_type": "markdown",
   "metadata": {},
   "source": [
    "Here we import **suppress** and pass it the exception that we want to ignore. File doesn't exists, but an error is also not raised. It should be noted that this contextmanager is **reentrant**"
   ]
  },
  {
   "cell_type": "markdown",
   "metadata": {},
   "source": [
    "### contextlib.redirect_stdout / redirect_stderr\n",
    "\n",
    "The contextlib has couble of neat tools to redirecting stdout and stderr that we added in Python 3.4 and Python 3.5 respectively. Before this tools has been added, it is done like this :"
   ]
  },
  {
   "cell_type": "code",
   "execution_count": null,
   "metadata": {},
   "outputs": [],
   "source": [
    "import sys \n",
    "\n",
    "path = 'text.txt'\n",
    "with open(path,'w') as fobj:\n",
    "    sys.stdout = fobj\n",
    "    help(sum)"
   ]
  },
  {
   "cell_type": "markdown",
   "metadata": {},
   "source": [
    "with the contextlib module, you can do the following:\n"
   ]
  },
  {
   "cell_type": "code",
   "execution_count": null,
   "metadata": {},
   "outputs": [],
   "source": [
    "from contextlib import redirect_stdout\n",
    "\n",
    "path = 'text1.txt'\n",
    "with open(path,'w') as fobj:\n",
    "    with redirect_stdout(fobj):\n",
    "        help(redirect_stdout)"
   ]
  },
  {
   "cell_type": "markdown",
   "metadata": {},
   "source": [
    "In both these examples, we are redirecting stdout to a file. When we call Python's **help**, instead of printing to stdout, it gets saved directly to the file. You could also redirect stdout to some kind of buffer or text control type widget from a user interface toolkit like Tkinter or wxPython"
   ]
  },
  {
   "cell_type": "markdown",
   "metadata": {},
   "source": [
    "### ExitStack\n",
    "\n",
    "**ExitStack** is a context manager that will allow you to easily programmatically combine other context managers and cleanup functions. It sounds kind of confusing at first, so let's at an example from the Python documentation to help us understand this idea a bit better:"
   ]
  },
  {
   "cell_type": "code",
   "execution_count": null,
   "metadata": {},
   "outputs": [],
   "source": [
    "from contextlib import ExitStack\n",
    "\n",
    "with ExitStack() as stack:\n",
    "    file_objects = [stack.enter_context(open(filename))\n",
    "    for filename in filenames]"
   ]
  },
  {
   "cell_type": "markdown",
   "metadata": {},
   "source": [
    "This code basically creates a series of context managers inside the list comprehension. The ExitStack maintains a stack of registered callbacks that it will call in reverse order when the instance it closed, which happens when we exit of bottom of the **with** statement.\n",
    "\n",
    "There are bunch of neat examples in Python documentation for contextlib where you can learn about topics like following:\n",
    "+ Catching exceptions from __enter__ methods\n",
    "+ Supporting a variable number of context managers \n",
    "+ Replacing any using try-finally\n",
    "+ and much more! \n",
    "\n",
    "#### TODO : add these examples here .."
   ]
  },
  {
   "cell_type": "markdown",
   "metadata": {},
   "source": [
    "### Reentrant Context Managers\n",
    "\n",
    "Most context managers that you create will be written such that they can only be used once with  **with** statement. for e.g :"
   ]
  },
  {
   "cell_type": "code",
   "execution_count": null,
   "metadata": {},
   "outputs": [
    {
     "name": "stderr",
     "output_type": "stream",
     "text": [
      "Exception in thread IPythonHistorySavingThread:\n",
      "Traceback (most recent call last):\n",
      "  File \"C:\\Users\\aviator\\anaconda3\\lib\\site-packages\\IPython\\core\\history.py\", line 780, in writeout_cache\n",
      "    self._writeout_input_cache(conn)\n",
      "  File \"C:\\Users\\aviator\\anaconda3\\lib\\site-packages\\IPython\\core\\history.py\", line 764, in _writeout_input_cache\n",
      "    (self.session_number,)+line)\n",
      "sqlite3.IntegrityError: UNIQUE constraint failed: history.session, history.line\n",
      "\n",
      "During handling of the above exception, another exception occurred:\n",
      "\n",
      "Traceback (most recent call last):\n",
      "  File \"C:\\Users\\aviator\\anaconda3\\lib\\site-packages\\IPython\\core\\history.py\", line 834, in run\n",
      "    self.history_manager.writeout_cache(self.db)\n",
      "  File \"<C:\\Users\\aviator\\anaconda3\\lib\\site-packages\\decorator.py:decorator-gen-23>\", line 2, in writeout_cache\n",
      "  File \"C:\\Users\\aviator\\anaconda3\\lib\\site-packages\\IPython\\core\\history.py\", line 58, in needs_sqlite\n",
      "    return f(self, *a, **kw)\n",
      "  File \"C:\\Users\\aviator\\anaconda3\\lib\\site-packages\\IPython\\core\\history.py\", line 785, in writeout_cache\n",
      "    self.session_number)\n",
      "ValueError: I/O operation on closed file.\n",
      "\n",
      "During handling of the above exception, another exception occurred:\n",
      "\n",
      "Traceback (most recent call last):\n",
      "  File \"C:\\Users\\aviator\\anaconda3\\lib\\threading.py\", line 926, in _bootstrap_inner\n",
      "    self.run()\n",
      "  File \"<C:\\Users\\aviator\\anaconda3\\lib\\site-packages\\decorator.py:decorator-gen-24>\", line 2, in run\n",
      "  File \"C:\\Users\\aviator\\anaconda3\\lib\\site-packages\\IPython\\core\\history.py\", line 58, in needs_sqlite\n",
      "    return f(self, *a, **kw)\n",
      "  File \"C:\\Users\\aviator\\anaconda3\\lib\\site-packages\\IPython\\core\\history.py\", line 837, in run\n",
      "    \"History will not be written to the database.\") % repr(e))\n",
      "ValueError: I/O operation on closed file.\n",
      "\n"
     ]
    }
   ],
   "source": [
    "from contextlib import contextmanager\n",
    "\n",
    "@contextmanager\n",
    "def single():\n",
    "    print('Yielding')\n",
    "    yield\n",
    "    print('Existing context manager')\n",
    "context = single()\n",
    "\n",
    "with context:\n",
    "    pass\n",
    "\n",
    "#Yielding\n",
    "#Exiting context manager\n",
    "\n",
    "with context:\n",
    "    pass\n",
    "\n",
    "#Traceback (most recent call last):\n",
    "#  File \"/usercode/__ed_file.py\", line 14, in <module>\n",
    "# with context\n",
    "#  File \"/usr/local/lib/python3.5/contextlib.py\", line 61, in __enter__\n",
    "#    raise RuntimeError(\"generator didn't yield\") from None\n",
    "#RuntimeError: generator didn't yield"
   ]
  },
  {
   "cell_type": "markdown",
   "metadata": {},
   "source": [
    "Here we create an instance of our context manager and try running it twice with Python’s with statement. The second time it runs, it raises a **RuntimeError**.\n",
    "\n",
    "But what if we wanted to be able to run the context manager twice? Well we’d need to use one that is “reentrant”. Let’s use the **redirect_stdout** context manager that we used before!"
   ]
  },
  {
   "cell_type": "code",
   "execution_count": 1,
   "metadata": {},
   "outputs": [
    {
     "name": "stdout",
     "output_type": "stream",
     "text": [
      "Write something to the stream\n",
      "Write something else to the stream\n",
      "\n"
     ]
    }
   ],
   "source": [
    "from contextlib import redirect_stdout\n",
    "from io import StringIO\n",
    "\n",
    "stream = StringIO()\n",
    "write_to_stream = redirect_stdout(stream)\n",
    "with write_to_stream:\n",
    "    print('Write something to the stream')\n",
    "    with write_to_stream:\n",
    "        print('Write something else to the stream')\n",
    "\n",
    "print(stream.getvalue())"
   ]
  },
  {
   "cell_type": "markdown",
   "metadata": {},
   "source": [
    "Here we create a nested context manager where they both write to StringIO, which is an in-memory text stream. The reason this works instead of raising a RuntimeError like before is that redirect_stdout is reentrant and allows us to call it twice. Of course, a real world example would be much more complex with more functions calling each other. Please also note that reentrant context managers are not necessarily thread-safe. Read the documentation before trying to use them in a thread.\n",
    "\n",
    "### Wrapping Up\n",
    "Context managers are a lot of fun and come in handy all the time. I use them in my automated tests all the time for opening and closing dialogs, for example. Now you should be able to use some of Python’s built-in tools to create your own context managers. Be sure to take the time to read the Python documentation on contextlib as there are lots of additional information that is not covered in this chapter. Have fun and happy coding!"
   ]
  },
  {
   "cell_type": "code",
   "execution_count": null,
   "metadata": {},
   "outputs": [],
   "source": []
  },
  {
   "cell_type": "code",
   "execution_count": null,
   "metadata": {},
   "outputs": [],
   "source": []
  },
  {
   "cell_type": "code",
   "execution_count": null,
   "metadata": {},
   "outputs": [],
   "source": []
  },
  {
   "cell_type": "code",
   "execution_count": null,
   "metadata": {},
   "outputs": [],
   "source": []
  },
  {
   "cell_type": "code",
   "execution_count": null,
   "metadata": {},
   "outputs": [],
   "source": []
  },
  {
   "cell_type": "code",
   "execution_count": null,
   "metadata": {},
   "outputs": [],
   "source": []
  }
 ],
 "metadata": {
  "kernelspec": {
   "display_name": "Python 3",
   "language": "python",
   "name": "python3"
  },
  "language_info": {
   "codemirror_mode": {
    "name": "ipython",
    "version": 3
   },
   "file_extension": ".py",
   "mimetype": "text/x-python",
   "name": "python",
   "nbconvert_exporter": "python",
   "pygments_lexer": "ipython3",
   "version": "3.7.6"
  }
 },
 "nbformat": 4,
 "nbformat_minor": 4
}
