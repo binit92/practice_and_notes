{
 "cells": [
  {
   "cell_type": "markdown",
   "metadata": {},
   "source": [
    "###  Introduction of Unicode\n",
    "\n",
    "One of the major changes in Python 3 was the move to make all strings Unicode. Previously, there was a str type and a unicode type. For example:\n",
    "\n",
    "```\n",
    "# Python 2\n",
    "x = 'blah'\n",
    "print (type(x))\n",
    "#str\n",
    "\n",
    "y = u'blah'\n",
    "print (type(y))\n",
    "#unicode\n",
    "```\n",
    "\n",
    "If we do the same thing in Python 3, you will note that it always returns a string type\n",
    "\n",
    "```\n",
    "# Python 3\n",
    "x = 'blah'\n",
    "print (type(x))\n",
    "#<class 'str'>\n",
    "\n",
    "y = u'blah'\n",
    "print (type(y) )\n",
    "#<class 'str'>\n",
    "```\n",
    "\n",
    "Python 3 defaults to the UTF-8 encoding. What all this means is that you can now use Unicode characters in your strings and for variable names. so a text file written in Russion will open in Python3 but not in Python2\n",
    "\n",
    "```\n",
    "# Python 2\n",
    "print ('abcdef' + chr(255))\n",
    "#'abcdef\\xff'\n",
    "```\n",
    "\n",
    "Note that the end of that string has some funny characters there. That should be a “ÿ” instead of xff, which is basically a hex version of the character. In Python 3 you will get what you expect:\n",
    "\n",
    "```\n",
    "# Python 3\n",
    "print (('abcdef' + chr(255)).encode('utf-8'))\n",
    "#b'abcdef\\xc3\\xbf'\n",
    "```"
   ]
  },
  {
   "cell_type": "markdown",
   "metadata": {},
   "source": [
    "###  Encoding/Decoding\n",
    "\n",
    "Back in the Pythons 2 days, you quickly learned that you cannot decode a unicode string and you cannot encode a str type either. If you tried to take a unicode string and decode it to ascii (i.e. convert it to a byte string), you would get a UnicodeEncodeError. For example:"
   ]
  },
  {
   "cell_type": "code",
   "execution_count": null,
   "metadata": {},
   "outputs": [],
   "source": [
    "u\"\\xa0\".decode(\"ascii\")\n",
    "\n",
    "#Traceback (most recent call last):\n",
    "#   File \"/usercode/__ed_file.py\", line 1, in <module>\n",
    "#    u\"\\xa0\".decode(\"ascii\")\n",
    "#UnicodeEncodeError: 'ascii' codec can't encode character u'\\xa0' in position 0: ordinal not in range(128)"
   ]
  },
  {
   "cell_type": "markdown",
   "metadata": {},
   "source": [
    "If you tried something like this in Python 3, you would get an AttributeError"
   ]
  },
  {
   "cell_type": "code",
   "execution_count": 2,
   "metadata": {},
   "outputs": [
    {
     "ename": "AttributeError",
     "evalue": "'str' object has no attribute 'decode'",
     "output_type": "error",
     "traceback": [
      "\u001b[1;31m---------------------------------------------------------------------------\u001b[0m",
      "\u001b[1;31mAttributeError\u001b[0m                            Traceback (most recent call last)",
      "\u001b[1;32m<ipython-input-2-44ac0b4f6a98>\u001b[0m in \u001b[0;36m<module>\u001b[1;34m\u001b[0m\n\u001b[1;32m----> 1\u001b[1;33m \u001b[1;34mu\"\\xa0\"\u001b[0m\u001b[1;33m.\u001b[0m\u001b[0mdecode\u001b[0m\u001b[1;33m(\u001b[0m\u001b[1;34m\"ascii\"\u001b[0m\u001b[1;33m)\u001b[0m\u001b[1;33m\u001b[0m\u001b[1;33m\u001b[0m\u001b[0m\n\u001b[0m",
      "\u001b[1;31mAttributeError\u001b[0m: 'str' object has no attribute 'decode'"
     ]
    }
   ],
   "source": [
    "u\"\\xa0\".decode(\"ascii\")"
   ]
  },
  {
   "cell_type": "markdown",
   "metadata": {},
   "source": [
    "The reason is pretty obvious in that strings in Python 3 don’t have the decode attribute. However, byte strings do! Let’s try a byte string instead:"
   ]
  },
  {
   "cell_type": "code",
   "execution_count": 3,
   "metadata": {},
   "outputs": [
    {
     "ename": "UnicodeDecodeError",
     "evalue": "'ascii' codec can't decode byte 0xa0 in position 0: ordinal not in range(128)",
     "output_type": "error",
     "traceback": [
      "\u001b[1;31m---------------------------------------------------------------------------\u001b[0m",
      "\u001b[1;31mUnicodeDecodeError\u001b[0m                        Traceback (most recent call last)",
      "\u001b[1;32m<ipython-input-3-d9b779af8134>\u001b[0m in \u001b[0;36m<module>\u001b[1;34m\u001b[0m\n\u001b[1;32m----> 1\u001b[1;33m \u001b[1;34mb\"\\xa0\"\u001b[0m\u001b[1;33m.\u001b[0m\u001b[0mdecode\u001b[0m\u001b[1;33m(\u001b[0m\u001b[1;34m\"ascii\"\u001b[0m\u001b[1;33m)\u001b[0m\u001b[1;33m\u001b[0m\u001b[1;33m\u001b[0m\u001b[0m\n\u001b[0m",
      "\u001b[1;31mUnicodeDecodeError\u001b[0m: 'ascii' codec can't decode byte 0xa0 in position 0: ordinal not in range(128)"
     ]
    }
   ],
   "source": [
    "b\"\\xa0\".decode(\"ascii\")"
   ]
  },
  {
   "cell_type": "markdown",
   "metadata": {},
   "source": [
    "That still didn’t quite work the way we wanted as the ASCII codec didn’t know how to handle the character we passed to it. Fortunately you can pass extra parameters to the decode method and make this work:"
   ]
  },
  {
   "cell_type": "code",
   "execution_count": 4,
   "metadata": {},
   "outputs": [
    {
     "data": {
      "text/plain": [
       "'�'"
      ]
     },
     "execution_count": 4,
     "metadata": {},
     "output_type": "execute_result"
    }
   ],
   "source": [
    "b\"\\xa0\".decode(\"ascii\",\"replace\")"
   ]
  },
  {
   "cell_type": "code",
   "execution_count": 5,
   "metadata": {},
   "outputs": [
    {
     "data": {
      "text/plain": [
       "''"
      ]
     },
     "execution_count": 5,
     "metadata": {},
     "output_type": "execute_result"
    }
   ],
   "source": [
    "b\"\\xa0\".decode(\"ascii\",'ignore')"
   ]
  },
  {
   "cell_type": "markdown",
   "metadata": {},
   "source": [
    "This example shows what happens if you tell the decode method to replace the character or to just ignore it. You can see the results for yourself.\n",
    "\n",
    "Now let’s look at an example from the Python documentation to learn how to encode a string"
   ]
  },
  {
   "cell_type": "code",
   "execution_count": 6,
   "metadata": {},
   "outputs": [
    {
     "name": "stdout",
     "output_type": "stream",
     "text": [
      "b'\\xea\\x80\\x80abcd\\xde\\xb4'\n"
     ]
    },
    {
     "ename": "UnicodeEncodeError",
     "evalue": "'ascii' codec can't encode character '\\ua000' in position 0: ordinal not in range(128)",
     "output_type": "error",
     "traceback": [
      "\u001b[1;31m---------------------------------------------------------------------------\u001b[0m",
      "\u001b[1;31mUnicodeEncodeError\u001b[0m                        Traceback (most recent call last)",
      "\u001b[1;32m<ipython-input-6-198997c3f4ac>\u001b[0m in \u001b[0;36m<module>\u001b[1;34m\u001b[0m\n\u001b[0;32m      3\u001b[0m \u001b[1;33m\u001b[0m\u001b[0m\n\u001b[0;32m      4\u001b[0m \u001b[1;33m\u001b[0m\u001b[0m\n\u001b[1;32m----> 5\u001b[1;33m \u001b[0mprint\u001b[0m \u001b[1;33m(\u001b[0m\u001b[0mu\u001b[0m\u001b[1;33m.\u001b[0m\u001b[0mencode\u001b[0m\u001b[1;33m(\u001b[0m\u001b[1;34m'ascii'\u001b[0m\u001b[1;33m)\u001b[0m\u001b[1;33m)\u001b[0m\u001b[1;33m\u001b[0m\u001b[1;33m\u001b[0m\u001b[0m\n\u001b[0m",
      "\u001b[1;31mUnicodeEncodeError\u001b[0m: 'ascii' codec can't encode character '\\ua000' in position 0: ordinal not in range(128)"
     ]
    }
   ],
   "source": [
    "u = chr(40960) + 'abcd' + chr(1972)\n",
    "print (u.encode('utf-8'))\n",
    "\n",
    "\n",
    "print (u.encode('ascii'))"
   ]
  },
  {
   "cell_type": "code",
   "execution_count": 7,
   "metadata": {},
   "outputs": [
    {
     "name": "stdout",
     "output_type": "stream",
     "text": [
      "b'abcd'\n",
      "b'?abcd?'\n"
     ]
    }
   ],
   "source": [
    "u = chr(40960) + 'abcd' + chr(1972)\n",
    "\n",
    "print (u.encode('ascii', 'ignore'))\n",
    "#b'abcd'\n",
    "\n",
    "print (u.encode('ascii', 'replace'))\n",
    "#b'?abcd?'"
   ]
  },
  {
   "cell_type": "markdown",
   "metadata": {},
   "source": [
    "For this example, we took a string and added a non-ASCII character to the beginning and the end of the string. Then we tried to convert the string to a bytes representation of the Unicode string using the encode method. The first attempt did not work and gave us an error. The next one used the ignore flag, which basically removed the non-ASCII characters from the string entirely. The last example uses the replace flag which just puts question marks in place for the unknown Unicode characters.\n",
    "\n",
    "If you need to work with encodings a lot, Python also has a module called **codecs** that you should check out."
   ]
  },
  {
   "cell_type": "code",
   "execution_count": null,
   "metadata": {},
   "outputs": [],
   "source": []
  }
 ],
 "metadata": {
  "kernelspec": {
   "display_name": "Python 3",
   "language": "python",
   "name": "python3"
  },
  "language_info": {
   "codemirror_mode": {
    "name": "ipython",
    "version": 3
   },
   "file_extension": ".py",
   "mimetype": "text/x-python",
   "name": "python",
   "nbconvert_exporter": "python",
   "pygments_lexer": "ipython3",
   "version": "3.7.6"
  }
 },
 "nbformat": 4,
 "nbformat_minor": 4
}
