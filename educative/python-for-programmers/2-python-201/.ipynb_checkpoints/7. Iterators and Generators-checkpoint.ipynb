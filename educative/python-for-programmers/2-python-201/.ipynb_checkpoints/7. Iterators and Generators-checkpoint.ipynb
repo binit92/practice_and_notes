{
 "cells": [
  {
   "cell_type": "markdown",
   "metadata": {},
   "source": [
    "### Introduction to Iterators \n",
    "\n",
    "You have probably beeing using iterators and generators since you started programming in Python but you may not have realized it. \n",
    "\n",
    "### Iterators \n",
    "\n",
    "An iterator is an object that will allow you to iterate over a container. the iterator in Python is implemeted via two ditinct methods: \\_\\_iter\\_\\_ and \\_\\_next\\_\\_.  The `__iter__` method is required for your contaienr to provide iteration support. It will return the iterator object itself. But if you wnat to create an iterator object, then you will need to define `__next__` as well, which will return the next item in the container.\n",
    "\n",
    "\n",
    "To make things extra clear:\n",
    "+ **iterable** - an object that has the `__iter__` method defined\n",
    "+ **iterator** - an object that has both `__iter__` and `__next__` defined where `__iter__` will return the iterator object and `__next__` will return the next element in the iteration.\n",
    "\n",
    "As with most magic methods(the methods with double-underscores), you should not call `__iter__` or `__next__` directly. Instead you can use a **for** loop or list comprehension and Python will call the methods for you automatically. There are cases when you may need to call them, but you can do so with Python's built-ins: **iter** and **next**\n",
    "\n",
    "\n",
    "Before we move on, let's take a look at Sequences. Python 3 has several sequence types such as list,tuple and range. The list is an iterable, but not an iterator because it does not implement `__next__`. This can be easily seen in following example:"
   ]
  },
  {
   "cell_type": "code",
   "execution_count": 1,
   "metadata": {},
   "outputs": [
    {
     "ename": "TypeError",
     "evalue": "'list' object is not an iterator",
     "output_type": "error",
     "traceback": [
      "\u001b[1;31m---------------------------------------------------------------------------\u001b[0m",
      "\u001b[1;31mTypeError\u001b[0m                                 Traceback (most recent call last)",
      "\u001b[1;32m<ipython-input-1-403e386ea409>\u001b[0m in \u001b[0;36m<module>\u001b[1;34m\u001b[0m\n\u001b[0;32m      1\u001b[0m \u001b[0mmy_list\u001b[0m \u001b[1;33m=\u001b[0m \u001b[1;33m[\u001b[0m\u001b[1;36m1\u001b[0m\u001b[1;33m,\u001b[0m\u001b[1;36m2\u001b[0m\u001b[1;33m,\u001b[0m\u001b[1;36m3\u001b[0m\u001b[1;33m]\u001b[0m\u001b[1;33m\u001b[0m\u001b[1;33m\u001b[0m\u001b[0m\n\u001b[1;32m----> 2\u001b[1;33m \u001b[0mnext\u001b[0m\u001b[1;33m(\u001b[0m\u001b[0mmy_list\u001b[0m\u001b[1;33m)\u001b[0m\u001b[1;33m\u001b[0m\u001b[1;33m\u001b[0m\u001b[0m\n\u001b[0m",
      "\u001b[1;31mTypeError\u001b[0m: 'list' object is not an iterator"
     ]
    }
   ],
   "source": [
    "my_list = [1,2,3]\n",
    "next(my_list)"
   ]
  },
  {
   "cell_type": "markdown",
   "metadata": {},
   "source": [
    "When we tried to call the list's next method in the example above, we received a **TypeError** and were informed that the list object is not an iterator. But we can make it one! "
   ]
  },
  {
   "cell_type": "code",
   "execution_count": 7,
   "metadata": {},
   "outputs": [
    {
     "name": "stdout",
     "output_type": "stream",
     "text": [
      "<list_iterator object at 0x000001AD90C641C8>\n",
      "1\n",
      "2\n",
      "3\n"
     ]
    },
    {
     "ename": "StopIteration",
     "evalue": "",
     "output_type": "error",
     "traceback": [
      "\u001b[1;31m---------------------------------------------------------------------------\u001b[0m",
      "\u001b[1;31mStopIteration\u001b[0m                             Traceback (most recent call last)",
      "\u001b[1;32m<ipython-input-7-078a398841ef>\u001b[0m in \u001b[0;36m<module>\u001b[1;34m\u001b[0m\n\u001b[0;32m      9\u001b[0m \u001b[0mprint\u001b[0m\u001b[1;33m(\u001b[0m\u001b[0mnext\u001b[0m\u001b[1;33m(\u001b[0m\u001b[0mlist_iterator\u001b[0m\u001b[1;33m)\u001b[0m\u001b[1;33m)\u001b[0m\u001b[1;33m\u001b[0m\u001b[1;33m\u001b[0m\u001b[0m\n\u001b[0;32m     10\u001b[0m \u001b[1;33m\u001b[0m\u001b[0m\n\u001b[1;32m---> 11\u001b[1;33m \u001b[0mprint\u001b[0m\u001b[1;33m(\u001b[0m\u001b[0mnext\u001b[0m\u001b[1;33m(\u001b[0m\u001b[0mlist_iterator\u001b[0m\u001b[1;33m)\u001b[0m\u001b[1;33m)\u001b[0m\u001b[1;33m\u001b[0m\u001b[1;33m\u001b[0m\u001b[0m\n\u001b[0m",
      "\u001b[1;31mStopIteration\u001b[0m: "
     ]
    }
   ],
   "source": [
    "print(iter(my_list))\n",
    "#<list_iterator object at 0x000001AD90CF64C8>\n",
    "\n",
    "list_iterator = iter(my_list)\n",
    "print(next(list_iterator))\n",
    "\n",
    "print(next(list_iterator))\n",
    "\n",
    "print(next(list_iterator))\n",
    "\n",
    "print(next(list_iterator))"
   ]
  },
  {
   "cell_type": "markdown",
   "metadata": {},
   "source": [
    "To turn the list into an iterator, just wrap it in a call yo Python's **iter** method. Then you can call **next** on it untill the iterator runs our of items and **StopIteration** gets raised. Let's try turning the list into an iterator and iterating over it with a loop:"
   ]
  },
  {
   "cell_type": "code",
   "execution_count": 6,
   "metadata": {},
   "outputs": [
    {
     "name": "stdout",
     "output_type": "stream",
     "text": [
      "1\n",
      "2\n",
      "3\n"
     ]
    }
   ],
   "source": [
    "for item in iter(my_list):\n",
    "    print(item)"
   ]
  },
  {
   "cell_type": "markdown",
   "metadata": {},
   "source": [
    "When you use a loop to iterate over the iterator, you don't need to call next and you also don't have to worry about the StopIteration exception being raised."
   ]
  },
  {
   "cell_type": "markdown",
   "metadata": {},
   "source": [
    "### Creating your own iterators\n",
    "\n",
    "Occasionally you will want to create your own custom iterators. Python makes this very easy to do. As mentioned in the previous section, all you need to do is implement the `__iter__` and `__next__` methods in your class. Let's create an iterator that can iterate over a string of letters:\n"
   ]
  },
  {
   "cell_type": "code",
   "execution_count": 10,
   "metadata": {},
   "outputs": [
    {
     "name": "stdout",
     "output_type": "stream",
     "text": [
      "a\n",
      "b\n",
      "c\n",
      "d\n"
     ]
    }
   ],
   "source": [
    "class MyIterator:\n",
    "    \n",
    "    def __init__(self,letters):\n",
    "        \"\"\"Constructor\"\"\"\n",
    "        self.letters = letters\n",
    "        self.position = 0\n",
    "    \n",
    "    def __iter__(self):\n",
    "        \"\"\"\n",
    "        Return itself as an iterator\n",
    "        \"\"\"\n",
    "        return self\n",
    "    \n",
    "    def __next__(self):\n",
    "        \"\"\"\n",
    "        Returns the next letter in the sequence \n",
    "        or raises StopIteration\n",
    "        \"\"\"\n",
    "        if self.position >=len(self.letters):\n",
    "            raise StopIteration\n",
    "        letter = self.letters[self.position]\n",
    "        self.position += 1\n",
    "        return letter\n",
    "\n",
    "if __name__ == '__main__':\n",
    "    i = MyIterator('abcd')\n",
    "    for item in i:\n",
    "        print(item)"
   ]
  },
  {
   "cell_type": "markdown",
   "metadata": {},
   "source": [
    "For this example, we only needed three methods in our class. In our initialization, we pass in the string of letters and create a class variable to refer to them. We also initialize a position variable so we always know where we're at in the string. The `__iter__` method just returns itself, which is all it really need to do. The `__next__` method is the meatiest part of this class. Here we check the position against the length of the string and raise StopIteration if we try to go past its length. Otherwise we extract the letter we're on, increment the position and return the letter.\n",
    "\n",
    "Let's take a moment to create an infinite iterator. An infinite iterator is one that can iterate forever. You will need to be careful when calling these as they will cause an infinite loop if you don't make sure to put a bound on them."
   ]
  },
  {
   "cell_type": "code",
   "execution_count": 11,
   "metadata": {},
   "outputs": [
    {
     "name": "stdout",
     "output_type": "stream",
     "text": [
      "1\n",
      "4\n",
      "9\n",
      "16\n",
      "25\n",
      "36\n",
      "49\n"
     ]
    }
   ],
   "source": [
    "class Doubler:\n",
    "    \"\"\"An infinite iterator\"\"\"\n",
    "    \n",
    "    def __init__(self):\n",
    "        \"\"\"Constructor\"\"\"\n",
    "        self.number = 0\n",
    "    \n",
    "    def __iter__(self):\n",
    "        \"\"\"Returns itself as a iterator\"\"\"\n",
    "        return self\n",
    "    \n",
    "    def __next__(self):\n",
    "        \"\"\"Doubles the number each time next is called and returns it\"\"\"\n",
    "        self.number += 1\n",
    "        return self.number * self.number\n",
    "    \n",
    "if __name__ == '__main__':\n",
    "    doubler = Doubler()\n",
    "    count = 0\n",
    "    \n",
    "    for number in doubler:\n",
    "        print(number)\n",
    "        if(count >5) :\n",
    "            break\n",
    "        count += 1"
   ]
  },
  {
   "cell_type": "markdown",
   "metadata": {},
   "source": [
    "### Generators\n",
    "\n",
    "A normal Python function will always return one value, whether it be a list, an integer or some other object.But what if you wanted to be able to call a function and have it yield a series if values? That is where generators come in. A generator works by \"saving\" where it last left off(or yielding) and giving the calling function a value. So instead of returning the execution to the caller, it just gives temporary control back. To do this magic, a generator function requires Python's **yield** statement.\n",
    "\n",
    "_Side-note: In other languages, a generator might be called a corouting._\n",
    "\n",
    "Let's take a moment and create a simple generator! \n"
   ]
  },
  {
   "cell_type": "code",
   "execution_count": 12,
   "metadata": {},
   "outputs": [
    {
     "name": "stdout",
     "output_type": "stream",
     "text": [
      "2\n",
      "4\n",
      "16\n",
      "<class 'generator'>\n",
      "<generator object doubler_generator at 0x000001AD90D2C4C8>\n"
     ]
    }
   ],
   "source": [
    "def doubler_generator():\n",
    "    number = 2\n",
    "    while True:\n",
    "        yield number\n",
    "        number *= number\n",
    "        \n",
    "doubler = doubler_generator()\n",
    "print(next(doubler))\n",
    "\n",
    "print(next(doubler))\n",
    "\n",
    "print(next(doubler))\n",
    "\n",
    "print(type(doubler))\n",
    "\n",
    "print(doubler)"
   ]
  },
  {
   "cell_type": "markdown",
   "metadata": {},
   "source": [
    "This particular generator will basically create an infinite sequence. You can call **next** on it all day long and it will never run out of values to yield. Because you can iterate over a generator, a generator is considered to be a type of iterator, but no one really refers to hem as such. But underneath the covers, the generator is also defining the `__next__` method that we lookd at in our previous section, which is why the **next** keyword we just used worked.\n"
   ]
  },
  {
   "cell_type": "code",
   "execution_count": 14,
   "metadata": {},
   "outputs": [
    {
     "name": "stdout",
     "output_type": "stream",
     "text": [
      "Python\n",
      "Rocks\n",
      "So do you! \n"
     ]
    },
    {
     "ename": "StopIteration",
     "evalue": "",
     "output_type": "error",
     "traceback": [
      "\u001b[1;31m---------------------------------------------------------------------------\u001b[0m",
      "\u001b[1;31mStopIteration\u001b[0m                             Traceback (most recent call last)",
      "\u001b[1;32m<ipython-input-14-acd526ac9ced>\u001b[0m in \u001b[0;36m<module>\u001b[1;34m\u001b[0m\n\u001b[0;32m      7\u001b[0m \u001b[0mprint\u001b[0m\u001b[1;33m(\u001b[0m\u001b[0mnext\u001b[0m\u001b[1;33m(\u001b[0m\u001b[0mgen\u001b[0m\u001b[1;33m)\u001b[0m\u001b[1;33m)\u001b[0m\u001b[1;33m\u001b[0m\u001b[1;33m\u001b[0m\u001b[0m\n\u001b[0;32m      8\u001b[0m \u001b[0mprint\u001b[0m\u001b[1;33m(\u001b[0m\u001b[0mnext\u001b[0m\u001b[1;33m(\u001b[0m\u001b[0mgen\u001b[0m\u001b[1;33m)\u001b[0m\u001b[1;33m)\u001b[0m\u001b[1;33m\u001b[0m\u001b[1;33m\u001b[0m\u001b[0m\n\u001b[1;32m----> 9\u001b[1;33m \u001b[0mprint\u001b[0m\u001b[1;33m(\u001b[0m\u001b[0mnext\u001b[0m\u001b[1;33m(\u001b[0m\u001b[0mgen\u001b[0m\u001b[1;33m)\u001b[0m\u001b[1;33m)\u001b[0m\u001b[1;33m\u001b[0m\u001b[1;33m\u001b[0m\u001b[0m\n\u001b[0m",
      "\u001b[1;31mStopIteration\u001b[0m: "
     ]
    }
   ],
   "source": [
    "def silly_generator():\n",
    "    yield \"Python\"\n",
    "    yield \"Rocks\"\n",
    "    yield \"So do you! \"\n",
    "gen = silly_generator()\n",
    "print(next(gen))\n",
    "print(next(gen))\n",
    "print(next(gen))\n",
    "print(next(gen))"
   ]
  },
  {
   "cell_type": "markdown",
   "metadata": {},
   "source": [
    "Here we have a generator that uses the **yield** statement 3 times. In each instance, it yields a different string. You can think of **yield** as the **return** statement for a generator. Whenever you call yield, the function stops and saves its state. Then it yields the value out, which is why you see something getting printed out to the termianl in the example above. If we'd had variable in our function, those variable would be saved too.\n",
    "\n",
    "When you see **StopIteration**, you know that you have exhausted the iterator. This means that it ran out of items. This is normal behaviour in all iterators as you saw the same thing happen in the iterators section.\n",
    "\n",
    "Anyway when we call **next** again, the generator begins where it left off and yileds whatever the next value is or we finish the function and the generator stops. On the other hand, if you never call next again, then the state will eventually go away.\n",
    "\n",
    "Let's reinstantiate the generator and try looping over it!"
   ]
  },
  {
   "cell_type": "code",
   "execution_count": 15,
   "metadata": {},
   "outputs": [
    {
     "name": "stdout",
     "output_type": "stream",
     "text": [
      "Python\n",
      "Rocks\n",
      "So do you! \n"
     ]
    }
   ],
   "source": [
    "gen = silly_generator()\n",
    "for item in gen:\n",
    "    print(item)"
   ]
  },
  {
   "cell_type": "markdown",
   "metadata": {},
   "source": [
    "The reason we create a new instance of the generator is that if we tried looping over it, nothing would be yielded. This is because we already ran through all the values in the particular instance of the generator. So in the example, we create the new instance, loop over it and print out the values that are yielded. The **for** loop once again handles the **StopIteration** exception for us and just breaks out of the loop when the generator is exhausted.\n",
    "\n",
    "One of the biggest benefits to a generator is that it can iterate over large data sets and return them one piece at a time. This is what happens when we open a file and return it line-by-line:\n"
   ]
  },
  {
   "cell_type": "code",
   "execution_count": 16,
   "metadata": {},
   "outputs": [
    {
     "name": "stdout",
     "output_type": "stream",
     "text": [
      "first line\n",
      "\n",
      "second line\n",
      "\n",
      "third line\n",
      "\n",
      "fourth line\n",
      "\n",
      "fifth line\n",
      "\n",
      "sixth line\n",
      "\n",
      "seventh line\n",
      "\n"
     ]
    }
   ],
   "source": [
    "with open('abc.txt') as fobj:\n",
    "    for line in fobj:\n",
    "        print(line)"
   ]
  },
  {
   "cell_type": "markdown",
   "metadata": {},
   "source": [
    "Python basically turns the file object into a generator when we iterate over it in this manner. This allows us to process files that are tool large to load into memory. You will find generators useful for any large data set that you need to work with in chunks or when you need to generate a large data set that would otherwise fill up your all your computer's memory."
   ]
  },
  {
   "cell_type": "code",
   "execution_count": null,
   "metadata": {},
   "outputs": [],
   "source": []
  }
 ],
 "metadata": {
  "kernelspec": {
   "display_name": "Python 3",
   "language": "python",
   "name": "python3"
  },
  "language_info": {
   "codemirror_mode": {
    "name": "ipython",
    "version": 3
   },
   "file_extension": ".py",
   "mimetype": "text/x-python",
   "name": "python",
   "nbconvert_exporter": "python",
   "pygments_lexer": "ipython3",
   "version": "3.7.6"
  }
 },
 "nbformat": 4,
 "nbformat_minor": 4
}
