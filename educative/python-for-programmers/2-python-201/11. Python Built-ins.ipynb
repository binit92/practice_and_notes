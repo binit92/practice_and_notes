{
 "cells": [
  {
   "cell_type": "markdown",
   "metadata": {},
   "source": [
    "### Introduction to built-ins \n",
    "\n",
    "Built-ins are a somewhat overlooked part of Python. You use them every day, but there are a number of them that get overlooked or just aren’t used to their full potential. This chapter won’t be covering all the built-ins in Python, but will focus on the ones that you probably don’t use every day.\n",
    "\n",
    "### any \n",
    "\n",
    "The **any** built-in accepts an iterable and will return True is an element is said iterable is True. Let's take a look an example:"
   ]
  },
  {
   "cell_type": "code",
   "execution_count": 3,
   "metadata": {},
   "outputs": [
    {
     "name": "stdout",
     "output_type": "stream",
     "text": [
      "True\n",
      "False\n"
     ]
    }
   ],
   "source": [
    "print(any([0,0,0,1]))\n",
    "\n",
    "print(any([0,0,0,0]))"
   ]
  },
  {
   "cell_type": "markdown",
   "metadata": {},
   "source": [
    "In this case, we pass **any** a list of zeros and a one. Because there’s a one there, it returns True. You might be wondering when you would ever use this built-in. I did too at first. An example that cropped up in one of my jobs involved a very complex user iterface where I had to test various pieces of functionality. One of the items that I needed to test was if a certain list of widgets had been shown or enabled when they shouldn’t be. The any built-in was very useful for that."
   ]
  },
  {
   "cell_type": "code",
   "execution_count": 4,
   "metadata": {},
   "outputs": [
    {
     "name": "stdout",
     "output_type": "stream",
     "text": [
      "True\n"
     ]
    }
   ],
   "source": [
    "widget_one = ''\n",
    "widget_two = ''\n",
    "widget_three = 'button'\n",
    "widgets_exist = any([widget_one, widget_two, widget_three])\n",
    "print (widgets_exist)\n",
    "#True"
   ]
  },
  {
   "cell_type": "markdown",
   "metadata": {},
   "source": [
    "Basically I would query the user iterface and ask it if widgets one through three existed and put the responses into a list. If any of them returned True, then I’d raise an error.\n",
    "\n",
    "You might want to check out Python’s **all** built-in as it has similar functionality except that it will only return True if every single item in the iterable is True."
   ]
  },
  {
   "cell_type": "markdown",
   "metadata": {},
   "source": [
    "### enumerate \n",
    "\n",
    "Have you ever needed to loop over a list and also needed to know where in the list your were at? You could add a counter that you increment as you loop, or you could use Python's built-in **enumerate** function! Let's try it out on a string!"
   ]
  },
  {
   "cell_type": "code",
   "execution_count": 5,
   "metadata": {},
   "outputs": [
    {
     "name": "stdout",
     "output_type": "stream",
     "text": [
      "0 a\n",
      "1 b\n",
      "2 c\n",
      "3 d\n",
      "4 e\n",
      "5 f\n",
      "6 g\n"
     ]
    }
   ],
   "source": [
    "my_string = 'abcdefg'\n",
    "for pos, letter in enumerate(my_string):\n",
    "    print(pos, letter)"
   ]
  },
  {
   "cell_type": "markdown",
   "metadata": {},
   "source": [
    "In this example, we have a 6-letter string. You will notice that in our loop, we wrap the string in a call to **enumerate**. This returns the position of each item in the iterable as well as the value. We print them both out so you can see what's going on."
   ]
  },
  {
   "cell_type": "markdown",
   "metadata": {},
   "source": [
    "### eval\n",
    "\n",
    "The **eval** built-in is fairly controversial in the Python community. The reason for this is that eval accepts strings and basically runs them. If you were to allow users to input any string to be parsed and evaluated by eval, then you just created a major security breach. However, if the code that uses eval cannot be interacted with by the user and only be the developer, then it is olay to use. Some will argue that it's still not safem but if you have a rouge develope, they cand o a lot more harm doing other things than using eval. \n",
    "\n",
    "example:"
   ]
  },
  {
   "cell_type": "code",
   "execution_count": 6,
   "metadata": {},
   "outputs": [
    {
     "name": "stdout",
     "output_type": "stream",
     "text": [
      "20\n"
     ]
    }
   ],
   "source": [
    "var = 10\n",
    "source = 'var * 2'\n",
    "print(eval(source))"
   ]
  },
  {
   "cell_type": "markdown",
   "metadata": {},
   "source": [
    "As you can see, we create two variables. The first is assingned the integer 10. The second has a string that has the same letters as the variable we just defined and it looks like we're going to multiply it by two. However it's just a string so it doesn't do anything. But with eval, we can make it do something! You can see it in action on the very next line where we pass the string into eval and we get a result. This is why people think that eval can be dangerous.\n",
    "\n",
    "There is another built-in function called **exec** which support the dynamic execution of Python code. it's a somewhat \"dangerous\" built-in too, but it doesn't have the bad reputation that eval does. It's a neat little tool, but use it with caution."
   ]
  },
  {
   "cell_type": "markdown",
   "metadata": {},
   "source": [
    "### Filter\n",
    "\n",
    "The **filter** built-in function will take a function and a iterable and return an iterator for those elements within the iterable for which the passsed in function return True. That statement sounds a bit confusing to read, so let's look at an example:"
   ]
  },
  {
   "cell_type": "code",
   "execution_count": 7,
   "metadata": {},
   "outputs": [
    {
     "name": "stdout",
     "output_type": "stream",
     "text": [
      "1\n",
      "2\n",
      "3\n"
     ]
    }
   ],
   "source": [
    "def less_than_ten(x):\n",
    "    return x < 10\n",
    "\n",
    "my_list = [1,2,3,10,11,12]\n",
    "for item in filter(less_than_ten, my_list):\n",
    "    print(item)"
   ]
  },
  {
   "cell_type": "markdown",
   "metadata": {},
   "source": [
    "Here we create a simple function that tests if the integer we pass to it is less than 10. If it is, then it returns True; otherwise it returns False. Next we create a list of 6 integers with half of them being less than 10. Finally we use **filter** to filter out the integers that are greater than ten and only print the ones that are less.\n",
    "\n",
    "You may recall that the itertools module has a function that is similar to this one called **filterfalse**. That function is the opposite of this one and only return elements of the iterable when function returns False."
   ]
  },
  {
   "cell_type": "markdown",
   "metadata": {},
   "source": [
    "### map\n",
    "\n",
    "The **map** built-in also takes a function and an iterable and return an iterator that applies the function to each item in the iterable. \n",
    "\n",
    "example:"
   ]
  },
  {
   "cell_type": "code",
   "execution_count": 8,
   "metadata": {},
   "outputs": [
    {
     "name": "stdout",
     "output_type": "stream",
     "text": [
      "2\n",
      "4\n",
      "6\n",
      "8\n",
      "10\n"
     ]
    }
   ],
   "source": [
    "def doubler(x):\n",
    "    return x * 2\n",
    "\n",
    "my_list = [1,2,3,4,5]\n",
    "for item in map(doubler, my_list):\n",
    "    print(item)"
   ]
  },
  {
   "cell_type": "markdown",
   "metadata": {},
   "source": [
    "The first thing we define is a function that will double whatever is passed to it. Next we have a list of integers, 1-5. Finally we create a for loop that loops over the iterator that is returned when we call map with our function and list.\n",
    "\n",
    "The map and filter functions basically duplicate the features of generator expression in Python 3. In Python 2, they duplicate the functionality of list comprehensions. We could shorten the code above a bit and make it return a list like so:"
   ]
  },
  {
   "cell_type": "code",
   "execution_count": 9,
   "metadata": {},
   "outputs": [
    {
     "name": "stdout",
     "output_type": "stream",
     "text": [
      "[2, 4, 6, 8, 10]\n"
     ]
    }
   ],
   "source": [
    "print(list(map(doubler, my_list)))"
   ]
  },
  {
   "cell_type": "markdown",
   "metadata": {},
   "source": [
    "But the same can be done using list comprehension:"
   ]
  },
  {
   "cell_type": "code",
   "execution_count": 10,
   "metadata": {},
   "outputs": [
    {
     "name": "stdout",
     "output_type": "stream",
     "text": [
      "[2, 4, 6, 8, 10]\n"
     ]
    }
   ],
   "source": [
    "print([doubler(x) for x in my_list])"
   ]
  },
  {
   "cell_type": "markdown",
   "metadata": {},
   "source": [
    "### zip\n",
    "\n",
    "The **zip** built-in takes a series of iterables and aggregates the elements from each of them. example:\n"
   ]
  },
  {
   "cell_type": "code",
   "execution_count": 11,
   "metadata": {},
   "outputs": [
    {
     "name": "stdout",
     "output_type": "stream",
     "text": [
      "<zip object at 0x0000022A336035C8>\n",
      "[('x', 5), ('y', 6), ('z', 7)]\n"
     ]
    }
   ],
   "source": [
    "keys = ['x', 'y', 'z']\n",
    "values = [5 , 6, 7]\n",
    "\n",
    "print(zip(keys,values))\n",
    "\n",
    "print(list(zip(keys, values)))"
   ]
  },
  {
   "cell_type": "markdown",
   "metadata": {},
   "source": [
    "In this example, we have two lists of equal size. Next we zip them togeth with the zip function. This just returns a zip object, so we wrap that in a call to the **list** built-in to see what the result is. We end up with a list of tuples. You can see here that zip matched up the items in each list by position and put them into tuples.\n",
    "\n",
    "One of the most populat use cases for zip it to take two lists and turn them into a dictionary:"
   ]
  },
  {
   "cell_type": "code",
   "execution_count": 12,
   "metadata": {},
   "outputs": [
    {
     "name": "stdout",
     "output_type": "stream",
     "text": [
      "{'x': 5, 'y': 6, 'z': 7}\n"
     ]
    }
   ],
   "source": [
    "keys = ['x','y','z']\n",
    "values = [5,6,7]\n",
    "my_dict = dict(zip(keys, values))\n",
    "print(my_dict)"
   ]
  },
  {
   "cell_type": "markdown",
   "metadata": {},
   "source": [
    "When you pass a series of tuples to Python's dict built-in it will create a dictionary as you can see above.."
   ]
  },
  {
   "cell_type": "code",
   "execution_count": null,
   "metadata": {},
   "outputs": [],
   "source": []
  }
 ],
 "metadata": {
  "kernelspec": {
   "display_name": "Python 3",
   "language": "python",
   "name": "python3"
  },
  "language_info": {
   "codemirror_mode": {
    "name": "ipython",
    "version": 3
   },
   "file_extension": ".py",
   "mimetype": "text/x-python",
   "name": "python",
   "nbconvert_exporter": "python",
   "pygments_lexer": "ipython3",
   "version": "3.7.6"
  }
 },
 "nbformat": 4,
 "nbformat_minor": 4
}
