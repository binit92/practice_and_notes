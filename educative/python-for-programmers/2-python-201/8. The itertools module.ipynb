{
 "cells": [
  {
   "cell_type": "markdown",
   "metadata": {},
   "source": [
    "### Iterators\n",
    "\n",
    "Python provides a greate module for creating your own iterators. **itertools** provides the tools which are fast and memory efficient that we can take as building blocks to create our own specialized iterators that can be used for efficient looping.\n",
    "\n",
    "### The infinite iterators \n",
    "\n",
    "The itertools package comes with three iterators that can iterate infinitely. What this means is that wehn you use them, you need to understand that you will need to break out of these iterators eventually or you'll have an infinite loop. \n",
    "\n",
    "These can be useful for generating numbers or cycling over iterables of unknown length.\n",
    "\n",
    "### count(start=0,step=1)\n",
    "The **count** iterator will return evenly spaced values starting with the number you pass in as its **start** parameter. Count also accept a **step** parameter. Let's take a look at a simple example:"
   ]
  },
  {
   "cell_type": "code",
   "execution_count": 1,
   "metadata": {},
   "outputs": [
    {
     "name": "stdout",
     "output_type": "stream",
     "text": [
      "10\n",
      "11\n",
      "12\n",
      "13\n",
      "14\n",
      "15\n",
      "16\n",
      "17\n",
      "18\n",
      "19\n",
      "20\n"
     ]
    }
   ],
   "source": [
    "from itertools import count \n",
    "for i in count(10):\n",
    "    if i > 20:\n",
    "        break\n",
    "    else:\n",
    "        print(i)"
   ]
  },
  {
   "cell_type": "markdown",
   "metadata": {},
   "source": [
    "Here we import **count** from itertools and we create a **for** loop. We add a conditional check that will break out of the loop should the iterator exceed 20, otherwise it prints out where we are in the iterator. You will note that the output starts at 10 as that was what we passed to **count** as our start value.\n",
    "\n",
    "Another way to limit the output of thos infinite iterator is to use another sub-module from itertools, namely **islice**. "
   ]
  },
  {
   "cell_type": "code",
   "execution_count": 3,
   "metadata": {},
   "outputs": [
    {
     "name": "stdout",
     "output_type": "stream",
     "text": [
      "10\n",
      "11\n",
      "12\n",
      "13\n",
      "14\n"
     ]
    }
   ],
   "source": [
    "from itertools import count\n",
    "from itertools import islice\n",
    "for i in islice(count(10),5):\n",
    "    print(i)"
   ]
  },
  {
   "cell_type": "markdown",
   "metadata": {},
   "source": [
    "In this example we import **islice** and we loop over **count** starting at 10 and ending after 5 items. As you may have guessed, the second argument is islice is when to stop iterating. But ut doesn't mean \"stop when I reach the number 5\". Instead, it means \"stop when we've reached five iterations\"."
   ]
  },
  {
   "cell_type": "markdown",
   "metadata": {},
   "source": [
    "### cycle(iterable)\n",
    "\n",
    "The **cycle** iterator from itertools allows you to create an iterator that will cycle through a series of values infinitely. Let's pass it a 3 letter string and see what happens:"
   ]
  },
  {
   "cell_type": "code",
   "execution_count": 5,
   "metadata": {},
   "outputs": [
    {
     "name": "stdout",
     "output_type": "stream",
     "text": [
      "X\n",
      "Y\n",
      "Z\n",
      "X\n",
      "Y\n",
      "Z\n",
      "X\n",
      "Y\n"
     ]
    }
   ],
   "source": [
    "from itertools import cycle\n",
    "count = 0\n",
    "for item in cycle('XYZ'):\n",
    "    if count > 7:\n",
    "        break\n",
    "    print(item)\n",
    "    count +=1"
   ]
  },
  {
   "cell_type": "markdown",
   "metadata": {},
   "source": [
    "Here we create a **for** loop to loop over the infinite cycle of the three letters: XYZ. Of course, we don't want to actually cycle forever, so we add a simple counter to break out of the loop with.\n",
    "\n",
    "You can also use Python's **next** built-in to iterate over the iterators you create with itertools:\n"
   ]
  },
  {
   "cell_type": "code",
   "execution_count": 8,
   "metadata": {},
   "outputs": [
    {
     "name": "stdout",
     "output_type": "stream",
     "text": [
      "triangle\n",
      "square\n",
      "pentagon\n",
      "rectangle\n",
      "triangle\n",
      "square\n"
     ]
    }
   ],
   "source": [
    "from itertools import cycle\n",
    "polys = ['triangle','square','pentagon','rectangle']\n",
    "iterator = cycle(polys)\n",
    "\n",
    "print(next(iterator))\n",
    "print(next(iterator))\n",
    "print(next(iterator))\n",
    "print(next(iterator))\n",
    "print(next(iterator))\n",
    "print(next(iterator))"
   ]
  },
  {
   "cell_type": "markdown",
   "metadata": {},
   "source": [
    "In the code above, we create a simple list of polygons and pass them to **cycle**. We save out new iterator to a variable and tehn we pass that variable to the **next** function. Every time we call next, it returns the next value to the iterator. Since this iterator is infinite, we can call next all day long and never run out of items."
   ]
  },
  {
   "cell_type": "markdown",
   "metadata": {},
   "source": [
    "### repeat(object)\n",
    "\n",
    "The **repeat** iterators will return an object over and over again forever unless you set its **times** argument. It is quite similar to **cycle** except that it doesn't cycle over a set of values repeatedly. "
   ]
  },
  {
   "cell_type": "code",
   "execution_count": 9,
   "metadata": {},
   "outputs": [
    {
     "name": "stdout",
     "output_type": "stream",
     "text": [
      "5\n",
      "5\n",
      "5\n",
      "5\n",
      "5\n"
     ]
    },
    {
     "ename": "StopIteration",
     "evalue": "",
     "output_type": "error",
     "traceback": [
      "\u001b[1;31m---------------------------------------------------------------------------\u001b[0m",
      "\u001b[1;31mStopIteration\u001b[0m                             Traceback (most recent call last)",
      "\u001b[1;32m<ipython-input-9-fe60628b616c>\u001b[0m in \u001b[0;36m<module>\u001b[1;34m\u001b[0m\n\u001b[0;32m      9\u001b[0m \u001b[0mprint\u001b[0m\u001b[1;33m(\u001b[0m\u001b[0mnext\u001b[0m\u001b[1;33m(\u001b[0m\u001b[0miterator\u001b[0m\u001b[1;33m)\u001b[0m\u001b[1;33m)\u001b[0m\u001b[1;33m\u001b[0m\u001b[1;33m\u001b[0m\u001b[0m\n\u001b[0;32m     10\u001b[0m \u001b[0mprint\u001b[0m\u001b[1;33m(\u001b[0m\u001b[0mnext\u001b[0m\u001b[1;33m(\u001b[0m\u001b[0miterator\u001b[0m\u001b[1;33m)\u001b[0m\u001b[1;33m)\u001b[0m\u001b[1;33m\u001b[0m\u001b[1;33m\u001b[0m\u001b[0m\n\u001b[1;32m---> 11\u001b[1;33m \u001b[0mprint\u001b[0m\u001b[1;33m(\u001b[0m\u001b[0mnext\u001b[0m\u001b[1;33m(\u001b[0m\u001b[0miterator\u001b[0m\u001b[1;33m)\u001b[0m\u001b[1;33m)\u001b[0m\u001b[1;33m\u001b[0m\u001b[1;33m\u001b[0m\u001b[0m\n\u001b[0m",
      "\u001b[1;31mStopIteration\u001b[0m: "
     ]
    }
   ],
   "source": [
    "from itertools import repeat\n",
    "repeat(5,5)\n",
    "repeat(5,5)\n",
    "\n",
    "iterator = repeat(5,5)\n",
    "print(next(iterator))\n",
    "print(next(iterator))\n",
    "print(next(iterator))\n",
    "print(next(iterator))\n",
    "print(next(iterator))\n",
    "print(next(iterator))"
   ]
  },
  {
   "cell_type": "markdown",
   "metadata": {},
   "source": [
    "Here we import **repeat** and tell it to repeat the number 5 five times. Then we call **next** on our new iterator size times to see if it works correctly. When you run this code, you will see that **Stopiteration** gets raise because we have run out of values in our iterator"
   ]
  },
  {
   "cell_type": "markdown",
   "metadata": {},
   "source": [
    "### Iterators That Terminate\n",
    "\n",
    "Most of the iterators that you create with itertools are not infinite. In this sections, we will be studying the finite iterators of itertools. To get output that is readable, we will be using Python's built-in **list** type. If you do not use **list**, then you will only get an itertools object printed out.\n",
    "\n",
    "### accumulate(iterable)\n",
    "The **accumulate** iterator will return accumulated sums or the accumulated results of a two argument function that you can pass to **accumulate**. The default of accumulate is addition, so let's give that a quick try:"
   ]
  },
  {
   "cell_type": "code",
   "execution_count": 10,
   "metadata": {},
   "outputs": [
    {
     "name": "stdout",
     "output_type": "stream",
     "text": [
      "[0, 1, 3, 6, 10, 15, 21, 28, 36, 45]\n"
     ]
    }
   ],
   "source": [
    "from itertools import accumulate\n",
    "print(list(accumulate(range(10))))"
   ]
  },
  {
   "cell_type": "markdown",
   "metadata": {},
   "source": [
    "Here we import **accumulate** and pass it a range of 10 numbers, 0-9. It adds each of them in turn, so the first is 0, the second is 0+1, the 3rd is 1+2, etc. Now let's import the **operator** module and add it into the mix:"
   ]
  },
  {
   "cell_type": "code",
   "execution_count": 11,
   "metadata": {},
   "outputs": [
    {
     "name": "stdout",
     "output_type": "stream",
     "text": [
      "[1, 2, 6, 24]\n"
     ]
    }
   ],
   "source": [
    "from itertools import accumulate\n",
    "import operator\n",
    "print(list(accumulate(range(1,5),operator.mul)))"
   ]
  },
  {
   "cell_type": "markdown",
   "metadata": {},
   "source": [
    "Here we pass the number 1-4 to out **accumulate** iterator. We also pass it a function:**operator.mul**. This function accepts to arguments to be multiplied. So for each iteration, it multiplies instead of add(1x1=1, 1x2=2, 2x3=6, 6x4=24)\n",
    "\n",
    "\n",
    "The documentation for accumulate shows some other interesting examples such as the amortization of a loan or the chaotic recurrence relation. You should definitely give those examples a look as they will be worth your time.\n"
   ]
  },
  {
   "cell_type": "markdown",
   "metadata": {},
   "source": [
    "### chain(\\*iterables)\n",
    "\n",
    "The **chain** iterator will take a series of iterable and basically flatten then down into one long iterable. I actually recently needed its assistance in a project I was helping with. Basically we had a list iwht some items already in it and two other lists that we wanted to add to the original list, but we only wanted to append the items in each list to the original list instead of creating a list of lists. "
   ]
  },
  {
   "cell_type": "code",
   "execution_count": 13,
   "metadata": {},
   "outputs": [
    {
     "ename": "TypeError",
     "evalue": "extend() takes exactly one argument (2 given)",
     "output_type": "error",
     "traceback": [
      "\u001b[1;31m---------------------------------------------------------------------------\u001b[0m",
      "\u001b[1;31mTypeError\u001b[0m                                 Traceback (most recent call last)",
      "\u001b[1;32m<ipython-input-13-11e6be98a806>\u001b[0m in \u001b[0;36m<module>\u001b[1;34m\u001b[0m\n\u001b[0;32m      2\u001b[0m \u001b[0mnumbers\u001b[0m \u001b[1;33m=\u001b[0m \u001b[0mlist\u001b[0m\u001b[1;33m(\u001b[0m\u001b[0mrange\u001b[0m\u001b[1;33m(\u001b[0m\u001b[1;36m5\u001b[0m\u001b[1;33m)\u001b[0m\u001b[1;33m)\u001b[0m\u001b[1;33m\u001b[0m\u001b[1;33m\u001b[0m\u001b[0m\n\u001b[0;32m      3\u001b[0m \u001b[0mcmd\u001b[0m \u001b[1;33m=\u001b[0m \u001b[1;33m[\u001b[0m\u001b[1;34m'ls'\u001b[0m\u001b[1;33m,\u001b[0m \u001b[1;34m'/some/dir'\u001b[0m\u001b[1;33m]\u001b[0m\u001b[1;33m\u001b[0m\u001b[1;33m\u001b[0m\u001b[0m\n\u001b[1;32m----> 4\u001b[1;33m \u001b[0mmy_list\u001b[0m\u001b[1;33m.\u001b[0m\u001b[0mextend\u001b[0m\u001b[1;33m(\u001b[0m\u001b[0mcmd\u001b[0m\u001b[1;33m,\u001b[0m\u001b[0mnumbers\u001b[0m\u001b[1;33m)\u001b[0m\u001b[1;33m\u001b[0m\u001b[1;33m\u001b[0m\u001b[0m\n\u001b[0m\u001b[0;32m      5\u001b[0m \u001b[0mmy_list\u001b[0m\u001b[1;33m\u001b[0m\u001b[1;33m\u001b[0m\u001b[0m\n",
      "\u001b[1;31mTypeError\u001b[0m: extend() takes exactly one argument (2 given)"
     ]
    }
   ],
   "source": [
    "my_list = ['foo','bar']\n",
    "numbers = list(range(5))\n",
    "cmd = ['ls', '/some/dir']\n",
    "my_list.extend(cmd,numbers)\n",
    "my_list"
   ]
  },
  {
   "cell_type": "markdown",
   "metadata": {},
   "source": [
    "Well that didn't work quite the way I wanted it to. The itertools module provides a much more elegant way of flattening these lists into one using **chain**:\n"
   ]
  },
  {
   "cell_type": "code",
   "execution_count": 15,
   "metadata": {},
   "outputs": [
    {
     "name": "stdout",
     "output_type": "stream",
     "text": [
      "['foo', 'bar', 'ls', '/some/dir', 0, 1, 2, 3, 4]\n"
     ]
    }
   ],
   "source": [
    "from itertools import chain\n",
    "my_list = ['foo','bar']\n",
    "numbers = list(range(5))\n",
    "cmd = ['ls','/some/dir']\n",
    "my_list = list(chain(my_list,cmd,numbers))\n",
    "\n",
    "print(my_list)"
   ]
  },
  {
   "cell_type": "markdown",
   "metadata": {},
   "source": [
    "You could actually acheive this without using **chain**"
   ]
  },
  {
   "cell_type": "code",
   "execution_count": 16,
   "metadata": {},
   "outputs": [
    {
     "name": "stdout",
     "output_type": "stream",
     "text": [
      "['foo', 'bar', 'ls', '/some/dir', 0, 1, 2, 3, 4]\n"
     ]
    }
   ],
   "source": [
    "my_list = ['foo','bar']\n",
    "my_list += cmd + numbers\n",
    "print(my_list)"
   ]
  },
  {
   "cell_type": "markdown",
   "metadata": {},
   "source": [
    "### chain.from_iterable(iterable)\n",
    "\n",
    "You can also use a method of **chain** called **from_iterable**. This method works slightly differently then using chain directly. Instead of passing in a series of iterables, you have to pass in a nested list. Let's take a look:\n"
   ]
  },
  {
   "cell_type": "code",
   "execution_count": 17,
   "metadata": {},
   "outputs": [
    {
     "ename": "TypeError",
     "evalue": "from_iterable() takes exactly one argument (2 given)",
     "output_type": "error",
     "traceback": [
      "\u001b[1;31m---------------------------------------------------------------------------\u001b[0m",
      "\u001b[1;31mTypeError\u001b[0m                                 Traceback (most recent call last)",
      "\u001b[1;32m<ipython-input-17-52cd0bf52c89>\u001b[0m in \u001b[0;36m<module>\u001b[1;34m\u001b[0m\n\u001b[0;32m      2\u001b[0m \u001b[0mnumbers\u001b[0m \u001b[1;33m=\u001b[0m \u001b[0mlist\u001b[0m\u001b[1;33m(\u001b[0m\u001b[0mrange\u001b[0m\u001b[1;33m(\u001b[0m\u001b[1;36m5\u001b[0m\u001b[1;33m)\u001b[0m\u001b[1;33m)\u001b[0m\u001b[1;33m\u001b[0m\u001b[1;33m\u001b[0m\u001b[0m\n\u001b[0;32m      3\u001b[0m \u001b[0mcmd\u001b[0m \u001b[1;33m=\u001b[0m \u001b[1;33m[\u001b[0m\u001b[1;34m'ls'\u001b[0m\u001b[1;33m,\u001b[0m\u001b[1;34m'/some/dir'\u001b[0m\u001b[1;33m]\u001b[0m\u001b[1;33m\u001b[0m\u001b[1;33m\u001b[0m\u001b[0m\n\u001b[1;32m----> 4\u001b[1;33m \u001b[0mprint\u001b[0m\u001b[1;33m(\u001b[0m\u001b[0mchain\u001b[0m\u001b[1;33m.\u001b[0m\u001b[0mfrom_iterable\u001b[0m\u001b[1;33m(\u001b[0m\u001b[0mcmd\u001b[0m\u001b[1;33m,\u001b[0m\u001b[0mnumbers\u001b[0m\u001b[1;33m)\u001b[0m\u001b[1;33m)\u001b[0m\u001b[1;33m\u001b[0m\u001b[1;33m\u001b[0m\u001b[0m\n\u001b[0m",
      "\u001b[1;31mTypeError\u001b[0m: from_iterable() takes exactly one argument (2 given)"
     ]
    }
   ],
   "source": [
    "from itertools import chain\n",
    "numbers = list(range(5))\n",
    "cmd = ['ls','/some/dir']\n",
    "print(chain.from_iterable(cmd,numbers))"
   ]
  },
  {
   "cell_type": "code",
   "execution_count": 19,
   "metadata": {},
   "outputs": [
    {
     "name": "stdout",
     "output_type": "stream",
     "text": [
      "['ls', '/some/dir', 0, 1, 2, 3, 4]\n"
     ]
    }
   ],
   "source": [
    "print(list(chain.from_iterable([cmd,numbers])))"
   ]
  },
  {
   "cell_type": "markdown",
   "metadata": {},
   "source": [
    "Here we import chain as we did previously. We try passing in our two lists but we end up getting a **TypeError**! To fix this, we change our call slightly such that we put **cmd** and **numbers** inside a **list** and then pass that nested list to **from_iterable**. It's a subtle difference but still easy to use "
   ]
  },
  {
   "cell_type": "markdown",
   "metadata": {},
   "source": [
    "### compress(data,selectors)\n",
    "The **compress** sub-module is useful for filtering the first iterable with the second. This works by making the second iterable a list of Booleans(or ones and zeros which amounts to the same thing). Here how it works:"
   ]
  },
  {
   "cell_type": "code",
   "execution_count": 20,
   "metadata": {},
   "outputs": [
    {
     "name": "stdout",
     "output_type": "stream",
     "text": [
      "['A', 'C', 'D']\n"
     ]
    }
   ],
   "source": [
    "from itertools import compress \n",
    "letters = 'ABCDEFG'\n",
    "bools = [True,False,True,True,False]\n",
    "print(list(compress(letters,bools)))"
   ]
  },
  {
   "cell_type": "markdown",
   "metadata": {},
   "source": [
    "In this example, we have a group of seven letters and a list of five Bools. Then we pass them into the compress function. the compress function will go through each respective iterable and check the first against the second. If the second has a matching True, then it will be kept. If it's a False, then that item will be dropped. "
   ]
  },
  {
   "cell_type": "markdown",
   "metadata": {},
   "source": [
    "### dropwhile(predicate,iterable)\n",
    "\n",
    "There is a neat little iterator contained in itertools called **dropwhile**. This fun little iterator will drop elements as long as the filter criteria is True. Because of this, you will not see any output from this iterator untill the predicate becomes False. This can make the start-up time lengthy, so it's somewhere to be aware of.\n",
    "\n",
    "Let's look at an example from Python's documentation:\n"
   ]
  },
  {
   "cell_type": "code",
   "execution_count": 21,
   "metadata": {},
   "outputs": [
    {
     "name": "stdout",
     "output_type": "stream",
     "text": [
      "[6, 4, 1]\n"
     ]
    }
   ],
   "source": [
    "from itertools import dropwhile\n",
    "print(list(dropwhile(lambda x: x<5, [1,4,6,4,1])))"
   ]
  },
  {
   "cell_type": "markdown",
   "metadata": {},
   "source": [
    "Here we import **dropwhile** and then we pass it a simple **lambda** statement. This function will return True if **x** is less than 5. Other it will return False. the dropwhile function will loop over the lost and pass each element into the lambda. If the lambda returns True, then that value gets dropped. Once we reach the number 6, the lambda returns False and we ratain the number 6 and all the values that follow it.\n",
    "\n",
    "I find it useful to use a regular function over a lambda when I'm learning something new. So let's flip this on its head and create a function that returns True if the number is greater than 5.\n",
    "\n"
   ]
  },
  {
   "cell_type": "code",
   "execution_count": 23,
   "metadata": {},
   "outputs": [
    {
     "name": "stdout",
     "output_type": "stream",
     "text": [
      "[1, 2, 3, 10]\n"
     ]
    }
   ],
   "source": [
    "from itertools import dropwhile\n",
    "def greater_than_five(x):\n",
    "    return x>5\n",
    "\n",
    "print(list(dropwhile(greater_than_five,[6,7,8,9,1,2,3,10])))"
   ]
  },
  {
   "cell_type": "markdown",
   "metadata": {},
   "source": [
    "**TODO** why 10 got printed above ??"
   ]
  },
  {
   "cell_type": "markdown",
   "metadata": {},
   "source": [
    "Here we create a simple function in Python's interpreter. This function is our predicate or filter. If the values we pass to it are True, then they will get dropped. Once we hit a value that is less than 5, then ALL the values after and including that value will be kept, which you can see in the above example"
   ]
  },
  {
   "cell_type": "markdown",
   "metadata": {},
   "source": [
    "### filterfalse(predicate, iterable)\n",
    "\n",
    "The **filterfalse** function from itertools is very similar to **dropwhile**. However instead of dropping values that match True, filterfalse will only return those values that evaluated to False. Let's use our function from the previous section to illustrate:"
   ]
  },
  {
   "cell_type": "code",
   "execution_count": 24,
   "metadata": {},
   "outputs": [
    {
     "name": "stdout",
     "output_type": "stream",
     "text": [
      "[1, 2, 3]\n"
     ]
    }
   ],
   "source": [
    "from itertools import filterfalse\n",
    "def greater_than_five(x):\n",
    "    return x>5\n",
    "\n",
    "print(list(filterfalse(greater_than_five,[6,7,8,9,1,2,3,10])))"
   ]
  },
  {
   "cell_type": "markdown",
   "metadata": {},
   "source": [
    "Here we pass filterfalse our function and a list of integers. If the integer is less than 5, it is kept. Otherwise it is thrown away. You will notice that our result is only 1,2 and 3. Unlike dropwhile, filterfalse will check each and every value against our predicate"
   ]
  },
  {
   "cell_type": "markdown",
   "metadata": {},
   "source": [
    "### groupby(iterable, key=None)\n",
    "\n",
    "The **groupby** iterator will return consecutive key and groups from your iterable. This one is kidn of hard to wrap your head around without seeing an example. So let's take a look at one! Put the following code into your interpreter os save it in a file "
   ]
  },
  {
   "cell_type": "code",
   "execution_count": 30,
   "metadata": {},
   "outputs": [
    {
     "name": "stdout",
     "output_type": "stream",
     "text": [
      "Cobalt is made by Chevrolet\n",
      "***** END OF GROUP *****\n",
      "\n",
      "Charger is made by Dodge\n",
      "Durango is made by Dodge\n",
      "***** END OF GROUP *****\n",
      "\n",
      "F150 is made by Ford\n",
      "GT is made by Ford\n",
      "Taurus is made by Ford\n",
      "***** END OF GROUP *****\n",
      "\n"
     ]
    }
   ],
   "source": [
    "from itertools import groupby\n",
    "\n",
    "vehicles =[('Ford','Taurus'),('Dodge', 'Durango'),\n",
    "            ('Chevrolet', 'Cobalt'), ('Ford', 'F150'),\n",
    "            ('Dodge', 'Charger'), ('Ford', 'GT')]\n",
    "\n",
    "sorted_vehicles = sorted(vehicles)\n",
    "\n",
    "for key,group in groupby(sorted_vehicles, lambda make: make[0]):\n",
    "    for make,model in group:\n",
    "        print('{model} is made by {make}'.format(model = model, make=make))\n",
    "    print('***** END OF GROUP *****\\n')"
   ]
  },
  {
   "cell_type": "markdown",
   "metadata": {},
   "source": [
    "Here we import **groupby** and then create list of tuples. Then we sort the data so it makes more sense when we output it and it also lets groupby actually group items correctly. Next we actually loop over the iterator returned by groupby which gives us the key and the group. Then we loop over the group and print out what's in it. If you run this oce, you should see something like this:"
   ]
  },
  {
   "cell_type": "code",
   "execution_count": 31,
   "metadata": {},
   "outputs": [
    {
     "name": "stdout",
     "output_type": "stream",
     "text": [
      "Taurus is made by Ford\n",
      "***** END OF GROUP *****\n",
      "\n",
      "Durango is made by Dodge\n",
      "***** END OF GROUP *****\n",
      "\n",
      "Cobalt is made by Chevrolet\n",
      "***** END OF GROUP *****\n",
      "\n",
      "F150 is made by Ford\n",
      "***** END OF GROUP *****\n",
      "\n",
      "Charger is made by Dodge\n",
      "***** END OF GROUP *****\n",
      "\n",
      "GT is made by Ford\n",
      "***** END OF GROUP *****\n",
      "\n"
     ]
    }
   ],
   "source": [
    "from itertools import groupby\n",
    "\n",
    "vehicles =[('Ford','Taurus'),('Dodge', 'Durango'),\n",
    "            ('Chevrolet', 'Cobalt'), ('Ford', 'F150'),\n",
    "            ('Dodge', 'Charger'), ('Ford', 'GT')]\n",
    "\n",
    "\n",
    "for key,group in groupby(vehicles, lambda make: make[0]):\n",
    "    for make,model in group:\n",
    "        print('{model} is made by {make}'.format(model = model, make=make))\n",
    "    print('***** END OF GROUP *****\\n')"
   ]
  },
  {
   "cell_type": "markdown",
   "metadata": {},
   "source": [
    "When we change the code such that we pass in **vehicles** instead of **sorted_vehicles**, it creates more groups "
   ]
  },
  {
   "cell_type": "markdown",
   "metadata": {},
   "source": [
    "### islice(iterable, start, stop)\n",
    "\n",
    "We actually mentioned **islice** way back in the **count** section. But here we'll look at it a little more in depth. islice is an iterator that returns selcted elements from the iterable. That's kind of an opaque statement. Basically what islice does is take a slice by index of your iterable(the thing you iterate over) and returns the selected items as an iterator. There are actually two implementations of islice. There's **itertools.islice(iterable,stop)** and then there's the version of islice that more closely matches regular Python slicing : **islice(iterable, start, stop[,step])**\n",
    "\n",
    "Let's look at the first version to see how it works:"
   ]
  },
  {
   "cell_type": "code",
   "execution_count": 34,
   "metadata": {},
   "outputs": [
    {
     "name": "stdout",
     "output_type": "stream",
     "text": [
      "A\n",
      "B\n",
      "C\n",
      "D\n"
     ]
    },
    {
     "ename": "StopIteration",
     "evalue": "",
     "output_type": "error",
     "traceback": [
      "\u001b[1;31m---------------------------------------------------------------------------\u001b[0m",
      "\u001b[1;31mStopIteration\u001b[0m                             Traceback (most recent call last)",
      "\u001b[1;32m<ipython-input-34-bc1c6030c8ff>\u001b[0m in \u001b[0;36m<module>\u001b[1;34m\u001b[0m\n\u001b[0;32m      6\u001b[0m \u001b[0mprint\u001b[0m\u001b[1;33m(\u001b[0m\u001b[0mnext\u001b[0m\u001b[1;33m(\u001b[0m\u001b[0miterator\u001b[0m\u001b[1;33m)\u001b[0m\u001b[1;33m)\u001b[0m\u001b[1;33m\u001b[0m\u001b[1;33m\u001b[0m\u001b[0m\n\u001b[0;32m      7\u001b[0m \u001b[0mprint\u001b[0m\u001b[1;33m(\u001b[0m\u001b[0mnext\u001b[0m\u001b[1;33m(\u001b[0m\u001b[0miterator\u001b[0m\u001b[1;33m)\u001b[0m\u001b[1;33m)\u001b[0m\u001b[1;33m\u001b[0m\u001b[1;33m\u001b[0m\u001b[0m\n\u001b[1;32m----> 8\u001b[1;33m \u001b[0mprint\u001b[0m\u001b[1;33m(\u001b[0m\u001b[0mnext\u001b[0m\u001b[1;33m(\u001b[0m\u001b[0miterator\u001b[0m\u001b[1;33m)\u001b[0m\u001b[1;33m)\u001b[0m\u001b[1;33m\u001b[0m\u001b[1;33m\u001b[0m\u001b[0m\n\u001b[0m",
      "\u001b[1;31mStopIteration\u001b[0m: "
     ]
    }
   ],
   "source": [
    "from itertools import islice\n",
    "iterator = islice('ABCDEF',4)\n",
    "\n",
    "print(next(iterator))\n",
    "print(next(iterator))\n",
    "print(next(iterator))\n",
    "print(next(iterator))\n",
    "print(next(iterator))"
   ]
  },
  {
   "cell_type": "markdown",
   "metadata": {},
   "source": [
    "In the code above, we pass a string of six characters to islice along with the number 4 which is the stop argument. What this means is that iterator that islice returns will have the first 4 items from the string in it. We can verify this vy calling **next** on our iterator four times, which is what we do above. Python is smart enough to know that if there are only two arguments passed to islice, then the second argument is the **stop** argument.\n",
    "\n",
    "Let's try giving it three arguments to demonstratre that you can pass it a start and as tope argument. The **count** tool from itertools can help us illustrate this concept:"
   ]
  },
  {
   "cell_type": "code",
   "execution_count": 36,
   "metadata": {},
   "outputs": [
    {
     "name": "stdout",
     "output_type": "stream",
     "text": [
      "3\n",
      "4\n",
      "5\n",
      "6\n",
      "7\n",
      "8\n",
      "9\n",
      "10\n",
      "11\n",
      "12\n",
      "13\n",
      "14\n"
     ]
    }
   ],
   "source": [
    "from itertools import islice\n",
    "from itertools import count\n",
    "for i in islice(count(), 3, 15):\n",
    "    print(i)"
   ]
  },
  {
   "cell_type": "markdown",
   "metadata": {},
   "source": [
    "Here we just call count and tell islice to start at the number 3 and sotp when we reach 15. It's just like doing a slice except that you are doing it to an iterator and returning a new iterator! "
   ]
  },
  {
   "cell_type": "markdown",
   "metadata": {},
   "source": [
    "### starmap(function, iterable)\n",
    "\n",
    "The **starmap** tool will create an iterator that can compute using the function and iterable provided. As the documentaiton mentions, \"the difference between map() and startmap() parallels the distinction between `function(a,b)` and `function(*c)`\"\n",
    "\n",
    "Let's take a look at simple example:"
   ]
  },
  {
   "cell_type": "code",
   "execution_count": 37,
   "metadata": {},
   "outputs": [
    {
     "name": "stdout",
     "output_type": "stream",
     "text": [
      "5\n",
      "9\n"
     ]
    }
   ],
   "source": [
    "from itertools import starmap\n",
    "def add(a,b):\n",
    "    return a+b\n",
    "\n",
    "for item in starmap(add, [(2,3),(4,5)]):\n",
    "    print(item)"
   ]
  },
  {
   "cell_type": "markdown",
   "metadata": {},
   "source": [
    "Here we create a simple adding function that accepts two arguments. Next we create a **for** loop and call **starmap** with the function as its first argument and a list of tuples for the iterable. The starmap function will then pass each tuple element into the function and return an iterator of the results, which we print out."
   ]
  },
  {
   "cell_type": "markdown",
   "metadata": {},
   "source": [
    "### takewhile(predicate,iterable)\n",
    "\n",
    "The **takewhile** module is basically the opposite of the **dropwhile** iterator that we looked at earlier. takewhile will create an iterator that returns elements from the iterable only as long as our predicate or filter is True. \n",
    "\n",
    "Let's try a simple example to show how it works:"
   ]
  },
  {
   "cell_type": "code",
   "execution_count": 39,
   "metadata": {},
   "outputs": [
    {
     "name": "stdout",
     "output_type": "stream",
     "text": [
      "[1, 4]\n"
     ]
    }
   ],
   "source": [
    "from itertools import takewhile\n",
    "print(list(takewhile(lambda x: x<5, [1,4,6,4,1])))"
   ]
  },
  {
   "cell_type": "markdown",
   "metadata": {},
   "source": [
    "Here we run takewhile using a lambda function and a list. the output is only the first two integers from our iterable. The reason is that 1 and 4 are both less than 5, but 6 is greater. So once takewhile sees the 6, the condition becomes False and it will ignore the rest of the items in hte iterable."
   ]
  },
  {
   "cell_type": "markdown",
   "metadata": {},
   "source": [
    "### tee(iterable, n=2)\n",
    "\n",
    "The **tee** tool will create n iterators from a single iterable. What this means is that you can create multiple iterators from one iterable.\n",
    "\n",
    "Let's look at some explanatory code to show how it works:"
   ]
  },
  {
   "cell_type": "code",
   "execution_count": 42,
   "metadata": {},
   "outputs": [
    {
     "name": "stdout",
     "output_type": "stream",
     "text": [
      "item1\n",
      "A\n",
      "B\n",
      "C\n",
      "D\n",
      "E\n",
      "\n",
      "item2\n",
      "A\n",
      "B\n",
      "C\n",
      "D\n",
      "E\n"
     ]
    }
   ],
   "source": [
    "from itertools import tee\n",
    "data = 'ABCDE'\n",
    "iter1, iter2 = tee(data)\n",
    "\n",
    "print(\"item1\")\n",
    "for item in iter1:\n",
    "    print(item)\n",
    "\n",
    "print(\"\\nitem2\")\n",
    "for item in iter2:\n",
    "    print(item)"
   ]
  },
  {
   "cell_type": "markdown",
   "metadata": {},
   "source": [
    "Here we create a 5-letter sting and pass it to **tee**. Because tee defaults to 2, we use multiple assignment to acquire the two iterators that are returned from tee. Finally we loop over each of the iterators and print out their contests. As you can see, their content are the same."
   ]
  },
  {
   "cell_type": "markdown",
   "metadata": {},
   "source": [
    "### zip_longest(\\*iterables, fillvalue=None)\n",
    "\n",
    "The **zip_longest** iterator can be used to zip two iterables together. If the iterables don't happen to be the same length, then you can also pass in a **fillvalue**. Let's look at a silly example based on the documentation for this function:"
   ]
  },
  {
   "cell_type": "code",
   "execution_count": 43,
   "metadata": {},
   "outputs": [
    {
     "name": "stdout",
     "output_type": "stream",
     "text": [
      "('A', 'x')\n",
      "('B', 'y')\n",
      "('C', 'BLANK')\n",
      "('D', 'BLANK')\n"
     ]
    }
   ],
   "source": [
    "from itertools import zip_longest\n",
    "\n",
    "for item in zip_longest('ABCD', 'xy', fillvalue='BLANK'):\n",
    "    print(item)"
   ]
  },
  {
   "cell_type": "markdown",
   "metadata": {},
   "source": [
    "In this code we import zip_longest and then pass it two string to zip together. You will note that the first string is 4-characters long while the second is only 2-characters in length. We also set a fill value of \"BLANK\". When we loop over this and print it out, you will see that we get tuples returned. The first two tuples are combinations of the first and second letters from each string respectively. The last two has our fill value insted.\n",
    "\n",
    "It should be noted that if the iterable(s) passed to zip_longest have the potenital to be infinite, then you should wrap the function with something like islice to limit the number of calls."
   ]
  },
  {
   "cell_type": "markdown",
   "metadata": {},
   "source": [
    "## The Combinatoric Generators\n",
    "\n",
    "The itertools library contains four iterators that can be used for creating combinations and permutations of data. We will be covering these fun uteratos in this section.\n",
    "\n",
    "### combinations(iterable,r)\n",
    "If you have the need to create combinations, Python has you covered with **itertools.combinations**. What combinations allows you to do is create an iterator from an iterable that is some length long. Let's take a look:"
   ]
  },
  {
   "cell_type": "code",
   "execution_count": 47,
   "metadata": {},
   "outputs": [
    {
     "name": "stdout",
     "output_type": "stream",
     "text": [
      "[('W', 'X'), ('W', 'Y'), ('W', 'Z'), ('X', 'Y'), ('X', 'Z'), ('Y', 'Z')]\n"
     ]
    }
   ],
   "source": [
    "from itertools import combinations\n",
    "print(list(combinations('WXYZ', 2)))"
   ]
  },
  {
   "cell_type": "markdown",
   "metadata": {},
   "source": [
    "When you run this, you will notice that combinations returns tuples. To make this output a bit more readable, let's loop over our iterator and join the tuples into a single string:"
   ]
  },
  {
   "cell_type": "code",
   "execution_count": 49,
   "metadata": {},
   "outputs": [
    {
     "name": "stdout",
     "output_type": "stream",
     "text": [
      "WX\n",
      "WY\n",
      "WZ\n",
      "XY\n",
      "XZ\n",
      "YZ\n"
     ]
    }
   ],
   "source": [
    "from itertools import combinations\n",
    "for item in combinations('WXYZ',2):\n",
    "    print(''.join(item))"
   ]
  },
  {
   "cell_type": "markdown",
   "metadata": {},
   "source": [
    "Now it's a little easier to see all the various combinations. Note that the combinations function does its combination in lexicographic sort order, so if you the iterable is sorted, then your combination tuples will also be sorted. Also worth noting is that combinations will not produce repeat values in the combinations of all input elements are unique."
   ]
  },
  {
   "cell_type": "markdown",
   "metadata": {},
   "source": [
    "### combinations_with_replacement(iterable,r)\n",
    "\n",
    "The **combinations_with_replacement** with iterator is very similar to **combinations**. The only difference is that it will actually create combinations where elements do repeat. Let's try an example from the previous section to illustrate:"
   ]
  },
  {
   "cell_type": "code",
   "execution_count": 52,
   "metadata": {},
   "outputs": [
    {
     "name": "stdout",
     "output_type": "stream",
     "text": [
      "WW\n",
      "WX\n",
      "WY\n",
      "WZ\n",
      "XX\n",
      "XY\n",
      "XZ\n",
      "YY\n",
      "YZ\n",
      "ZZ\n"
     ]
    }
   ],
   "source": [
    "from itertools import combinations_with_replacement\n",
    "\n",
    "for item in combinations_with_replacement('WXYZ',2):\n",
    "    print(''.join(item))"
   ]
  },
  {
   "cell_type": "markdown",
   "metadata": {},
   "source": [
    "As you can see, we now have four new items in out output: WW, XX, YY and ZZ"
   ]
  },
  {
   "cell_type": "markdown",
   "metadata": {},
   "source": [
    "### product(\\*iterables, repeat=1)\n",
    "\n",
    "The itertools package has a neat little function for creating Castesian products from a series of input iterables. Yes, that function is **product**. Let's see how it works!\n"
   ]
  },
  {
   "cell_type": "code",
   "execution_count": 56,
   "metadata": {},
   "outputs": [
    {
     "name": "stdout",
     "output_type": "stream",
     "text": [
      "[(-1, -3, -5), (-1, -3, 5), (-1, 3, -5), (-1, 3, 5), (1, -3, -5), (1, -3, 5), (1, 3, -5), (1, 3, 5)]\n"
     ]
    }
   ],
   "source": [
    "from itertools import product\n",
    "arrays = [(-1,1),(-3,3),(-5,5)]\n",
    "cp = list(product(*arrays))\n",
    "\n",
    "print(cp)"
   ]
  },
  {
   "cell_type": "markdown",
   "metadata": {},
   "source": [
    "Here we import prodcut and then set up a list of tuples which we assign to the variable **arrays**. Next we call product with those arrays. You will notice that we call it using **\\*arrays**. This will cause the list to be \"exploded\" or applied to the production function in sequence. It means that you are passing in 3 arguments instead of one. If you want, try calling it with the asterisk pre-pended to arrays and see what happens\n",
    "\n",
    "## TODO: It is not clear ..."
   ]
  },
  {
   "cell_type": "markdown",
   "metadata": {},
   "source": [
    "### permutations\n",
    "\n",
    "The **permutations** sub-module of itertools will return successive _r_ length permutations of elements from the iterable you git it. Much like the combinations function, permutations are emitted in lexicographic sort order. \n",
    "\n",
    "Let's take a look:"
   ]
  },
  {
   "cell_type": "code",
   "execution_count": 54,
   "metadata": {},
   "outputs": [
    {
     "name": "stdout",
     "output_type": "stream",
     "text": [
      "WX\n",
      "WY\n",
      "WZ\n",
      "XW\n",
      "XY\n",
      "XZ\n",
      "YW\n",
      "YX\n",
      "YZ\n",
      "ZW\n",
      "ZX\n",
      "ZY\n"
     ]
    }
   ],
   "source": [
    "from itertools import permutations\n",
    "for item in permutations('WXYZ',2):\n",
    "    print(''.join(item))"
   ]
  },
  {
   "cell_type": "markdown",
   "metadata": {},
   "source": [
    "You will notice that the output it quite a bit longer than the output from combinations. When you use permutations, it will go though all the permutations of the string, but it won't do repeat values if the input elements are unique"
   ]
  },
  {
   "cell_type": "code",
   "execution_count": null,
   "metadata": {},
   "outputs": [],
   "source": []
  }
 ],
 "metadata": {
  "kernelspec": {
   "display_name": "Python 3",
   "language": "python",
   "name": "python3"
  },
  "language_info": {
   "codemirror_mode": {
    "name": "ipython",
    "version": 3
   },
   "file_extension": ".py",
   "mimetype": "text/x-python",
   "name": "python",
   "nbconvert_exporter": "python",
   "pygments_lexer": "ipython3",
   "version": "3.7.6"
  }
 },
 "nbformat": 4,
 "nbformat_minor": 4
}
