{
 "cells": [
  {
   "cell_type": "markdown",
   "metadata": {},
   "source": [
    "**Challenge 1**\n",
    "\n",
    "Implement a class named Rectangle to store the coordinates of a rectangle given the top-left corner (x1, y1) and the bottom-right corner (x2, y2).\n",
    "\n",
    "Implement the class constructor with the parameters (x1, y1, x2, y2) and store them in the class instance using the self keyword."
   ]
  },
  {
   "cell_type": "code",
   "execution_count": 8,
   "metadata": {},
   "outputs": [
    {
     "name": "stdout",
     "output_type": "stream",
     "text": [
      "Rectangle( 2 7 8 4 ) created\n"
     ]
    }
   ],
   "source": [
    "class Rectangle:\n",
    "    \n",
    "    def __init__(self,x1,y1,x2,y2):\n",
    "        self.x1 = x1\n",
    "        self.y1 = y1\n",
    "        self.x2 = x2\n",
    "        self.y2 = y2\n",
    "    \n",
    "    def output(self):\n",
    "        print(\"Rectangle(\" , self.x1 , self.y1 , self.x2 , self.y2 , \") created\")\n",
    "        return\n",
    "        \n",
    "r = Rectangle(2,7,8,4)\n",
    "r.output()"
   ]
  },
  {
   "cell_type": "markdown",
   "metadata": {},
   "source": [
    "https://docs.python.org/3/tutorial/classes.html\n"
   ]
  },
  {
   "cell_type": "markdown",
   "metadata": {},
   "source": [
    "**Challenge 2** \n",
    "\n",
    "Implement the width() and height() methods which return, respectively, the width and height of a rectangle. The tests that follow will create two objects—instances of Rectangle to test the calculations"
   ]
  },
  {
   "cell_type": "code",
   "execution_count": 1,
   "metadata": {},
   "outputs": [
    {
     "name": "stdout",
     "output_type": "stream",
     "text": [
      "width is:  6\n",
      "height is:  3\n"
     ]
    }
   ],
   "source": [
    "class Rectangle:\n",
    "    def __init__(self, x1, y1, x2, y2): # class constructor\n",
    "        if x1 < x2 and y1 > y2:\n",
    "          self.x1 = x1 # class variable\n",
    "          self.y1 = y1 # class variable\n",
    "          self.x2 = x2 # class variable\n",
    "          self.y2 = y2 # class variable\n",
    "        else:\n",
    "          print(\"Incorrect coordinates of the rectangle!\")\n",
    "        \n",
    "    # write your code here\n",
    "    def height(self):\n",
    "        return self.y1-self.y2\n",
    "\n",
    "    def width(self):\n",
    "        return self.x2-self.x1\n",
    "    \n",
    "r1 = Rectangle(2,7,8,4)\n",
    "print(\"width is: \", r1.width())\n",
    "print(\"height is: \",r1.height())"
   ]
  },
  {
   "cell_type": "markdown",
   "metadata": {},
   "source": [
    "**Challenge 3**\n",
    "\n",
    "Implement the area() and perimeter() methods to return the area and perimeter of the rectangle respectively, where"
   ]
  },
  {
   "cell_type": "code",
   "execution_count": 13,
   "metadata": {},
   "outputs": [
    {
     "name": "stdout",
     "output_type": "stream",
     "text": [
      "Area is 18\n",
      "Perimeter is:  18\n",
      "<__main__.Rectangle object at 0x00000182256D3A88>\n"
     ]
    }
   ],
   "source": [
    "class Rectangle:\n",
    "  def __init__(self, x1, y1, x2, y2): # class constructor\n",
    "    if x1<x2 and y1>y2:\n",
    "      self.x1 = x1 # class variable\n",
    "      self.y1 = y1 # class variable\n",
    "      self.x2 = x2 # class variable\n",
    "      self.y2 = y2 # class variable\n",
    "    else:\n",
    "      print(\"Incorrect coordinates of the rectangle!\")\n",
    "        \n",
    "  def width(self):\n",
    "    return self.x2-self.x1\n",
    "      \n",
    "  def height(self):\n",
    "    return self.y1-self.y2\n",
    "  \n",
    "  def area(self):\n",
    "    return self.width() * self.height()\n",
    "\n",
    "  def perimeter(self):\n",
    "    return (self.width ()*2) + (self.height() *2)  \n",
    "\n",
    "r1 = Rectangle(2,7,8,4)\n",
    "print(\"Area is\", r1.area())\n",
    "print(\"Perimeter is: \",r1.perimeter())\n",
    "\n",
    "#printing object \n",
    "print(r1)"
   ]
  },
  {
   "cell_type": "markdown",
   "metadata": {},
   "source": [
    "**Challenge 4** \n",
    "\n",
    "Implement a function in the Rectangle class __str__ method, such that when you print one of the objects using the print() command, it prints the coordinates as x1, y1, x2, y2."
   ]
  },
  {
   "cell_type": "code",
   "execution_count": 14,
   "metadata": {},
   "outputs": [
    {
     "name": "stdout",
     "output_type": "stream",
     "text": [
      "2,7,8,4\n"
     ]
    }
   ],
   "source": [
    "class Rectangle:\n",
    "  def __init__(self, x1, y1, x2, y2): # class constructor\n",
    "    if x1<x2 and y1>y2:\n",
    "      self.x1 = x1 # class variable\n",
    "      self.y1 = y1 # class variable\n",
    "      self.x2 = x2 # class variable\n",
    "      self.y2 = y2 # class variable\n",
    "    else:\n",
    "      print(\"Incorrect coordinates of the rectangle!\")\n",
    "  \n",
    "  # built-in method that we can override, __repr__ can also be used here ..\n",
    "  def __str__(self):\n",
    "    return(str(self.x1)+\",\"+str(self.y1)+ \",\" +str(self.x2) + \",\" +str(self.y2))\n",
    "\n",
    "rectangle = Rectangle(2,7,8,4)\n",
    "print(rectangle)"
   ]
  },
  {
   "cell_type": "markdown",
   "metadata": {},
   "source": [
    "**Inheritance**"
   ]
  },
  {
   "cell_type": "code",
   "execution_count": 19,
   "metadata": {},
   "outputs": [
    {
     "name": "stdout",
     "output_type": "stream",
     "text": [
      "I don't talk to strangers\n"
     ]
    }
   ],
   "source": [
    "class Person:\n",
    "    def __init__(self, name, age):\n",
    "        self.name = name\n",
    "        self.age = age\n",
    "        \n",
    "    def greet(self):\n",
    "        print(\"Hello, my name is :\" + name)\n",
    "        \n",
    "class TenYearOldPerson(Person):\n",
    "    \n",
    "    def __init__(self, name):\n",
    "        Person.__init__(self,name,10)\n",
    "    \n",
    "    def greet(self):\n",
    "        print(\"I don't talk to strangers\")\n",
    "        \n",
    "ten = TenYearOldPerson(\"Andy\")\n",
    "ten.greet()"
   ]
  },
  {
   "cell_type": "markdown",
   "metadata": {},
   "source": [
    "**Multilevel Inheritance**"
   ]
  },
  {
   "cell_type": "code",
   "execution_count": 31,
   "metadata": {},
   "outputs": [
    {
     "name": "stdout",
     "output_type": "stream",
     "text": [
      "I am a lion.\n",
      "I am warm blooded\n",
      "I eat meat\n"
     ]
    }
   ],
   "source": [
    "class Animal():\n",
    "    def __init__(self, name, food, characteristic):\n",
    "        self.name = name\n",
    "        self.food = food \n",
    "        self.characteristic = characteristic\n",
    "        print(\"I am a \" + str(self.name)+ \".\")\n",
    "        \n",
    "class Mammal (Animal):\n",
    "    def __init__(self,name, food):\n",
    "        Animal.__init__(self,name,food,\"warm blooded\")\n",
    "        print(\"I am warm blooded\")\n",
    "        \n",
    "class Carnivore (Mammal):\n",
    "    def __init__(self, name):\n",
    "        Mammal.__init__(self, name, \"meat\")\n",
    "        print(\"I eat meat\")\n",
    "        \n",
    "lion = Carnivore(\"lion\")"
   ]
  },
  {
   "cell_type": "code",
   "execution_count": 32,
   "metadata": {},
   "outputs": [
    {
     "name": "stdout",
     "output_type": "stream",
     "text": [
      "I eat meat.\n"
     ]
    }
   ],
   "source": [
    "# Use overridden method printer()\n",
    "class Animal ():\n",
    "  def __init__(self, name, food, characteristic):\n",
    "    self.name = name\n",
    "    self.characteristic = characteristic\n",
    "    self.food = food\n",
    "  def printer(self):\n",
    "    print (\"I am a \" + str(self.name) + \".\")\n",
    "    \n",
    "class Mammal (Animal):\n",
    "  def __init__(self, name, food):\n",
    "    Animal.__init__(self, name, food, \"warm blooded\")\n",
    "  def printer(self):\n",
    "    print (\"I am warm blooded.\")\n",
    "    \n",
    "class Carnivore (Mammal):\n",
    "  def __init__(self, name):\n",
    "    Mammal.__init__(self, name, \"meat\")\n",
    "  def printer(self):\n",
    "    print (\"I eat meat.\")\n",
    "\n",
    "lion = Carnivore(\"lion\")\n",
    "lion.printer()"
   ]
  },
  {
   "cell_type": "markdown",
   "metadata": {},
   "source": [
    "**Multiple Inheritance**\n",
    "\n",
    "In Python, a class can inherit attributes and methods from more than one class. Critics of multiple inheritance say that it is confusing and complex, like the [diamond problem](https://en.wikipedia.org/wiki/Multiple_inheritance), which is out of the scope of this lesson.\n",
    "\n",
    "The idea that multiple inheritance is somehow “bad” is based on the fact that some languages either do not support multiple inheritance (like Java) or do not have a very good implementation for it. Python, however, has a very sophisticated and well-structured approach to multiple inheritance."
   ]
  },
  {
   "cell_type": "code",
   "execution_count": 40,
   "metadata": {},
   "outputs": [
    {
     "name": "stdout",
     "output_type": "stream",
     "text": [
      "my name is: Binit\n",
      "roll number is PT0981122\n",
      "Introduction toAlgorithmics\n",
      "I got an A in Algorithmics course\n",
      "my name is: Binit\n",
      "roll number is PT0981122\n",
      "Introduction toAlgorithmics\n"
     ]
    }
   ],
   "source": [
    "class Person:\n",
    "    def __init__(self,name):\n",
    "        self.name = name\n",
    "    def greet(self):\n",
    "        print(\"my name is: \" + self.name)\n",
    "        \n",
    "class Student(Person):\n",
    "    def __init__(self, name, rollNumber):\n",
    "        self.name = name\n",
    "        self.rollNumber = rollNumber\n",
    "        Person.__init__(self,name)\n",
    "        \n",
    "    \n",
    "    def report(self):\n",
    "        print(\"roll number is \" + self.rollNumber)\n",
    "        \n",
    "class Teacher(Person):\n",
    "    def __init__(self,name,course):\n",
    "        self.name = name\n",
    "        self.course = course\n",
    "        Person.__init__(self,name)\n",
    "        \n",
    "        \n",
    "    def introduce(self):\n",
    "        print(\"Introduction to\" + self.course)\n",
    "\n",
    "class TA(Student,Teacher):\n",
    "    def __init__(self,name,rollNumber,course,grade):\n",
    "        self.name =name\n",
    "        self.rollNumber = rollNumber\n",
    "        self.course = course\n",
    "        self.grade = grade\n",
    "        \n",
    "    def details(self):\n",
    "        if(self.grade == \"A*\" or self.grade == \"A\" or self.grade == \"a--\"):\n",
    "            Person.greet(self)\n",
    "            Student.report(self)\n",
    "            Teacher.introduce(self)\n",
    "            print(\"I got an \" + self.grade + \" in \" + self.course + \" course\")\n",
    "        else:\n",
    "            print(self.name + \" cannot apply for TAship\")\n",
    "\n",
    "ta = TA(\"Binit\", \"PT0981122\", \"Algorithmics\", \"A\")\n",
    "ta.details()\n",
    "\n",
    "# extra\n",
    "ta.greet()\n",
    "ta.report()\n",
    "ta.introduce()"
   ]
  },
  {
   "cell_type": "markdown",
   "metadata": {},
   "source": [
    "**Super Method**\n",
    "\n",
    "`ParentClassName.__init__(self, methodParameter)`\n",
    "\n",
    "`ParentClassName.methodName(self)`\n",
    "\n",
    "This method tends to get confusing when the hierarchy has multiple levels because you have to remember the exact names of the parent classes and where to use them. An easier way to do this is by using the super() method.\n",
    "\n",
    "The built-in super function allows the child class (or subclass) to access inherited methods of the parent class (or superclass) that have been overwritten in the child class.\n",
    "\n",
    "According to the [official Python documentation](https://docs.python.org/2/library/functions.html#super)\n",
    "\n",
    "\n",
    "> Super is used to return a proxy object that delegates method calls to a parent or sibling class of type. This is useful for accessing inherited methods that have been overridden in a class."
   ]
  },
  {
   "cell_type": "code",
   "execution_count": 41,
   "metadata": {},
   "outputs": [
    {
     "name": "stdout",
     "output_type": "stream",
     "text": [
      "Hi, I'm Ali.\n",
      "I am a PhD student.\n"
     ]
    }
   ],
   "source": [
    "class Person(object): # Super class\n",
    "  def __init__(self, name):\n",
    "    self.name = name\n",
    "  def greet(self):\n",
    "    print (\"Hi, I'm \" + self.name + \".\") # Super class does something\n",
    "\n",
    "class Student(Person): # Subclass inheriting from the super class\n",
    "  def __init__(self, name, degree):\n",
    "    self.name = name\n",
    "    self.degree = degree\n",
    "    super().__init__(name) # calls constructor of super class\n",
    "  def greet(self):\n",
    "    super().greet() # calls method of super class\n",
    "    print (\"I am a \" + self.degree + \" student.\")\n",
    "  \n",
    "student = Student(\"Ali\", \"PhD\") # Create an object of the subclass\n",
    "student.greet()"
   ]
  },
  {
   "cell_type": "markdown",
   "metadata": {},
   "source": [
    "**Challenge5**\n",
    "\n",
    "The code for the Rectangle class is implemented below:\n",
    "\n",
    "Create a Square class as a ​subclass of Rectangle.\n",
    "\n",
    "Implement the Square constructor. The constructor should have only the x1, y1 coordinates and the length of a side. Notice which arguments you’ll have to use when you invoke the Rectangle constructor while using super.\n",
    "\n",
    "The following test cases will calculate the area of the square to check that the Square class correctly inherits attributes and methods from Rectangle."
   ]
  },
  {
   "cell_type": "code",
   "execution_count": 49,
   "metadata": {},
   "outputs": [
    {
     "name": "stdout",
     "output_type": "stream",
     "text": [
      "5\n",
      "5\n",
      "25\n"
     ]
    }
   ],
   "source": [
    "class Rectangle:\n",
    "  def __init__(self, x1, y1, x2, y2): # class constructor\n",
    "    self.x1 = x1 # class variable\n",
    "    self.y1 = y1 # class variable\n",
    "    self.x2 = x2 # class variable\n",
    "    self.y2 = y2 # class variable\n",
    "        \n",
    "  def width(self):\n",
    "    return self.x2 - self.x1\n",
    "      \n",
    "  def height(self):\n",
    "    return self.y2 - self.y1\n",
    "  \n",
    "  def area(self):\n",
    "    return self.width() * self.height()\n",
    "  \n",
    "class Square(Rectangle):\n",
    "    def __init__(self,x1,y1,length):\n",
    "        self.x1 = x1\n",
    "        self.y1 = y1\n",
    "        self.length = length\n",
    "        x2 = self.x1 + self.length\n",
    "        y2 = self.y1 + self.length\n",
    "        super().__init__(x1, y1, x2, y2)\n",
    "        \n",
    "square = Square(2,3,5)\n",
    "print(square.width())\n",
    "print(square.height())\n",
    "print(square.area())\n"
   ]
  },
  {
   "cell_type": "code",
   "execution_count": null,
   "metadata": {},
   "outputs": [],
   "source": []
  }
 ],
 "metadata": {
  "kernelspec": {
   "display_name": "Python 3",
   "language": "python",
   "name": "python3"
  },
  "language_info": {
   "codemirror_mode": {
    "name": "ipython",
    "version": 3
   },
   "file_extension": ".py",
   "mimetype": "text/x-python",
   "name": "python",
   "nbconvert_exporter": "python",
   "pygments_lexer": "ipython3",
   "version": "3.7.6"
  }
 },
 "nbformat": 4,
 "nbformat_minor": 4
}
