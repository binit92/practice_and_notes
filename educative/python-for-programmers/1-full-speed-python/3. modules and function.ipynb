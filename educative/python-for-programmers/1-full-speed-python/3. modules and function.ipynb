{
 "cells": [
  {
   "cell_type": "markdown",
   "metadata": {},
   "source": [
    "A function is a block of codde that is used to perform a single action. A module is a Python file containing a set of functions and variables of all types(arrays, dictionaries, objects, etc.) that you want to use in your application.\n",
    "\n",
    "To create a module, create a file using .py extension"
   ]
  },
  {
   "cell_type": "code",
   "execution_count": 1,
   "metadata": {},
   "outputs": [
    {
     "name": "stdout",
     "output_type": "stream",
     "text": [
      "1.0\n",
      "4.799655442984406\n"
     ]
    }
   ],
   "source": [
    "import math\n",
    "print(math.cos(0.0))\n",
    "print(math.radians(275))\n"
   ]
  },
  {
   "cell_type": "code",
   "execution_count": 2,
   "metadata": {},
   "outputs": [
    {
     "name": "stdout",
     "output_type": "stream",
     "text": [
      "Course:full speed python\n"
     ]
    }
   ],
   "source": [
    "import module\n",
    "module.myCourse(\"full speed python\")"
   ]
  },
  {
   "cell_type": "code",
   "execution_count": 3,
   "metadata": {},
   "outputs": [
    {
     "name": "stdout",
     "output_type": "stream",
     "text": [
      "first function\n",
      "second function\n",
      "third function\n"
     ]
    }
   ],
   "source": [
    "# functions are three types:\n",
    "# non-parameterized function\n",
    "# parameterized function\n",
    "# parameterized function with a return \n",
    "\n",
    "def first():\n",
    "    print(\"first function\")\n",
    "first()\n",
    "\n",
    "def second(val):\n",
    "    print(val + \" function\")\n",
    "second(\"second\")\n",
    "\n",
    "def third():\n",
    "    return \"third function\"\n",
    "print(third())\n"
   ]
  },
  {
   "cell_type": "markdown",
   "metadata": {},
   "source": [
    "Challenge 1 : Greatest Common divisor\n",
    "\n",
    "Challenge 2 : Calculate sine, cosine and tanget of a User Input\n",
    "\n",
    "Challenge 3:  Compute and return maximum\n",
    "\n",
    "Challenge 4:  Check if number is divisible by another \n",
    "\n",
    "(Implementation of these are in module.py)\n"
   ]
  },
  {
   "cell_type": "code",
   "execution_count": 4,
   "metadata": {},
   "outputs": [
    {
     "name": "stdout",
     "output_type": "stream",
     "text": [
      "5\n",
      "10\n",
      "[0.0, 1.0, 0.0]\n",
      "15\n",
      "False\n"
     ]
    }
   ],
   "source": [
    "def findGCD(x,y):\n",
    "    small = x\n",
    "    if y>x:\n",
    "        small = y    \n",
    "    gcd = 1\n",
    "    for n in range(1,small):\n",
    "        if(x%n == 0 and y%n == 0):\n",
    "            gcd = n\n",
    "    return gcd\n",
    "print(findGCD(10,15))\n",
    "\n",
    "#import module\n",
    "print(module.findGCD(10,20))\n",
    "\n",
    "#print sin,cos and tan of a value\n",
    "print(module.calculateSinCosTan(0))\n",
    "\n",
    "# conditional statements https://docs.python.org/3/tutorial/controlflow.html#if-statements\n",
    "#compute and return maximum\n",
    "print(module.findMaximum(15,2))\n",
    "\n",
    "\n",
    "print(module.isDivisible(10,4))\n",
    "\n"
   ]
  },
  {
   "cell_type": "markdown",
   "metadata": {},
   "source": [
    "**Recursion** - there are two parts of recursion, base function and recursive method\n",
    "\n",
    "Challenge 5:  Compute nth fibonacci series\n",
    "\n",
    "Challenge 6:  Compute sum of first nth natural numbers\n"
   ]
  },
  {
   "cell_type": "code",
   "execution_count": 5,
   "metadata": {},
   "outputs": [
    {
     "name": "stdout",
     "output_type": "stream",
     "text": [
      "120\n"
     ]
    }
   ],
   "source": [
    "def factorial(n):\n",
    "    if n <=1:\n",
    "        return n\n",
    "    else:\n",
    "        return n * factorial(n-1)\n",
    "print(factorial(5))"
   ]
  },
  {
   "cell_type": "code",
   "execution_count": 10,
   "metadata": {},
   "outputs": [
    {
     "name": "stdout",
     "output_type": "stream",
     "text": [
      "89\n",
      "325\n"
     ]
    }
   ],
   "source": [
    "# print nth term of fibonacci series\n",
    "print(module.fibonacci(10))\n",
    "\n",
    "# print sum of nth natural numbers\n",
    "print(module.sum_N_Numbers(25))"
   ]
  },
  {
   "cell_type": "code",
   "execution_count": null,
   "metadata": {},
   "outputs": [],
   "source": []
  }
 ],
 "metadata": {
  "kernelspec": {
   "display_name": "Python 3",
   "language": "python",
   "name": "python3"
  },
  "language_info": {
   "codemirror_mode": {
    "name": "ipython",
    "version": 3
   },
   "file_extension": ".py",
   "mimetype": "text/x-python",
   "name": "python",
   "nbconvert_exporter": "python",
   "pygments_lexer": "ipython3",
   "version": "3.7.6"
  }
 },
 "nbformat": 4,
 "nbformat_minor": 4
}
