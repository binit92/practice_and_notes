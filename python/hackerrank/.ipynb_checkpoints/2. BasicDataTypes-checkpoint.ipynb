{
 "cells": [
  {
   "cell_type": "markdown",
   "metadata": {},
   "source": [
    "### List\n",
    "\n",
    "Consider a list (list = []). You can perform the following commands:\n",
    "\n",
    "+ **insert i e**: Insert integer  at position.\n",
    "+ **print**: Print the list.\n",
    "+ **remove e**: Delete the first occurrence of integer .\n",
    "+ **append e**: Insert integer  at the end of the list.\n",
    "+ **sort**: Sort the list.\n",
    "+ **pop**: Pop the last element from the list.\n",
    "+ **reverse**: Reverse the list.\n"
   ]
  },
  {
   "cell_type": "code",
   "execution_count": 1,
   "metadata": {},
   "outputs": [
    {
     "name": "stdout",
     "output_type": "stream",
     "text": [
      "12\n",
      "insert 0 5\n",
      "insert 1 10\n",
      "insert 0 6\n",
      "print\n",
      "[6, 5, 10]\n",
      "remove 6\n",
      "append 9\n",
      "append 1\n",
      "sort\n",
      "print\n",
      "[1, 5, 9, 10]\n",
      "pop\n",
      "reverse\n",
      "print\n",
      "[9, 5, 1]\n"
     ]
    }
   ],
   "source": [
    "if __name__ == '__main__':\n",
    "    N = int(input())\n",
    "        \n",
    "    list = []\n",
    "    \n",
    "    for i in range(N):\n",
    "        arr = [arr_temp for arr_temp in input().strip().split(' ')]\n",
    "                \n",
    "        # the eval function lets python program run it python code within itself.\n",
    "        command = arr[0]\n",
    "        args = arr[1:]\n",
    "        if command != 'print':\n",
    "            command += \"(\" + \",\".join(args)+\")\"\n",
    "            #print(command)\n",
    "            eval(\"list.\"+command)\n",
    "        else:\n",
    "            print (list)   "
   ]
  },
  {
   "cell_type": "markdown",
   "metadata": {},
   "source": [
    "### Tuples\n",
    "\n",
    "Given an integer **n**, and **n** space-separated integers as input, create a tuple, **t** , of those **n** integers. Then compute and print the result of **__hash(t)__** .\n",
    "\n",
    "The key difference is that tuples are immutable. This means that you cannot change the values in a tuple once you have created it.\n",
    "\n",
    "So if you're going to need to change the values use a List.\n",
    " + Slight performance improvement.\n",
    " + As a tuple is immutable it **can be used as a key in a dictionary**.\n",
    " + If you can't change it neither can anyone else, which is to say you don't need to worry about any API functions etc. changing your tuple without being asked.\n"
   ]
  },
  {
   "cell_type": "code",
   "execution_count": 2,
   "metadata": {},
   "outputs": [
    {
     "name": "stdout",
     "output_type": "stream",
     "text": [
      "2\n",
      "1 2\n",
      "3713081631934410656\n"
     ]
    }
   ],
   "source": [
    "if __name__ == '__main__':\n",
    "    n = int(input())\n",
    "    #The map(aFunction, aSequence) function applies a passed-in function to each item in an iterable object and returns a list      containing all the function call results.\n",
    "    integer_list = map(int, input().split())\n",
    "    \n",
    "    #### Alternatively List Composition\n",
    "    # input_list = [int(x) for x in input_list]\n",
    "\n",
    "    # We need to convert our list of 'ints' to tuples of 'int' as list is not a hashtable but tuple is ..    \n",
    "    t = tuple(integer_list)\n",
    "    print(hash(t))\n"
   ]
  },
  {
   "cell_type": "markdown",
   "metadata": {},
   "source": [
    "### List Comprehensions\n",
    "\n",
    "List comprehensions are an elegant way to build a list without having to use different for loops to append values one by one.\n",
    "\n",
    "You are given three integers **X, Y ,Z**  and **N** representing the dimensions of a cuboid along with an integer . You have to print a list of all possible coordinates given by (i,j,k)  on a 3D grid where the sum of i+j+k  is not equal to N . Here, 0 <= i <=X , 0 <=j<=Y, 0<=k<=Z\n",
    "\n",
    "**common ways to describe lists (or sets, or tuples, or vectors) in mathematics.**\n",
    " + S = {x² : x in {0 ... 9}}\n",
    " + V = (1, 2, 4, 8, ..., 2¹²)\n",
    " + M = {x | x in S and x even}\n"
   ]
  },
  {
   "cell_type": "code",
   "execution_count": 3,
   "metadata": {},
   "outputs": [
    {
     "name": "stdout",
     "output_type": "stream",
     "text": [
      "1\n",
      "1\n",
      "1\n",
      "2\n",
      "[[0, 0, 0], [0, 0, 1], [0, 1, 0], [1, 0, 0], [1, 1, 1]]\n"
     ]
    }
   ],
   "source": [
    "if __name__ == '__main__':\n",
    "    x = int(input())\n",
    "    y = int(input())\n",
    "    z = int(input())\n",
    "    n = int(input())\n",
    "    \n",
    "    print([[i,j,k] for i in range(0,x+1) for j in range(0,y+1) for k in range(0,z+1) if i+j+k is not n ])"
   ]
  },
  {
   "cell_type": "markdown",
   "metadata": {},
   "source": [
    "### Find the Runner-Up Score ! \n",
    "\n",
    "Given the participants' score sheet for your University Sports Day, you are required to find the runner-up score. You are given  **n** scores. Store them in a list and find the score of the runner-up."
   ]
  },
  {
   "cell_type": "code",
   "execution_count": 1,
   "metadata": {},
   "outputs": [
    {
     "name": "stdout",
     "output_type": "stream",
     "text": [
      "5\n",
      "2 3 6 6 5\n",
      "5\n"
     ]
    }
   ],
   "source": [
    "if __name__ == '__main__':\n",
    "    n = int(input())\n",
    "    arr = list(map(int, input().split()))\n",
    "    \n",
    "    max =  arr[0]\n",
    "    runner = -9999\n",
    "    for score in arr[1:]:\n",
    "        if score > max:\n",
    "            runner = max\n",
    "            max = score\n",
    "        elif score < max and score > runner:\n",
    "            runner = score\n",
    "    print(runner)"
   ]
  },
  {
   "cell_type": "markdown",
   "metadata": {},
   "source": [
    "### Nested List\n",
    "Given the names and grades for each student in a Physics class of **N** students, store them in a nested list and print the name(s) of any student(s) having the second lowest grade."
   ]
  },
  {
   "cell_type": "code",
   "execution_count": 2,
   "metadata": {},
   "outputs": [
    {
     "name": "stdout",
     "output_type": "stream",
     "text": [
      "5\n",
      "Harry\n",
      "37.21\n",
      "Berry\n",
      "37.21\n",
      "Tina\n",
      "37.2\n",
      "Akriti\n",
      "41\n",
      "Harsh\n",
      "39\n",
      "Berry\n",
      "Harry\n"
     ]
    }
   ],
   "source": [
    "if __name__ == '__main__':\n",
    "    \n",
    "    list_of_students = []\n",
    "    # Take input\n",
    "    for _ in range(int(input())):\n",
    "        name = input()\n",
    "        score = float(input())\n",
    "        list_of_students.append([name,score])\n",
    "    \n",
    "    lowest_grade = 100\n",
    "    second_lowest_grade = 99\n",
    "    \n",
    "    # Find Second Lowest Grade \n",
    "    for student in list_of_students:\n",
    "        if student[1]<lowest_grade:\n",
    "            second_lowest_grade = lowest_grade\n",
    "            lowest_grade = student[1]\n",
    "        \n",
    "        if student[1]> lowest_grade and student[1] < second_lowest_grade:\n",
    "            second_lowest_grade = student[1]\n",
    "    \n",
    "    # Create a list of students who got second lowest grade\n",
    "    second_lowest_grade_students=[]\n",
    "    for student in list_of_students:\n",
    "        if student[1] == second_lowest_grade:\n",
    "            second_lowest_grade_students.append(student)\n",
    "            \n",
    "    second_lowest_grade_students.sort()\n",
    "    \n",
    "    for student in second_lowest_grade_students:\n",
    "        print(student[0])"
   ]
  },
  {
   "cell_type": "markdown",
   "metadata": {},
   "source": [
    "### Finding the percentage \n",
    "You have a record of **N** students. Each record contains the student's name, and their percent marks in Maths, Physics and Chemistry. The marks can be floating values. The user enters some integer **N** followed by the names and marks for **N** students. You are required to save the record in a dictionary data type. The user then enters a student's name. Output the average percentage marks obtained by that student, correct to two decimal places."
   ]
  },
  {
   "cell_type": "code",
   "execution_count": 3,
   "metadata": {},
   "outputs": [
    {
     "name": "stdout",
     "output_type": "stream",
     "text": [
      "3\n",
      "Krishna 67 68 69\n",
      "Arjun 70 98 83\n",
      "Malika 52 56 60\n",
      "Malika\n",
      "56.00\n"
     ]
    }
   ],
   "source": [
    "if __name__ == '__main__':\n",
    "    n = int(input())\n",
    "    student_marks = {}\n",
    "    for _ in range(n):\n",
    "        name, *line = input().split()\n",
    "        scores = list(map(float, line))\n",
    "        student_marks[name] = scores\n",
    "    query_name = input()\n",
    "    \n",
    "    query_scores= student_marks[query_name]\n",
    "    print(\"{0:.2f}\".format(sum(query_scores)/(len(query_scores))))"
   ]
  }
 ],
 "metadata": {
  "kernelspec": {
   "display_name": "Python 3",
   "language": "python",
   "name": "python3"
  },
  "language_info": {
   "codemirror_mode": {
    "name": "ipython",
    "version": 3
   },
   "file_extension": ".py",
   "mimetype": "text/x-python",
   "name": "python",
   "nbconvert_exporter": "python",
   "pygments_lexer": "ipython3",
   "version": "3.6.4"
  }
 },
 "nbformat": 4,
 "nbformat_minor": 2
}
